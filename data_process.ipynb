{
 "cells": [
  {
   "cell_type": "code",
   "execution_count": 18,
   "metadata": {},
   "outputs": [
    {
     "data": {
      "text/plain": [
       "True"
      ]
     },
     "execution_count": 18,
     "metadata": {},
     "output_type": "execute_result"
    }
   ],
   "source": [
    "from dotenv import load_dotenv\n",
    "load_dotenv()"
   ]
  },
  {
   "cell_type": "code",
   "execution_count": 9,
   "metadata": {},
   "outputs": [],
   "source": [
    "from docx import Document\n",
    "import json\n",
    "\n",
    "def extract_data(file_path):\n",
    "    doc = Document(file_path)\n",
    "    data = []\n",
    "    \n",
    "    for table in doc.tables:\n",
    "        for row in table.rows[1:]:  # Пропускаем заголовок\n",
    "            cells = row.cells\n",
    "            item = {\n",
    "                \"id\": len(data) + 1,  # Генерация ID\n",
    "                \"name\": cells[0].text.strip(),\n",
    "                \"image_text\": cells[1].text.strip(),\n",
    "                \"description\": cells[2].text.strip(),\n",
    "                \"price\": cells[3].text.strip(),  # Преобразуем в число\n",
    "                \"currency\": \"руб.\",\n",
    "                \"text_for_embedding\": f\"{cells[0].text.strip()} {cells[1].text.strip()} {cells[2].text.strip()}\",  # Для ChromaDB\n",
    "                \"source\": file_path\n",
    "            }\n",
    "            data.append(item)\n",
    "    \n",
    "    return data\n",
    "\n",
    "# Сохранение в JSON\n",
    "data = extract_data(\"КП/КП артстрой.docx\")\n",
    "dataset = {\"products\": data}\n",
    "with open(\"products.json\", \"w\", encoding=\"utf-8\") as f:\n",
    "    json.dump(data, f, indent=2, ensure_ascii=False)\n"
   ]
  },
  {
   "cell_type": "code",
   "execution_count": 36,
   "metadata": {},
   "outputs": [
    {
     "name": "stdout",
     "output_type": "stream",
     "text": [
      "\n",
      "04.09.2024.\n",
      "\n",
      "\n",
      "17.01.2023\n",
      "\n",
      "\n",
      "\n",
      "02.02.2023.\n",
      "17.01.2023\n",
      "\n",
      "13.04.2023\n",
      "12.04.2023\n",
      "19.06.2023\n",
      "31.03.2023.\n",
      "03.04.2023.\n",
      "16.05.2023\n",
      "17.05.2023.\n",
      "23.11.2023.\n",
      "23.11.2023.\n",
      "12.01.2023\n",
      "12.12.2022\n",
      "2.08.2024.\n",
      "23.1.2024.\n",
      "23.11.2023.\n",
      "21.12.2023.\n",
      "01.06.2023.\n",
      "24.03.2023.\n",
      "27.01.2023.\n",
      "13.01.2023\n",
      "17.01.2024.\n",
      "17.05.2023\n",
      "20.06.2023\n",
      "02.02.2023.\n",
      "2.02.2024.\n",
      "12.04.2023\n",
      "21.04.2023.\n",
      "29.01.2024.\n",
      "\n",
      "26.01.2023.\n",
      "13.04.2023\n"
     ]
    }
   ],
   "source": [
    "import os \n",
    "\n",
    "for file in os.listdir(\"КП\"):\n",
    "    doc = Document(f\"КП/{file}\")\n",
    "    text = doc.paragraphs[1].text.strip()\n",
    "    result = re.sub(r'[а-яА-Я\\s]', '', text)\n",
    "    print(result)"
   ]
  },
  {
   "cell_type": "code",
   "execution_count": 1,
   "metadata": {},
   "outputs": [
    {
     "name": "stderr",
     "output_type": "stream",
     "text": [
      "/tmp/ipykernel_25778/69074728.py:24: LangChainDeprecationWarning: The class `HuggingFaceEmbeddings` was deprecated in LangChain 0.2.2 and will be removed in 1.0. An updated version of the class exists in the :class:`~langchain-huggingface package and should be used instead. To use it run `pip install -U :class:`~langchain-huggingface` and import as `from :class:`~langchain_huggingface import HuggingFaceEmbeddings``.\n",
      "  embedding_function = HuggingFaceEmbeddings()\n",
      "/tmp/ipykernel_25778/69074728.py:24: LangChainDeprecationWarning: Default values for HuggingFaceEmbeddings.model_name were deprecated in LangChain 0.2.16 and will be removed in 0.4.0. Explicitly pass a model_name to the HuggingFaceEmbeddings constructor instead.\n",
      "  embedding_function = HuggingFaceEmbeddings()\n",
      "/home/wormsin/miniconda3/envs/genai/lib/python3.10/site-packages/tqdm/auto.py:21: TqdmWarning: IProgress not found. Please update jupyter and ipywidgets. See https://ipywidgets.readthedocs.io/en/stable/user_install.html\n",
      "  from .autonotebook import tqdm as notebook_tqdm\n"
     ]
    }
   ],
   "source": [
    "from langchain.vectorstores import Chroma\n",
    "from langchain_ollama import OllamaEmbeddings\n",
    "from langchain_community.embeddings import HuggingFaceEmbeddings\n",
    "\n",
    "from langchain.document_loaders import JSONLoader\n",
    "\n",
    "def metadata_func(record: dict, metadata: dict) -> dict:\n",
    "    metadata[\"name\"] = record.get(\"name\")\n",
    "    metadata[\"price\"] = record.get(\"price\")\n",
    "    metadata[\"currency\"] = record.get(\"currency\")\n",
    "    return metadata\n",
    "\n",
    "\n",
    "loader = JSONLoader(\n",
    "    file_path=\"products.json\",\n",
    "    jq_schema=\".[]\",\n",
    "    content_key=\"text_for_embedding\",\n",
    "    metadata_func=metadata_func\n",
    "    #text_content=False\n",
    ")\n",
    "\n",
    "documents = loader.load()\n",
    "\n",
    "embedding_function = HuggingFaceEmbeddings()\n",
    "\n",
    "vector_db = Chroma.from_documents(documents, embedding=embedding_function)\n"
   ]
  },
  {
   "cell_type": "code",
   "execution_count": 3,
   "metadata": {},
   "outputs": [],
   "source": [
    "retriever = vector_db.as_retriever(search_type = \"mmr\")"
   ]
  },
  {
   "cell_type": "code",
   "execution_count": 33,
   "metadata": {},
   "outputs": [],
   "source": [
    "description = \"\"\"КУРТКА:\n",
    "- прямого силуэта\n",
    "- с центральной супатной застёжкой на пять пуговиц и две сквозные вверху борта\n",
    "- полочки и спинка с кокетками из отделочной ткани\n",
    "- по кокеткам проложена СОП шириной 50 мм\n",
    "- полочки с накладными карманами: одним верхними на левой полочке и двумя нижними\n",
    "- верхний накладной карман с клапаном, застёгивающимся на ленты контакт\n",
    "- нижние накладные карманы с наклонным входом\n",
    "- рукава втачные, с трикотажной манжетой\"\"\""
   ]
  },
  {
   "cell_type": "code",
   "execution_count": 34,
   "metadata": {},
   "outputs": [],
   "source": [
    "def format_docs(docs):\n",
    "    return \"\\n\\n\".join([f\"Price: {doc.metadata['price'] + doc.metadata['currency']}\\nContent: {doc.page_content}\" for doc in docs])"
   ]
  },
  {
   "cell_type": "code",
   "execution_count": 35,
   "metadata": {},
   "outputs": [],
   "source": [
    "docs = retriever.invoke(description)\n",
    "formatted_docs = format_docs(docs)"
   ]
  },
  {
   "cell_type": "code",
   "execution_count": 37,
   "metadata": {},
   "outputs": [],
   "source": [
    "from langchain_core.prompts import PromptTemplate\n",
    "from langchain_ollama.llms import OllamaLLM\n",
    "from langchain_core.output_parsers import StrOutputParser\n",
    "\n",
    "llm =  OllamaLLM(model=\"deepseek-r1\")\n",
    "\n",
    "template = \"\"\"\n",
    "Calculate the price of the new product based on the context. User gives you the discription of the new product.\n",
    "You find prices in the \"Price\" and description of the known products in the \"Content\". You need to clearly indicate the parameters\n",
    "that influenced the cost and how(is it increase the price or reduce). You need to indicate the price as a specific number, if this is not possible, write why, \n",
    "what needs to be clarified, what parameters are missing.\n",
    "If the context doesn't contain any relevant information to the question, don't make something up and just say \"I don't know\":\n",
    "\n",
    "<context>\n",
    "{context}\n",
    "</context>\n",
    "\n",
    "question: {question}\n",
    "\n",
    "\"\"\"\n",
    "prompt = PromptTemplate(input_variables=[\"context\", \"question\"], template=template)\n",
    "\n",
    "llm_chain = prompt | llm | StrOutputParser()"
   ]
  },
  {
   "cell_type": "code",
   "execution_count": 38,
   "metadata": {},
   "outputs": [],
   "source": [
    "# Adjust your code to include an 'input' dictionary\n",
    "input_data = {\n",
    "    'context': formatted_docs,\n",
    "    'question': description,\n",
    "}"
   ]
  },
  {
   "cell_type": "code",
   "execution_count": null,
   "metadata": {},
   "outputs": [],
   "source": [
    "print(llm_chain.invoke(input=input_data))"
   ]
  },
  {
   "cell_type": "code",
   "execution_count": 40,
   "metadata": {},
   "outputs": [],
   "source": [
    "from langchain_core.runnables import RunnablePassthrough, RunnableLambda\n",
    "\n",
    "rag_chain = {\"context\":retriever | RunnableLambda(format_docs), \"question\": RunnablePassthrough()} | llm_chain"
   ]
  },
  {
   "cell_type": "code",
   "execution_count": 41,
   "metadata": {},
   "outputs": [
    {
     "name": "stdout",
     "output_type": "stream",
     "text": [
      "<think>\n",
      "Alright, so I need to calculate the price of a new product based on the given context. The user has provided some existing products with their prices and descriptions. My task is to use this information to determine a reasonable price for another product.\n",
      "\n",
      "First, let me look at the context provided. There are four different products listed:\n",
      "\n",
      "1. **Костюм сварщика Гефест-СОП 2 кл. защиты (тк. Хлопок-ОП,420) брюки, черный**  \n",
      "   - Price: 7890 руб.\n",
      "\n",
      "2. **Валенки обрезиненные**  \n",
      "   - Price: 1870 руб.\n",
      "\n",
      "3. **Костюм зимний Труженик-Ультра-2 (тк. Смесовая,210) п/к, т.синий/васильковый Ткань \"Грета\" 65% полиэфир / 35% хлопок (+/-5%),密度 210 гр/м², ВО-пропитка**  \n",
      "   - Price: 4000 руб.\n",
      "\n",
      "4. **Сапоги мужские Войлочные Ангора ЭВА Step САПОГИ**  \n",
      "   - Price: 1085 руб.\n",
      "\n",
      "The user's question is about a new product, which is another variant of a **куртка (coat)** with specific features. The description provided includes various parameters like the silhouette, central button placket with two side buttons on top, fabric details, and several pockets.\n",
      "\n",
      "To determine the price, I need to compare this new product with the existing ones in the context. Let's break down each parameter:\n",
      "\n",
      "1. **Silhouette**: \"Прямого силуэта\" (Straight silhouette). Looking at the existing products:\n",
      "   - The first one is a straight cut.\n",
      "   - The third one also has a straight silhouette but mentions \"Смешная,210\", which might indicate a more tailored look.\n",
      "   So, this new product seems to follow the same silhouette as the first one.\n",
      "\n",
      "2. **Central button placket with two side buttons on top**:  \n",
      "   - First product: Central button placket with 420 (presumably meaning 420 buttons? Not sure). It has 5 buttons total and 2 side buttons.\n",
      "   - Third product: Also central button placket, but the description is in Russian; I'm assuming it's a similar setup.\n",
      "   So, this new product follows the same pattern as the first one.\n",
      "\n",
      "3. **Front and back fabric**: \"Полочки и спинка с кокетками из отделочной ткани\".  \n",
      "   - First product: The fabric for the fronts and backs is \"Грета\" (satin), 65% poliester, 35% cotton with a ±5% variation.  \n",
      "   - The third product uses \"Ткань Грета\" as well but with different composition.\n",
      "   So, this new product seems to use the same fabric quality and type.\n",
      "\n",
      "4. **Collars**: Both upper and lower collars with one top button on the left and two buttons at the bottom for adjustments.  \n",
      "   - First product: Central button placket with side buttons; no mention of collars in description.\n",
      "   Hmm, this might be a different feature from existing products.\n",
      "\n",
      "5. **Pockets**: \"Полочки с накладными карманами: одним верхними на левой полочке и двумя нижними.\"  \n",
      "   - First product: It has four buttons with two side buttons; no mention of pockets.\n",
      "   The third product's description is unclear regarding pockets, but it mentions \"втачные\" (seamed) fabric.  \n",
      "   So, this new product seems to have more pockets than the first and similar to none or less than the third.\n",
      "\n",
      "6. **Sleeves**: \"Рукава втачные, с трикотажной манжетой\".  \n",
      "   - First product: The sleeves are smooth (гладкие).  \n",
      "   So, this new product has seamed sleeves, which is a bit more complex but might affect the price.\n",
      "\n",
      "Now, considering these parameters:\n",
      "\n",
      "- The first product (7890 руб.) seems to be the most similar. However, it doesn't have pockets as described in the question.\n",
      "- There's no direct comparison with another product that has these specific features except perhaps the third one, which is a winter coat with different fabric composition.\n",
      "\n",
      "The third product (4000 руб.) uses \"Ткань Грета\" and has a similar structure but mentions it's for cold conditions. The new product also seems to be designed for cold weather given the presence of collars or something like that, though not explicitly stated.\n",
      "\n",
      "However, in the description provided, there are no details about buttons on the sleeves ( armholes?)—the term used is \"ввашины\" which means \"armholes\". It says \"с трикотажной манжетой\", so perhaps seamed at the armholes. This might be a more complex construction compared to the first product, where the sleeves are smooth.\n",
      "\n",
      "Therefore, considering the similarities and differences:\n",
      "\n",
      "- Collars (not present in existing products)\n",
      "- Pockets: More than some others\n",
      "- Sleeve construction\n",
      "\n",
      "Given that collars and pockets are additions not present in all previous products, they might contribute positively but at a higher cost. However, if these features make it a better quality or more suitable for cold weather, the price could be adjusted accordingly.\n",
      "\n",
      "Looking at the existing prices:\n",
      "\n",
      "- First product: 7890 руб.\n",
      "- Third product: 4000 руб., which has similar fabric and is more tailored but perhaps targeted towards winter use as well.\n",
      "\n",
      "Since the new product adds some unique features (collars with adjustment buttons, multiple pockets), it might justify a higher price than the third product but not necessarily as high as the first one because those features are also present there.\n",
      "\n",
      "However, without knowing if the other parameters like fabric quality or construction complexity affect the price differently, it's tricky. The first product has smooth sleeves (гладкие) while this new one is seamed at armholes, which might be more labor-intensive but could be as expensive or slightly higher.\n",
      "\n",
      "Considering that 4000 руб. for the third product already includes similar fabric and features, adding a bit more might take it to around 5000-6000 руб., depending on how significant those added features are in terms of cost.\n",
      "\n",
      "But since collars with buttons aren't standard in existing products, their addition could increase the price by, say, 1000-2000 руб. over the base fabric-based product.\n",
      "\n",
      "So adding that to the 4000 руб., we might get something like 5000-6000 руб.\n",
      "\n",
      "Alternatively, comparing directly with the first product (7890) but it's missing features mentioned here.\n",
      "\n",
      "Therefore, perhaps a mid-range between 4000 and 7890, maybe around 6000-7000?\n",
      "\n",
      "But given that this new product has some unique features beyond just fabric (like buttons on collars), the price might be higher than 4000 but not as high as the first.\n",
      "\n",
      "So perhaps 5500-6000 руб. But I'm not entirely sure without more information.\n",
      "</think>\n",
      "\n",
      "The estimated price for the new kurta, considering its unique features such as collars with adjustment buttons and multiple pockets, would be approximately **5500 - 6000 rubles**.\n"
     ]
    }
   ],
   "source": [
    "print(rag_chain.invoke(description))"
   ]
  }
 ],
 "metadata": {
  "kernelspec": {
   "display_name": "genai",
   "language": "python",
   "name": "python3"
  },
  "language_info": {
   "codemirror_mode": {
    "name": "ipython",
    "version": 3
   },
   "file_extension": ".py",
   "mimetype": "text/x-python",
   "name": "python",
   "nbconvert_exporter": "python",
   "pygments_lexer": "ipython3",
   "version": "3.10.16"
  }
 },
 "nbformat": 4,
 "nbformat_minor": 2
}
