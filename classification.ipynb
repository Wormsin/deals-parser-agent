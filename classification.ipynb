{
 "cells": [
  {
   "cell_type": "markdown",
   "metadata": {},
   "source": [
    "## JSON Agent"
   ]
  },
  {
   "cell_type": "code",
   "execution_count": 1,
   "metadata": {},
   "outputs": [
    {
     "data": {
      "text/plain": [
       "True"
      ]
     },
     "execution_count": 1,
     "metadata": {},
     "output_type": "execute_result"
    }
   ],
   "source": [
    "from dotenv import load_dotenv\n",
    "import os\n",
    "import json\n",
    "import openai\n",
    "import pandas as pd\n",
    "from langchain.chat_models import ChatOpenAI\n",
    "from langchain.schema import HumanMessage\n",
    "from langchain_community.document_loaders import UnstructuredFileLoader\n",
    "\n",
    "load_dotenv()\n"
   ]
  },
  {
   "cell_type": "code",
   "execution_count": 2,
   "metadata": {},
   "outputs": [],
   "source": [
    "def extract_text_from_file(file_path):\n",
    "    text_data = []\n",
    "    try:\n",
    "        loader = UnstructuredFileLoader(file_path)\n",
    "        docs = loader.load()\n",
    "        text_data.append(\"\\n\\n\".join([doc.page_content for doc in docs]))\n",
    "    except Exception as e:\n",
    "        print(f\"⚠️ Ошибка при обработке {file_path}: {e}\")\n",
    "\n",
    "    return \"\\n\\n\".join(text_data)\n",
    "\n",
    "def convert_to_json(text):\n",
    "    prompt = f\"\"\"\n",
    "        Ты получишь текстовые данные с описанием товаров. Они могут быть как табличными так и текст с описанием товаров.  \n",
    "        Верни два списка со следующими структурами. \n",
    "        1. Общая характеристика заявки со струткурой:\n",
    "        [\n",
    "        {{\n",
    "            \"номер заявки\": int,         // используй UUID v4 для генерации уникального номера заявки\n",
    "            \"дата\": datetime,  // дата прихода заявки\n",
    "            \"товары\": [int]        // уникальные id для каждого товара в этой заявке \n",
    "        }}\n",
    "        ]\n",
    "        2.\n",
    "        [\n",
    "        {{\n",
    "            \"ID\": int,         // id-товара из первого json файла\n",
    "            \"описание\": \"string\" // описание товара, если нет оставь пустым \n",
    "            \"наименование\": \"string\",  // наименование товара\n",
    "            \"размеры\": [\"string/int\"],      // Список доступных размеров (если нет, укажи []), размеры могут иметь следующий вид: l70-176;48-50;S/M/L\n",
    "            \"кол-во\": [\"int\"]         // Количество товаров для каждого размера или общее количество (если размеров нет, укажи [общее число]), количество часто это число перед шт. : 5 шт.\n",
    "        }}\n",
    "        ]\n",
    "        Правила обработки данных:\n",
    "        Извлекай только нужные данные: игнорируй любые другие колонки и текст.\n",
    "        \"размеры\" – если размеры указаны, представь их в виде списка [\"S\", \"M\", \"L\"] или [\"44\", \"56\"], если их нет — укажи [\"one-size\"].\n",
    "        \"кол-во\" – Если есть размеры, указывай количество товаров для каждого размера в том же порядке, что и \"размеры\". \n",
    "        Если размеров нет, но указано общее количество, записывай его как список с одним числом [\"количество\"]. \n",
    "        \n",
    "        Важно:\n",
    "        Если есть таблицы: анализируй заголовки таблиц и извлекай данные корректно.\n",
    "        Соблюдай указанную структуру без лишний слов. Ответ должен содержать два массива через запятую.\n",
    "\n",
    "        Вот данные:\n",
    "        {text}\n",
    "    \"\"\"\n",
    "    \n",
    "    llm = ChatOpenAI(model_name=\"gpt-4o-mini\", temperature=0)\n",
    "    response = llm([HumanMessage(content=prompt)])\n",
    "    return response.content.strip(\"```json\").strip(\"```\")\n",
    "\n",
    "def process_files(dir):\n",
    "    \n",
    "    for file_name in os.listdir(dir):\n",
    "        file_path = os.path.join(dir, file_name)\n",
    "        text_data = extract_text_from_file(file_path)\n",
    "        json_data = convert_to_json(text_data)\n",
    "    \n",
    "        #return json_data\n",
    "        output_file = os.path.splitext(f'json_price/{file_name}')[0]+'.json'\n",
    "\n",
    "        with open(output_file, \"w\", encoding=\"utf-8\") as f:\n",
    "            json.dump(json.loads(json_data), f, indent=4, ensure_ascii=False)\n",
    "        print(f\"✅ Данные сохранены в {output_file}!\")"
   ]
  },
  {
   "cell_type": "code",
   "execution_count": 10,
   "metadata": {},
   "outputs": [],
   "source": [
    "text_data = extract_text_from_file(\"exmp_data/ЗАЯВКА НА СПЕЦОДЕЖДУ (1).pdf\")\n",
    "json_data = convert_to_json(text_data)\n"
   ]
  },
  {
   "cell_type": "code",
   "execution_count": 11,
   "metadata": {},
   "outputs": [
    {
     "name": "stdout",
     "output_type": "stream",
     "text": [
      "\n",
      "[\n",
      "    {\n",
      "        \"номер заявки\": \"f47ac10b-58cc-4372-a567-0e02b2c3d479\",\n",
      "        \"дата\": \"2024-02-22T00:00:00\",\n",
      "        \"товары\": [1, 2, 3, 4, 5, 6, 7, 8, 9, 10]\n",
      "    }\n",
      "],\n",
      "[\n",
      "    {\n",
      "        \"ID\": 1,\n",
      "        \"описание\": \"\",\n",
      "        \"наименование\": \"Костюм (6прокн)\",\n",
      "        \"размеры\": [\"44\", \"46\", \"48\", \"50\", \"52\", \"54\", \"56\", \"58\", \"60\", \"62\", \"64\", \"66\", \"68\", \"70\"],\n",
      "        \"кол-во\": [\"5\", \"30\", \"15\", \"5\", \"90\", \"70\", \"5\", \"30\", \"5\", \"10\", \"5\", \"2\", \"1\"]\n",
      "    },\n",
      "    {\n",
      "        \"ID\": 2,\n",
      "        \"описание\": \"\",\n",
      "        \"наименование\": \"Костюм (6прокн)\",\n",
      "        \"размеры\": [\"40\", \"42\"],\n",
      "        \"кол-во\": [\"2\", \"3\"]\n",
      "    },\n",
      "    {\n",
      "        \"ID\": 3,\n",
      "        \"описание\": \"\",\n",
      "        \"наименование\": \"Костюм (6прокн)\",\n",
      "        \"размеры\": [\"44\", \"46\"],\n",
      "        \"кол-во\": [\"30\", \"10\"]\n",
      "    },\n",
      "    {\n",
      "        \"ID\": 4,\n",
      "        \"описание\": \"\",\n",
      "        \"наименование\": \"Костюм (6прокн)\",\n",
      "        \"размеры\": [\"48\", \"50\"],\n",
      "        \"кол-во\": [\"25\", \"30\"]\n",
      "    },\n",
      "    {\n",
      "        \"ID\": 5,\n",
      "        \"описание\": \"\",\n",
      "        \"наименование\": \"Костюм (6прокн)\",\n",
      "        \"размеры\": [\"52\", \"54\"],\n",
      "        \"кол-во\": [\"25\", \"35\"]\n",
      "    },\n",
      "    {\n",
      "        \"ID\": 6,\n",
      "        \"описание\": \"\",\n",
      "        \"наименование\": \"Костюм (6прокн)\",\n",
      "        \"размеры\": [\"56\", \"58\"],\n",
      "        \"кол-во\": [\"20\", \"10\"]\n",
      "    },\n",
      "    {\n",
      "        \"ID\": 7,\n",
      "        \"описание\": \"\",\n",
      "        \"наименование\": \"Костюм (6прокн)\",\n",
      "        \"размеры\": [\"60\", \"62\"],\n",
      "        \"кол-во\": [\"10\", \"10\"]\n",
      "    },\n",
      "    {\n",
      "        \"ID\": 8,\n",
      "        \"описание\": \"\",\n",
      "        \"наименование\": \"Костюм (6прокн)\",\n",
      "        \"размеры\": [\"64\", \"66\"],\n",
      "        \"кол-во\": [\"5\", \"5\"]\n",
      "    },\n",
      "    {\n",
      "        \"ID\": 9,\n",
      "        \"описание\": \"\",\n",
      "        \"наименование\": \"Костюм (6прокн)\",\n",
      "        \"размеры\": [\"68\", \"70\"],\n",
      "        \"кол-во\": [\"3\", \"1\"]\n",
      "    },\n",
      "    {\n",
      "        \"ID\": 10,\n",
      "        \"описание\": \"\",\n",
      "        \"наименование\": \"Костюм (6прокн)\",\n",
      "        \"размеры\": [\"one-size\"],\n",
      "        \"кол-во\": [\"1\"]\n",
      "    }\n",
      "]\n",
      "\n"
     ]
    }
   ],
   "source": [
    "print(json_data)"
   ]
  },
  {
   "cell_type": "code",
   "execution_count": 51,
   "metadata": {},
   "outputs": [
    {
     "name": "stdout",
     "output_type": "stream",
     "text": [
      "✅ Данные сохранены в json_price/Прайc_на_ОБУВЬ_ЛЕТО_сентябрь_2024.json!\n",
      "✅ Данные сохранены в json_price/Прайc_на_перчатки_сентябрь_2024.json!\n",
      "✅ Данные сохранены в json_price/Прайс лист_ЗИМА_2024-2025.json!\n",
      "✅ Данные сохранены в json_price/Прайс лист_ЗИМА_перекупные позиции.json!\n",
      "✅ Данные сохранены в json_price/Прайс лист_СИЗ_2024-2025.json!\n",
      "✅ Данные сохранены в json_price/Прайс_лист_Швецъ_ЛЕТО_2024.json!\n"
     ]
    }
   ],
   "source": [
    "process_files(\"датасет_прайс\")"
   ]
  },
  {
   "cell_type": "markdown",
   "metadata": {},
   "source": [
    "## vecotr db"
   ]
  },
  {
   "cell_type": "code",
   "execution_count": 4,
   "metadata": {},
   "outputs": [],
   "source": [
    "#from langchain_ollama import OllamaEmbeddings\n",
    "#from langchain_community.embeddings import HuggingFaceEmbeddings\n",
    "from langchain_openai import OpenAIEmbeddings\n",
    "\n",
    "from uuid import uuid4\n",
    "import json\n",
    "from langchain.schema import Document\n",
    "import os"
   ]
  },
  {
   "cell_type": "code",
   "execution_count": 2,
   "metadata": {},
   "outputs": [],
   "source": [
    "import re\n",
    "import pymorphy2\n",
    "\n",
    "morph = pymorphy2.MorphAnalyzer()\n",
    "\n",
    "def preprocess_text(text):\n",
    "    text = text.lower()  # Lowercase\n",
    "    text = re.sub(r'\\s+', ' ', text).strip()  # Remove extra spaces\n",
    "    words = text.split()\n",
    "    lemmatized_words = [morph.parse(word)[0].normal_form for word in words]\n",
    "    return ' '.join(lemmatized_words)"
   ]
  },
  {
   "cell_type": "code",
   "execution_count": 5,
   "metadata": {},
   "outputs": [],
   "source": [
    "docs = []\n",
    "\n",
    "for file_name in os.listdir(\"json_price\"):\n",
    "    file_path = \"json_price/\" + file_name\n",
    "    with open(file_path, \"r\", encoding=\"utf-8\") as f:\n",
    "        products = json.load(f)\n",
    "\n",
    "\n",
    "    for product in products:\n",
    "        name = preprocess_text(product[\"name\"])\n",
    "        description = preprocess_text(product[\"description\"])\n",
    "        metadata = {key: str(product[key]) for key in product if key not in [\"name\", \"description\"]}\n",
    "        metadata[\"currency\"] = \"RUB\"\n",
    "\n",
    "        # Create a LangChain Document object\n",
    "        doc = Document(page_content=f\"{name}. {description}\", metadata=metadata)\n",
    "        docs.append(doc)"
   ]
  },
  {
   "cell_type": "code",
   "execution_count": 6,
   "metadata": {},
   "outputs": [],
   "source": [
    "from langchain_chroma import Chroma\n",
    "\n",
    "\n",
    "#model_name = \"DeepPavlov/rubert-base-cased\"\n",
    "#embedding_model = HuggingFaceEmbeddings(model_name = \"intfloat/multilingual-e5-base\")\n",
    "embedding_model = OpenAIEmbeddings(\n",
    "    model=\"text-embedding-3-large\")\n",
    "\n",
    "vector_store = Chroma(\n",
    "    collection_name=\"products\",\n",
    "    embedding_function=embedding_model,\n",
    "    persist_directory=\"./chroma_langchain_db_price\",  # Where to save data locally, remove if not necessary\n",
    ")"
   ]
  },
  {
   "cell_type": "code",
   "execution_count": 7,
   "metadata": {},
   "outputs": [],
   "source": [
    "uuids = [str(uuid4()) for _ in range(len(docs))]"
   ]
  },
  {
   "cell_type": "code",
   "execution_count": null,
   "metadata": {},
   "outputs": [],
   "source": [
    "vector_store.add_documents(documents=docs, ids = uuids)"
   ]
  },
  {
   "cell_type": "markdown",
   "metadata": {},
   "source": [
    "## retriever"
   ]
  },
  {
   "cell_type": "code",
   "execution_count": 7,
   "metadata": {},
   "outputs": [],
   "source": [
    "from langchain_chroma import Chroma\n",
    "from langchain_openai import OpenAIEmbeddings\n",
    "\n",
    "embedding_model = OpenAIEmbeddings(model=\"text-embedding-3-large\")\n",
    "vector_store = Chroma(embedding_function=embedding_model, collection_name = \"products\", persist_directory=\"./chroma_langchain_db_price\")"
   ]
  },
  {
   "cell_type": "code",
   "execution_count": 8,
   "metadata": {},
   "outputs": [],
   "source": [
    "retriever = vector_store.as_retriever(search_type = \"mmr\")"
   ]
  },
  {
   "cell_type": "code",
   "execution_count": 9,
   "metadata": {},
   "outputs": [
    {
     "data": {
      "text/plain": [
       "[Document(id='04ab094b-5110-4142-b88c-10fad67ba472', metadata={'currency': 'RUB', 'price': '290', 'sizes': \"['one-size']\", 'stock': '[1]'}, page_content='кепка- бейсболка бежевый с чёрный козырёк. '),\n",
       " Document(id='19b9db68-6f2c-4797-8cf6-d13957db10ca', metadata={'currency': 'RUB', 'price': '290', 'sizes': \"['one-size']\", 'stock': '[1]'}, page_content='шапка трикотажный. '),\n",
       " Document(id='b785c72f-ae68-4e0f-a9cc-9f2cca79bbd8', metadata={'currency': 'RUB', 'price': '280', 'sizes': \"['XXL']\", 'stock': '[1]'}, page_content='кепи охранник кмф голубой. '),\n",
       " Document(id='16a1ad8e-abec-413e-b911-f8d52831ea54', metadata={'currency': 'RUB', 'price': '3500', 'sizes': \"['41', '43', '45']\", 'stock': '[5, 1, 3]'}, page_content='ботинок \"корвет\" кпк. ')]"
      ]
     },
     "execution_count": 9,
     "metadata": {},
     "output_type": "execute_result"
    }
   ],
   "source": [
    "retriever.invoke(\"Кепки\")"
   ]
  },
  {
   "cell_type": "markdown",
   "metadata": {},
   "source": [
    "## rag"
   ]
  },
  {
   "cell_type": "code",
   "execution_count": 10,
   "metadata": {},
   "outputs": [],
   "source": [
    "from langchain_openai import ChatOpenAI\n",
    "\n",
    "llm = ChatOpenAI(model_name = \"gpt-4o-mini\")"
   ]
  },
  {
   "cell_type": "code",
   "execution_count": 21,
   "metadata": {},
   "outputs": [],
   "source": [
    "from langchain_core.prompts import PromptTemplate\n",
    "from langchain_core.output_parsers import StrOutputParser\n",
    "\n",
    "template = \"\"\"\n",
    "Ты – эксперт по подбору и производству спецодежды. \n",
    "Ты получаешь на вход следующие JSON-структуры, которые надо дополнить недостоющими параметрами(статусы, аналоги):\n",
    "{question}\n",
    "1. **Общая характеристика заявки**:\n",
    "    ```json\n",
    "    [\n",
    "        {{\n",
    "            \"номер заявки\": \"UUID\",    // Генерируй уникальный UUID v4\n",
    "            \"дата\": \"datetime\",       // Дата поступления заявки\n",
    "            \"товары\": [int]           // Список уникальных ID товаров в этой заявке\n",
    "            \"статус\": string            // Определяется по правилам ниже\n",
    "        }}\n",
    "    ]\n",
    "    ```\n",
    "\n",
    "2. **Детализация каждого товара в заявке**:\n",
    "    ```json\n",
    "    [\n",
    "        {{\n",
    "            \"ID\": int,                    // ID товара из первого JSON\n",
    "            \"описание\": \"string\",         // Описание товара (если нет, оставь пустым)\n",
    "            \"наименование\": \"string\",     // Наименование товара\n",
    "            \"размеры\": [\"string/int\"],    // Доступные размеры (если нет, укажи [])\n",
    "            \"кол-во\": [\"int\"],            // Количество по размерам или общее (если размеров нет, укажи [общее число])\n",
    "            \"статус\": \"string\",           // Определяется по правилам ниже\n",
    "            \"аналоги\": [\"string\"]         // Перечисли найденные аналоги (если нет аналогов, укажи [])\n",
    "        }}\n",
    "    ]\n",
    "    ```\n",
    "\n",
    "### Логика определения **\"статуса\"** для товаров:\n",
    "- `\"ШИТЬ\"` → Если товар является спецодеждой.\n",
    "- `\"КОМПЛЕМЕНТАРНОЕ\"` → Если товар не является одеждой (например, ботинки, кепки, очки).\n",
    "- `\"НЕРЕЛЕВАНТНО\"` → Если товар не относится к спецодежде и СИЗ.\n",
    "\n",
    "### Заполнение поля **\"аналоги\"**:\n",
    "- Подбирай аналоги товара из `{retrieved_products}`.\n",
    "- Если есть подходящие аналоги, укажи их наименования в массиве.\n",
    "- Если аналогов нет, укажи `[]`.\n",
    "\n",
    "### Логика определения **\"статуса\"** заявки:\n",
    "- `\"ШИТЬ\"` → Если хотя бы один товар в JSON 2 имеет статус `\"ШИТЬ\"`.\n",
    "- `\"АНАЛОГИ\"` → Если у всех товаров со статусом `\"ШИТЬ\"` есть аналоги.\n",
    "- `\"НЕРЕЛЕВАНТНО\"` → Если хотя бы один товар имеет статус `\"НЕРЕЛЕВАНТНО\"`.\n",
    "\n",
    "### Формат ответа:\n",
    "Ответ должен содержать **два массива**, разделенных словом `next`, не пиши ```json```:\n",
    "\n",
    "\n",
    "[ ... ]  // JSON 1\n",
    "next\n",
    "[ ... ]  // JSON 2\n",
    "\"\"\""
   ]
  },
  {
   "cell_type": "code",
   "execution_count": 24,
   "metadata": {},
   "outputs": [],
   "source": [
    "from langchain_core.prompts import PromptTemplate\n",
    "from langchain_core.output_parsers import StrOutputParser\n",
    "\n",
    "prompt = PromptTemplate(input_variables=[\"retrieved_products\", \"question\"], template=template)\n",
    "\n",
    "llm_chain = prompt | llm | StrOutputParser()"
   ]
  },
  {
   "cell_type": "code",
   "execution_count": 25,
   "metadata": {},
   "outputs": [],
   "source": [
    "from langchain_core.runnables import RunnablePassthrough, RunnableLambda\n",
    "\n",
    "rag_chain = {\"retrieved_products\":retriever , \"question\": RunnablePassthrough()} | llm_chain"
   ]
  },
  {
   "cell_type": "code",
   "execution_count": 26,
   "metadata": {},
   "outputs": [],
   "source": [
    "request, products = rag_chain.invoke(json_data).split(\"next\")"
   ]
  },
  {
   "cell_type": "code",
   "execution_count": 30,
   "metadata": {},
   "outputs": [],
   "source": [
    "df_zayavki = pd.DataFrame(json.loads(request))\n",
    "df_tovary = pd.DataFrame(json.loads(products))"
   ]
  },
  {
   "cell_type": "code",
   "execution_count": 31,
   "metadata": {},
   "outputs": [
    {
     "data": {
      "text/html": [
       "<div>\n",
       "<style scoped>\n",
       "    .dataframe tbody tr th:only-of-type {\n",
       "        vertical-align: middle;\n",
       "    }\n",
       "\n",
       "    .dataframe tbody tr th {\n",
       "        vertical-align: top;\n",
       "    }\n",
       "\n",
       "    .dataframe thead th {\n",
       "        text-align: right;\n",
       "    }\n",
       "</style>\n",
       "<table border=\"1\" class=\"dataframe\">\n",
       "  <thead>\n",
       "    <tr style=\"text-align: right;\">\n",
       "      <th></th>\n",
       "      <th>номер заявки</th>\n",
       "      <th>дата</th>\n",
       "      <th>товары</th>\n",
       "      <th>статус</th>\n",
       "    </tr>\n",
       "  </thead>\n",
       "  <tbody>\n",
       "    <tr>\n",
       "      <th>0</th>\n",
       "      <td>b2c7a74e-9449-4f2c-9b2f-d39a3e14b06f</td>\n",
       "      <td>2023-10-01T00:00:00</td>\n",
       "      <td>[1, 2, 3]</td>\n",
       "      <td>ШИТЬ</td>\n",
       "    </tr>\n",
       "  </tbody>\n",
       "</table>\n",
       "</div>"
      ],
      "text/plain": [
       "                           номер заявки                 дата     товары статус\n",
       "0  b2c7a74e-9449-4f2c-9b2f-d39a3e14b06f  2023-10-01T00:00:00  [1, 2, 3]   ШИТЬ"
      ]
     },
     "execution_count": 31,
     "metadata": {},
     "output_type": "execute_result"
    }
   ],
   "source": [
    "df_zayavki"
   ]
  },
  {
   "cell_type": "code",
   "execution_count": 32,
   "metadata": {},
   "outputs": [
    {
     "data": {
      "text/html": [
       "<div>\n",
       "<style scoped>\n",
       "    .dataframe tbody tr th:only-of-type {\n",
       "        vertical-align: middle;\n",
       "    }\n",
       "\n",
       "    .dataframe tbody tr th {\n",
       "        vertical-align: top;\n",
       "    }\n",
       "\n",
       "    .dataframe thead th {\n",
       "        text-align: right;\n",
       "    }\n",
       "</style>\n",
       "<table border=\"1\" class=\"dataframe\">\n",
       "  <thead>\n",
       "    <tr style=\"text-align: right;\">\n",
       "      <th></th>\n",
       "      <th>ID</th>\n",
       "      <th>описание</th>\n",
       "      <th>наименование</th>\n",
       "      <th>размеры</th>\n",
       "      <th>кол-во</th>\n",
       "      <th>статус</th>\n",
       "      <th>аналоги</th>\n",
       "    </tr>\n",
       "  </thead>\n",
       "  <tbody>\n",
       "    <tr>\n",
       "      <th>0</th>\n",
       "      <td>1</td>\n",
       "      <td></td>\n",
       "      <td>Кепки</td>\n",
       "      <td>[one-size]</td>\n",
       "      <td>[100]</td>\n",
       "      <td>КОМПЛЕМЕНТАРНОЕ</td>\n",
       "      <td>[]</td>\n",
       "    </tr>\n",
       "    <tr>\n",
       "      <th>1</th>\n",
       "      <td>2</td>\n",
       "      <td></td>\n",
       "      <td>Футболки с логотипом на груди</td>\n",
       "      <td>[48-50, 52-54, 60-62]</td>\n",
       "      <td>[2, 1, 5]</td>\n",
       "      <td>ШИТЬ</td>\n",
       "      <td>[]</td>\n",
       "    </tr>\n",
       "    <tr>\n",
       "      <th>2</th>\n",
       "      <td>3</td>\n",
       "      <td></td>\n",
       "      <td>Футболки Поло с двумя логотипами</td>\n",
       "      <td>[48-50, 52-54, 56-58]</td>\n",
       "      <td>[2, 3, 2]</td>\n",
       "      <td>ШИТЬ</td>\n",
       "      <td>[]</td>\n",
       "    </tr>\n",
       "  </tbody>\n",
       "</table>\n",
       "</div>"
      ],
      "text/plain": [
       "   ID описание                      наименование                размеры  \\\n",
       "0   1                                      Кепки             [one-size]   \n",
       "1   2              Футболки с логотипом на груди  [48-50, 52-54, 60-62]   \n",
       "2   3           Футболки Поло с двумя логотипами  [48-50, 52-54, 56-58]   \n",
       "\n",
       "      кол-во           статус аналоги  \n",
       "0      [100]  КОМПЛЕМЕНТАРНОЕ      []  \n",
       "1  [2, 1, 5]             ШИТЬ      []  \n",
       "2  [2, 3, 2]             ШИТЬ      []  "
      ]
     },
     "execution_count": 32,
     "metadata": {},
     "output_type": "execute_result"
    }
   ],
   "source": [
    "df_tovary"
   ]
  }
 ],
 "metadata": {
  "kernelspec": {
   "display_name": "genai",
   "language": "python",
   "name": "python3"
  },
  "language_info": {
   "codemirror_mode": {
    "name": "ipython",
    "version": 3
   },
   "file_extension": ".py",
   "mimetype": "text/x-python",
   "name": "python",
   "nbconvert_exporter": "python",
   "pygments_lexer": "ipython3",
   "version": "3.10.16"
  }
 },
 "nbformat": 4,
 "nbformat_minor": 2
}
