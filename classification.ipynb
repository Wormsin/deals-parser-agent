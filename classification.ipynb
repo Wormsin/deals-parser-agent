{
 "cells": [
  {
   "cell_type": "markdown",
   "metadata": {},
   "source": [
    "## JSON DB"
   ]
  },
  {
   "cell_type": "code",
   "execution_count": 10,
   "metadata": {},
   "outputs": [
    {
     "data": {
      "text/plain": [
       "True"
      ]
     },
     "execution_count": 10,
     "metadata": {},
     "output_type": "execute_result"
    }
   ],
   "source": [
    "import json\n",
    "import openai\n",
    "from langchain.chat_models import ChatOpenAI\n",
    "from langchain.schema import SystemMessage, HumanMessage\n",
    "from tqdm import tqdm\n",
    "from dotenv import load_dotenv\n",
    "import os \n",
    "\n",
    "load_dotenv()"
   ]
  },
  {
   "cell_type": "code",
   "execution_count": 9,
   "metadata": {},
   "outputs": [
    {
     "name": "stderr",
     "output_type": "stream",
     "text": [
      "/tmp/ipykernel_89317/3757979702.py:1: LangChainDeprecationWarning: The class `ChatOpenAI` was deprecated in LangChain 0.0.10 and will be removed in 1.0. An updated version of the class exists in the :class:`~langchain-openai package and should be used instead. To use it run `pip install -U :class:`~langchain-openai` and import as `from :class:`~langchain_openai import ChatOpenAI``.\n",
      "  llm = ChatOpenAI(model=\"gpt-4\", temperature=0)  # Используем GPT-4 для точности\n"
     ]
    }
   ],
   "source": [
    "llm = ChatOpenAI(model=\"gpt-4\", temperature=0)  # Используем GPT-4 для точности\n",
    "\n",
    "# Функция для приведения текста к нижнему регистру и удаления лишних пробелов\n",
    "def clean_text(text):\n",
    "    return \" \".join(text.lower().split())\n",
    "\n",
    "# Функция для генерации нового JSON-формата через LLM\n",
    "def transform_product(product):\n",
    "    prompt = f\"\"\"\n",
    "    Ты AI-помощник, который помогает преобразовать JSON-данные о товарах.\n",
    "    Тебе дан товар в формате JSON, и тебе нужно вернуть его в новой структуре.\n",
    "    \n",
    "    **Исходный формат:**\n",
    "    {{\n",
    "        \"name\": \"Название товара\",\n",
    "        \"description\": \"Описание товара\",\n",
    "        \"sizes\": [\"размеры\"],\n",
    "        \"stock\": [количество],\n",
    "        \"price\": цена\n",
    "    }}\n",
    "\n",
    "    **Новая структура:**\n",
    "    {{\n",
    "        \"id\": \"уникальный id (используй 5 случайных цифр)\",\n",
    "        \"text\": \"name\" + \"description\",\n",
    "        \"metadata\": {{\n",
    "            \"category\": \"Костюм / Куртка / Брюки / Обувь / Комплементарное (определи по названию и описанию, указывай Комплементарное если товар не является костюмом, курткой, брюками или обувью, не придумывай новые категории, указывай только из этого списка)\",\n",
    "            \"season\": \"Зима / Лето / Демисезон (определи из описания)\",\n",
    "            \"gender\": \"Мужской / Женский / Унисекс (если нет упоминаний пола, ставь унисекс)\",\n",
    "            \"material\":  \"[\"список материалов (определи из описания)\"]\", //список переведи в строку без указания отсутопов или новой строки\n",
    "            \"sizes\": \"[\"размеры\"]\", // сделай строку из листа не изменяя сами данные без указания отсутопов или новой строки\n",
    "            \"stock\": \"[количество]\", // сделай строку из листа не изменяя сами данные без указания отсутопов или новой строки\n",
    "            \"price\": цена,\n",
    "            \"currency\": \"RUB\"\n",
    "            \n",
    "        }}\n",
    "    }}\n",
    "    \n",
    "    В ответе должен быть ТОЛЬКО JSON, без объяснений.\n",
    "    \n",
    "    Вот товар, который нужно обработать:\n",
    "    {json.dumps(product, ensure_ascii=False)}\n",
    "    \"\"\"\n",
    "    \n",
    "    response = llm.invoke([SystemMessage(content=\"Ты AI, который преобразует данные товаров.\"), HumanMessage(content=prompt)])\n",
    "    \n",
    "    try:\n",
    "        new_product = json.loads(response.content)  # Декодируем JSON\n",
    "        new_product[\"text\"] = clean_text(new_product[\"text\"])  # Приведение к нижнему регистру\n",
    "        return new_product\n",
    "    except json.JSONDecodeError:\n",
    "        print(f\"Ошибка обработки JSON для товара: {product['name']}\")\n",
    "        return None\n",
    "\n",
    "\n"
   ]
  },
  {
   "cell_type": "code",
   "execution_count": 12,
   "metadata": {},
   "outputs": [
    {
     "name": "stderr",
     "output_type": "stream",
     "text": [
      "Обработка товаров: 100%|██████████| 22/22 [02:41<00:00,  7.33s/it]\n"
     ]
    },
    {
     "name": "stdout",
     "output_type": "stream",
     "text": [
      "✅ Готово! Данные сохранены в transformed_products.json\n"
     ]
    },
    {
     "name": "stderr",
     "output_type": "stream",
     "text": [
      "Обработка товаров: 100%|██████████| 99/99 [11:04<00:00,  6.71s/it]\n"
     ]
    },
    {
     "name": "stdout",
     "output_type": "stream",
     "text": [
      "✅ Готово! Данные сохранены в transformed_products.json\n"
     ]
    },
    {
     "name": "stderr",
     "output_type": "stream",
     "text": [
      "Обработка товаров: 100%|██████████| 40/40 [04:13<00:00,  6.35s/it]\n"
     ]
    },
    {
     "name": "stdout",
     "output_type": "stream",
     "text": [
      "✅ Готово! Данные сохранены в transformed_products.json\n"
     ]
    },
    {
     "name": "stderr",
     "output_type": "stream",
     "text": [
      "Обработка товаров: 100%|██████████| 12/12 [03:07<00:00, 15.61s/it]\n"
     ]
    },
    {
     "name": "stdout",
     "output_type": "stream",
     "text": [
      "✅ Готово! Данные сохранены в transformed_products.json\n"
     ]
    },
    {
     "name": "stderr",
     "output_type": "stream",
     "text": [
      "Обработка товаров:   0%|          | 0/37 [00:02<?, ?it/s]\n"
     ]
    },
    {
     "ename": "KeyboardInterrupt",
     "evalue": "",
     "output_type": "error",
     "traceback": [
      "\u001b[0;31m---------------------------------------------------------------------------\u001b[0m",
      "\u001b[0;31mKeyboardInterrupt\u001b[0m                         Traceback (most recent call last)",
      "Cell \u001b[0;32mIn[12], line 14\u001b[0m\n\u001b[1;32m     12\u001b[0m transformed_products \u001b[38;5;241m=\u001b[39m []\n\u001b[1;32m     13\u001b[0m \u001b[38;5;28;01mfor\u001b[39;00m product \u001b[38;5;129;01min\u001b[39;00m tqdm(products, desc\u001b[38;5;241m=\u001b[39m\u001b[38;5;124m\"\u001b[39m\u001b[38;5;124mОбработка товаров\u001b[39m\u001b[38;5;124m\"\u001b[39m):\n\u001b[0;32m---> 14\u001b[0m     new_product \u001b[38;5;241m=\u001b[39m \u001b[43mtransform_product\u001b[49m\u001b[43m(\u001b[49m\u001b[43mproduct\u001b[49m\u001b[43m)\u001b[49m\n\u001b[1;32m     15\u001b[0m     \u001b[38;5;28;01mif\u001b[39;00m new_product:\n\u001b[1;32m     16\u001b[0m         transformed_products\u001b[38;5;241m.\u001b[39mappend(new_product)\n",
      "Cell \u001b[0;32mIn[9], line 45\u001b[0m, in \u001b[0;36mtransform_product\u001b[0;34m(product)\u001b[0m\n\u001b[1;32m      8\u001b[0m \u001b[38;5;28;01mdef\u001b[39;00m\u001b[38;5;250m \u001b[39m\u001b[38;5;21mtransform_product\u001b[39m(product):\n\u001b[1;32m      9\u001b[0m     prompt \u001b[38;5;241m=\u001b[39m \u001b[38;5;124mf\u001b[39m\u001b[38;5;124m\"\"\"\u001b[39m\n\u001b[1;32m     10\u001b[0m \u001b[38;5;124m    Ты AI-помощник, который помогает преобразовать JSON-данные о товарах.\u001b[39m\n\u001b[1;32m     11\u001b[0m \u001b[38;5;124m    Тебе дан товар в формате JSON, и тебе нужно вернуть его в новой структуре.\u001b[39m\n\u001b[0;32m   (...)\u001b[0m\n\u001b[1;32m     42\u001b[0m \u001b[38;5;124m    \u001b[39m\u001b[38;5;132;01m{\u001b[39;00mjson\u001b[38;5;241m.\u001b[39mdumps(product,\u001b[38;5;250m \u001b[39mensure_ascii\u001b[38;5;241m=\u001b[39m\u001b[38;5;28;01mFalse\u001b[39;00m)\u001b[38;5;132;01m}\u001b[39;00m\n\u001b[1;32m     43\u001b[0m \u001b[38;5;124m    \u001b[39m\u001b[38;5;124m\"\"\"\u001b[39m\n\u001b[0;32m---> 45\u001b[0m     response \u001b[38;5;241m=\u001b[39m \u001b[43mllm\u001b[49m\u001b[38;5;241;43m.\u001b[39;49m\u001b[43minvoke\u001b[49m\u001b[43m(\u001b[49m\u001b[43m[\u001b[49m\u001b[43mSystemMessage\u001b[49m\u001b[43m(\u001b[49m\u001b[43mcontent\u001b[49m\u001b[38;5;241;43m=\u001b[39;49m\u001b[38;5;124;43m\"\u001b[39;49m\u001b[38;5;124;43mТы AI, который преобразует данные товаров.\u001b[39;49m\u001b[38;5;124;43m\"\u001b[39;49m\u001b[43m)\u001b[49m\u001b[43m,\u001b[49m\u001b[43m \u001b[49m\u001b[43mHumanMessage\u001b[49m\u001b[43m(\u001b[49m\u001b[43mcontent\u001b[49m\u001b[38;5;241;43m=\u001b[39;49m\u001b[43mprompt\u001b[49m\u001b[43m)\u001b[49m\u001b[43m]\u001b[49m\u001b[43m)\u001b[49m\n\u001b[1;32m     47\u001b[0m     \u001b[38;5;28;01mtry\u001b[39;00m:\n\u001b[1;32m     48\u001b[0m         new_product \u001b[38;5;241m=\u001b[39m json\u001b[38;5;241m.\u001b[39mloads(response\u001b[38;5;241m.\u001b[39mcontent)  \u001b[38;5;66;03m# Декодируем JSON\u001b[39;00m\n",
      "File \u001b[0;32m~/miniconda3/envs/genai/lib/python3.10/site-packages/langchain_core/language_models/chat_models.py:284\u001b[0m, in \u001b[0;36mBaseChatModel.invoke\u001b[0;34m(self, input, config, stop, **kwargs)\u001b[0m\n\u001b[1;32m    273\u001b[0m \u001b[38;5;28;01mdef\u001b[39;00m\u001b[38;5;250m \u001b[39m\u001b[38;5;21minvoke\u001b[39m(\n\u001b[1;32m    274\u001b[0m     \u001b[38;5;28mself\u001b[39m,\n\u001b[1;32m    275\u001b[0m     \u001b[38;5;28minput\u001b[39m: LanguageModelInput,\n\u001b[0;32m   (...)\u001b[0m\n\u001b[1;32m    279\u001b[0m     \u001b[38;5;241m*\u001b[39m\u001b[38;5;241m*\u001b[39mkwargs: Any,\n\u001b[1;32m    280\u001b[0m ) \u001b[38;5;241m-\u001b[39m\u001b[38;5;241m>\u001b[39m BaseMessage:\n\u001b[1;32m    281\u001b[0m     config \u001b[38;5;241m=\u001b[39m ensure_config(config)\n\u001b[1;32m    282\u001b[0m     \u001b[38;5;28;01mreturn\u001b[39;00m cast(\n\u001b[1;32m    283\u001b[0m         ChatGeneration,\n\u001b[0;32m--> 284\u001b[0m         \u001b[38;5;28;43mself\u001b[39;49m\u001b[38;5;241;43m.\u001b[39;49m\u001b[43mgenerate_prompt\u001b[49m\u001b[43m(\u001b[49m\n\u001b[1;32m    285\u001b[0m \u001b[43m            \u001b[49m\u001b[43m[\u001b[49m\u001b[38;5;28;43mself\u001b[39;49m\u001b[38;5;241;43m.\u001b[39;49m\u001b[43m_convert_input\u001b[49m\u001b[43m(\u001b[49m\u001b[38;5;28;43minput\u001b[39;49m\u001b[43m)\u001b[49m\u001b[43m]\u001b[49m\u001b[43m,\u001b[49m\n\u001b[1;32m    286\u001b[0m \u001b[43m            \u001b[49m\u001b[43mstop\u001b[49m\u001b[38;5;241;43m=\u001b[39;49m\u001b[43mstop\u001b[49m\u001b[43m,\u001b[49m\n\u001b[1;32m    287\u001b[0m \u001b[43m            \u001b[49m\u001b[43mcallbacks\u001b[49m\u001b[38;5;241;43m=\u001b[39;49m\u001b[43mconfig\u001b[49m\u001b[38;5;241;43m.\u001b[39;49m\u001b[43mget\u001b[49m\u001b[43m(\u001b[49m\u001b[38;5;124;43m\"\u001b[39;49m\u001b[38;5;124;43mcallbacks\u001b[39;49m\u001b[38;5;124;43m\"\u001b[39;49m\u001b[43m)\u001b[49m\u001b[43m,\u001b[49m\n\u001b[1;32m    288\u001b[0m \u001b[43m            \u001b[49m\u001b[43mtags\u001b[49m\u001b[38;5;241;43m=\u001b[39;49m\u001b[43mconfig\u001b[49m\u001b[38;5;241;43m.\u001b[39;49m\u001b[43mget\u001b[49m\u001b[43m(\u001b[49m\u001b[38;5;124;43m\"\u001b[39;49m\u001b[38;5;124;43mtags\u001b[39;49m\u001b[38;5;124;43m\"\u001b[39;49m\u001b[43m)\u001b[49m\u001b[43m,\u001b[49m\n\u001b[1;32m    289\u001b[0m \u001b[43m            \u001b[49m\u001b[43mmetadata\u001b[49m\u001b[38;5;241;43m=\u001b[39;49m\u001b[43mconfig\u001b[49m\u001b[38;5;241;43m.\u001b[39;49m\u001b[43mget\u001b[49m\u001b[43m(\u001b[49m\u001b[38;5;124;43m\"\u001b[39;49m\u001b[38;5;124;43mmetadata\u001b[39;49m\u001b[38;5;124;43m\"\u001b[39;49m\u001b[43m)\u001b[49m\u001b[43m,\u001b[49m\n\u001b[1;32m    290\u001b[0m \u001b[43m            \u001b[49m\u001b[43mrun_name\u001b[49m\u001b[38;5;241;43m=\u001b[39;49m\u001b[43mconfig\u001b[49m\u001b[38;5;241;43m.\u001b[39;49m\u001b[43mget\u001b[49m\u001b[43m(\u001b[49m\u001b[38;5;124;43m\"\u001b[39;49m\u001b[38;5;124;43mrun_name\u001b[39;49m\u001b[38;5;124;43m\"\u001b[39;49m\u001b[43m)\u001b[49m\u001b[43m,\u001b[49m\n\u001b[1;32m    291\u001b[0m \u001b[43m            \u001b[49m\u001b[43mrun_id\u001b[49m\u001b[38;5;241;43m=\u001b[39;49m\u001b[43mconfig\u001b[49m\u001b[38;5;241;43m.\u001b[39;49m\u001b[43mpop\u001b[49m\u001b[43m(\u001b[49m\u001b[38;5;124;43m\"\u001b[39;49m\u001b[38;5;124;43mrun_id\u001b[39;49m\u001b[38;5;124;43m\"\u001b[39;49m\u001b[43m,\u001b[49m\u001b[43m \u001b[49m\u001b[38;5;28;43;01mNone\u001b[39;49;00m\u001b[43m)\u001b[49m\u001b[43m,\u001b[49m\n\u001b[1;32m    292\u001b[0m \u001b[43m            \u001b[49m\u001b[38;5;241;43m*\u001b[39;49m\u001b[38;5;241;43m*\u001b[39;49m\u001b[43mkwargs\u001b[49m\u001b[43m,\u001b[49m\n\u001b[1;32m    293\u001b[0m \u001b[43m        \u001b[49m\u001b[43m)\u001b[49m\u001b[38;5;241m.\u001b[39mgenerations[\u001b[38;5;241m0\u001b[39m][\u001b[38;5;241m0\u001b[39m],\n\u001b[1;32m    294\u001b[0m     )\u001b[38;5;241m.\u001b[39mmessage\n",
      "File \u001b[0;32m~/miniconda3/envs/genai/lib/python3.10/site-packages/langchain_core/language_models/chat_models.py:860\u001b[0m, in \u001b[0;36mBaseChatModel.generate_prompt\u001b[0;34m(self, prompts, stop, callbacks, **kwargs)\u001b[0m\n\u001b[1;32m    852\u001b[0m \u001b[38;5;28;01mdef\u001b[39;00m\u001b[38;5;250m \u001b[39m\u001b[38;5;21mgenerate_prompt\u001b[39m(\n\u001b[1;32m    853\u001b[0m     \u001b[38;5;28mself\u001b[39m,\n\u001b[1;32m    854\u001b[0m     prompts: \u001b[38;5;28mlist\u001b[39m[PromptValue],\n\u001b[0;32m   (...)\u001b[0m\n\u001b[1;32m    857\u001b[0m     \u001b[38;5;241m*\u001b[39m\u001b[38;5;241m*\u001b[39mkwargs: Any,\n\u001b[1;32m    858\u001b[0m ) \u001b[38;5;241m-\u001b[39m\u001b[38;5;241m>\u001b[39m LLMResult:\n\u001b[1;32m    859\u001b[0m     prompt_messages \u001b[38;5;241m=\u001b[39m [p\u001b[38;5;241m.\u001b[39mto_messages() \u001b[38;5;28;01mfor\u001b[39;00m p \u001b[38;5;129;01min\u001b[39;00m prompts]\n\u001b[0;32m--> 860\u001b[0m     \u001b[38;5;28;01mreturn\u001b[39;00m \u001b[38;5;28;43mself\u001b[39;49m\u001b[38;5;241;43m.\u001b[39;49m\u001b[43mgenerate\u001b[49m\u001b[43m(\u001b[49m\u001b[43mprompt_messages\u001b[49m\u001b[43m,\u001b[49m\u001b[43m \u001b[49m\u001b[43mstop\u001b[49m\u001b[38;5;241;43m=\u001b[39;49m\u001b[43mstop\u001b[49m\u001b[43m,\u001b[49m\u001b[43m \u001b[49m\u001b[43mcallbacks\u001b[49m\u001b[38;5;241;43m=\u001b[39;49m\u001b[43mcallbacks\u001b[49m\u001b[43m,\u001b[49m\u001b[43m \u001b[49m\u001b[38;5;241;43m*\u001b[39;49m\u001b[38;5;241;43m*\u001b[39;49m\u001b[43mkwargs\u001b[49m\u001b[43m)\u001b[49m\n",
      "File \u001b[0;32m~/miniconda3/envs/genai/lib/python3.10/site-packages/langchain_core/language_models/chat_models.py:690\u001b[0m, in \u001b[0;36mBaseChatModel.generate\u001b[0;34m(self, messages, stop, callbacks, tags, metadata, run_name, run_id, **kwargs)\u001b[0m\n\u001b[1;32m    687\u001b[0m \u001b[38;5;28;01mfor\u001b[39;00m i, m \u001b[38;5;129;01min\u001b[39;00m \u001b[38;5;28menumerate\u001b[39m(messages):\n\u001b[1;32m    688\u001b[0m     \u001b[38;5;28;01mtry\u001b[39;00m:\n\u001b[1;32m    689\u001b[0m         results\u001b[38;5;241m.\u001b[39mappend(\n\u001b[0;32m--> 690\u001b[0m             \u001b[38;5;28;43mself\u001b[39;49m\u001b[38;5;241;43m.\u001b[39;49m\u001b[43m_generate_with_cache\u001b[49m\u001b[43m(\u001b[49m\n\u001b[1;32m    691\u001b[0m \u001b[43m                \u001b[49m\u001b[43mm\u001b[49m\u001b[43m,\u001b[49m\n\u001b[1;32m    692\u001b[0m \u001b[43m                \u001b[49m\u001b[43mstop\u001b[49m\u001b[38;5;241;43m=\u001b[39;49m\u001b[43mstop\u001b[49m\u001b[43m,\u001b[49m\n\u001b[1;32m    693\u001b[0m \u001b[43m                \u001b[49m\u001b[43mrun_manager\u001b[49m\u001b[38;5;241;43m=\u001b[39;49m\u001b[43mrun_managers\u001b[49m\u001b[43m[\u001b[49m\u001b[43mi\u001b[49m\u001b[43m]\u001b[49m\u001b[43m \u001b[49m\u001b[38;5;28;43;01mif\u001b[39;49;00m\u001b[43m \u001b[49m\u001b[43mrun_managers\u001b[49m\u001b[43m \u001b[49m\u001b[38;5;28;43;01melse\u001b[39;49;00m\u001b[43m \u001b[49m\u001b[38;5;28;43;01mNone\u001b[39;49;00m\u001b[43m,\u001b[49m\n\u001b[1;32m    694\u001b[0m \u001b[43m                \u001b[49m\u001b[38;5;241;43m*\u001b[39;49m\u001b[38;5;241;43m*\u001b[39;49m\u001b[43mkwargs\u001b[49m\u001b[43m,\u001b[49m\n\u001b[1;32m    695\u001b[0m \u001b[43m            \u001b[49m\u001b[43m)\u001b[49m\n\u001b[1;32m    696\u001b[0m         )\n\u001b[1;32m    697\u001b[0m     \u001b[38;5;28;01mexcept\u001b[39;00m \u001b[38;5;167;01mBaseException\u001b[39;00m \u001b[38;5;28;01mas\u001b[39;00m e:\n\u001b[1;32m    698\u001b[0m         \u001b[38;5;28;01mif\u001b[39;00m run_managers:\n",
      "File \u001b[0;32m~/miniconda3/envs/genai/lib/python3.10/site-packages/langchain_core/language_models/chat_models.py:925\u001b[0m, in \u001b[0;36mBaseChatModel._generate_with_cache\u001b[0;34m(self, messages, stop, run_manager, **kwargs)\u001b[0m\n\u001b[1;32m    923\u001b[0m \u001b[38;5;28;01melse\u001b[39;00m:\n\u001b[1;32m    924\u001b[0m     \u001b[38;5;28;01mif\u001b[39;00m inspect\u001b[38;5;241m.\u001b[39msignature(\u001b[38;5;28mself\u001b[39m\u001b[38;5;241m.\u001b[39m_generate)\u001b[38;5;241m.\u001b[39mparameters\u001b[38;5;241m.\u001b[39mget(\u001b[38;5;124m\"\u001b[39m\u001b[38;5;124mrun_manager\u001b[39m\u001b[38;5;124m\"\u001b[39m):\n\u001b[0;32m--> 925\u001b[0m         result \u001b[38;5;241m=\u001b[39m \u001b[38;5;28;43mself\u001b[39;49m\u001b[38;5;241;43m.\u001b[39;49m\u001b[43m_generate\u001b[49m\u001b[43m(\u001b[49m\n\u001b[1;32m    926\u001b[0m \u001b[43m            \u001b[49m\u001b[43mmessages\u001b[49m\u001b[43m,\u001b[49m\u001b[43m \u001b[49m\u001b[43mstop\u001b[49m\u001b[38;5;241;43m=\u001b[39;49m\u001b[43mstop\u001b[49m\u001b[43m,\u001b[49m\u001b[43m \u001b[49m\u001b[43mrun_manager\u001b[49m\u001b[38;5;241;43m=\u001b[39;49m\u001b[43mrun_manager\u001b[49m\u001b[43m,\u001b[49m\u001b[43m \u001b[49m\u001b[38;5;241;43m*\u001b[39;49m\u001b[38;5;241;43m*\u001b[39;49m\u001b[43mkwargs\u001b[49m\n\u001b[1;32m    927\u001b[0m \u001b[43m        \u001b[49m\u001b[43m)\u001b[49m\n\u001b[1;32m    928\u001b[0m     \u001b[38;5;28;01melse\u001b[39;00m:\n\u001b[1;32m    929\u001b[0m         result \u001b[38;5;241m=\u001b[39m \u001b[38;5;28mself\u001b[39m\u001b[38;5;241m.\u001b[39m_generate(messages, stop\u001b[38;5;241m=\u001b[39mstop, \u001b[38;5;241m*\u001b[39m\u001b[38;5;241m*\u001b[39mkwargs)\n",
      "File \u001b[0;32m~/miniconda3/envs/genai/lib/python3.10/site-packages/langchain_community/chat_models/openai.py:476\u001b[0m, in \u001b[0;36mChatOpenAI._generate\u001b[0;34m(self, messages, stop, run_manager, stream, **kwargs)\u001b[0m\n\u001b[1;32m    470\u001b[0m message_dicts, params \u001b[38;5;241m=\u001b[39m \u001b[38;5;28mself\u001b[39m\u001b[38;5;241m.\u001b[39m_create_message_dicts(messages, stop)\n\u001b[1;32m    471\u001b[0m params \u001b[38;5;241m=\u001b[39m {\n\u001b[1;32m    472\u001b[0m     \u001b[38;5;241m*\u001b[39m\u001b[38;5;241m*\u001b[39mparams,\n\u001b[1;32m    473\u001b[0m     \u001b[38;5;241m*\u001b[39m\u001b[38;5;241m*\u001b[39m({\u001b[38;5;124m\"\u001b[39m\u001b[38;5;124mstream\u001b[39m\u001b[38;5;124m\"\u001b[39m: stream} \u001b[38;5;28;01mif\u001b[39;00m stream \u001b[38;5;129;01mis\u001b[39;00m \u001b[38;5;129;01mnot\u001b[39;00m \u001b[38;5;28;01mNone\u001b[39;00m \u001b[38;5;28;01melse\u001b[39;00m {}),\n\u001b[1;32m    474\u001b[0m     \u001b[38;5;241m*\u001b[39m\u001b[38;5;241m*\u001b[39mkwargs,\n\u001b[1;32m    475\u001b[0m }\n\u001b[0;32m--> 476\u001b[0m response \u001b[38;5;241m=\u001b[39m \u001b[38;5;28;43mself\u001b[39;49m\u001b[38;5;241;43m.\u001b[39;49m\u001b[43mcompletion_with_retry\u001b[49m\u001b[43m(\u001b[49m\n\u001b[1;32m    477\u001b[0m \u001b[43m    \u001b[49m\u001b[43mmessages\u001b[49m\u001b[38;5;241;43m=\u001b[39;49m\u001b[43mmessage_dicts\u001b[49m\u001b[43m,\u001b[49m\u001b[43m \u001b[49m\u001b[43mrun_manager\u001b[49m\u001b[38;5;241;43m=\u001b[39;49m\u001b[43mrun_manager\u001b[49m\u001b[43m,\u001b[49m\u001b[43m \u001b[49m\u001b[38;5;241;43m*\u001b[39;49m\u001b[38;5;241;43m*\u001b[39;49m\u001b[43mparams\u001b[49m\n\u001b[1;32m    478\u001b[0m \u001b[43m\u001b[49m\u001b[43m)\u001b[49m\n\u001b[1;32m    479\u001b[0m \u001b[38;5;28;01mreturn\u001b[39;00m \u001b[38;5;28mself\u001b[39m\u001b[38;5;241m.\u001b[39m_create_chat_result(response)\n",
      "File \u001b[0;32m~/miniconda3/envs/genai/lib/python3.10/site-packages/langchain_community/chat_models/openai.py:387\u001b[0m, in \u001b[0;36mChatOpenAI.completion_with_retry\u001b[0;34m(self, run_manager, **kwargs)\u001b[0m\n\u001b[1;32m    385\u001b[0m \u001b[38;5;250m\u001b[39m\u001b[38;5;124;03m\"\"\"Use tenacity to retry the completion call.\"\"\"\u001b[39;00m\n\u001b[1;32m    386\u001b[0m \u001b[38;5;28;01mif\u001b[39;00m is_openai_v1():\n\u001b[0;32m--> 387\u001b[0m     \u001b[38;5;28;01mreturn\u001b[39;00m \u001b[38;5;28;43mself\u001b[39;49m\u001b[38;5;241;43m.\u001b[39;49m\u001b[43mclient\u001b[49m\u001b[38;5;241;43m.\u001b[39;49m\u001b[43mcreate\u001b[49m\u001b[43m(\u001b[49m\u001b[38;5;241;43m*\u001b[39;49m\u001b[38;5;241;43m*\u001b[39;49m\u001b[43mkwargs\u001b[49m\u001b[43m)\u001b[49m\n\u001b[1;32m    389\u001b[0m retry_decorator \u001b[38;5;241m=\u001b[39m _create_retry_decorator(\u001b[38;5;28mself\u001b[39m, run_manager\u001b[38;5;241m=\u001b[39mrun_manager)\n\u001b[1;32m    391\u001b[0m \u001b[38;5;129m@retry_decorator\u001b[39m\n\u001b[1;32m    392\u001b[0m \u001b[38;5;28;01mdef\u001b[39;00m\u001b[38;5;250m \u001b[39m\u001b[38;5;21m_completion_with_retry\u001b[39m(\u001b[38;5;241m*\u001b[39m\u001b[38;5;241m*\u001b[39mkwargs: Any) \u001b[38;5;241m-\u001b[39m\u001b[38;5;241m>\u001b[39m Any:\n",
      "File \u001b[0;32m~/miniconda3/envs/genai/lib/python3.10/site-packages/openai/_utils/_utils.py:279\u001b[0m, in \u001b[0;36mrequired_args.<locals>.inner.<locals>.wrapper\u001b[0;34m(*args, **kwargs)\u001b[0m\n\u001b[1;32m    277\u001b[0m             msg \u001b[38;5;241m=\u001b[39m \u001b[38;5;124mf\u001b[39m\u001b[38;5;124m\"\u001b[39m\u001b[38;5;124mMissing required argument: \u001b[39m\u001b[38;5;132;01m{\u001b[39;00mquote(missing[\u001b[38;5;241m0\u001b[39m])\u001b[38;5;132;01m}\u001b[39;00m\u001b[38;5;124m\"\u001b[39m\n\u001b[1;32m    278\u001b[0m     \u001b[38;5;28;01mraise\u001b[39;00m \u001b[38;5;167;01mTypeError\u001b[39;00m(msg)\n\u001b[0;32m--> 279\u001b[0m \u001b[38;5;28;01mreturn\u001b[39;00m \u001b[43mfunc\u001b[49m\u001b[43m(\u001b[49m\u001b[38;5;241;43m*\u001b[39;49m\u001b[43margs\u001b[49m\u001b[43m,\u001b[49m\u001b[43m \u001b[49m\u001b[38;5;241;43m*\u001b[39;49m\u001b[38;5;241;43m*\u001b[39;49m\u001b[43mkwargs\u001b[49m\u001b[43m)\u001b[49m\n",
      "File \u001b[0;32m~/miniconda3/envs/genai/lib/python3.10/site-packages/openai/resources/chat/completions.py:863\u001b[0m, in \u001b[0;36mCompletions.create\u001b[0;34m(self, messages, model, audio, frequency_penalty, function_call, functions, logit_bias, logprobs, max_completion_tokens, max_tokens, metadata, modalities, n, parallel_tool_calls, prediction, presence_penalty, reasoning_effort, response_format, seed, service_tier, stop, store, stream, stream_options, temperature, tool_choice, tools, top_logprobs, top_p, user, extra_headers, extra_query, extra_body, timeout)\u001b[0m\n\u001b[1;32m    821\u001b[0m \u001b[38;5;129m@required_args\u001b[39m([\u001b[38;5;124m\"\u001b[39m\u001b[38;5;124mmessages\u001b[39m\u001b[38;5;124m\"\u001b[39m, \u001b[38;5;124m\"\u001b[39m\u001b[38;5;124mmodel\u001b[39m\u001b[38;5;124m\"\u001b[39m], [\u001b[38;5;124m\"\u001b[39m\u001b[38;5;124mmessages\u001b[39m\u001b[38;5;124m\"\u001b[39m, \u001b[38;5;124m\"\u001b[39m\u001b[38;5;124mmodel\u001b[39m\u001b[38;5;124m\"\u001b[39m, \u001b[38;5;124m\"\u001b[39m\u001b[38;5;124mstream\u001b[39m\u001b[38;5;124m\"\u001b[39m])\n\u001b[1;32m    822\u001b[0m \u001b[38;5;28;01mdef\u001b[39;00m\u001b[38;5;250m \u001b[39m\u001b[38;5;21mcreate\u001b[39m(\n\u001b[1;32m    823\u001b[0m     \u001b[38;5;28mself\u001b[39m,\n\u001b[0;32m   (...)\u001b[0m\n\u001b[1;32m    860\u001b[0m     timeout: \u001b[38;5;28mfloat\u001b[39m \u001b[38;5;241m|\u001b[39m httpx\u001b[38;5;241m.\u001b[39mTimeout \u001b[38;5;241m|\u001b[39m \u001b[38;5;28;01mNone\u001b[39;00m \u001b[38;5;241m|\u001b[39m NotGiven \u001b[38;5;241m=\u001b[39m NOT_GIVEN,\n\u001b[1;32m    861\u001b[0m ) \u001b[38;5;241m-\u001b[39m\u001b[38;5;241m>\u001b[39m ChatCompletion \u001b[38;5;241m|\u001b[39m Stream[ChatCompletionChunk]:\n\u001b[1;32m    862\u001b[0m     validate_response_format(response_format)\n\u001b[0;32m--> 863\u001b[0m     \u001b[38;5;28;01mreturn\u001b[39;00m \u001b[38;5;28;43mself\u001b[39;49m\u001b[38;5;241;43m.\u001b[39;49m\u001b[43m_post\u001b[49m\u001b[43m(\u001b[49m\n\u001b[1;32m    864\u001b[0m \u001b[43m        \u001b[49m\u001b[38;5;124;43m\"\u001b[39;49m\u001b[38;5;124;43m/chat/completions\u001b[39;49m\u001b[38;5;124;43m\"\u001b[39;49m\u001b[43m,\u001b[49m\n\u001b[1;32m    865\u001b[0m \u001b[43m        \u001b[49m\u001b[43mbody\u001b[49m\u001b[38;5;241;43m=\u001b[39;49m\u001b[43mmaybe_transform\u001b[49m\u001b[43m(\u001b[49m\n\u001b[1;32m    866\u001b[0m \u001b[43m            \u001b[49m\u001b[43m{\u001b[49m\n\u001b[1;32m    867\u001b[0m \u001b[43m                \u001b[49m\u001b[38;5;124;43m\"\u001b[39;49m\u001b[38;5;124;43mmessages\u001b[39;49m\u001b[38;5;124;43m\"\u001b[39;49m\u001b[43m:\u001b[49m\u001b[43m \u001b[49m\u001b[43mmessages\u001b[49m\u001b[43m,\u001b[49m\n\u001b[1;32m    868\u001b[0m \u001b[43m                \u001b[49m\u001b[38;5;124;43m\"\u001b[39;49m\u001b[38;5;124;43mmodel\u001b[39;49m\u001b[38;5;124;43m\"\u001b[39;49m\u001b[43m:\u001b[49m\u001b[43m \u001b[49m\u001b[43mmodel\u001b[49m\u001b[43m,\u001b[49m\n\u001b[1;32m    869\u001b[0m \u001b[43m                \u001b[49m\u001b[38;5;124;43m\"\u001b[39;49m\u001b[38;5;124;43maudio\u001b[39;49m\u001b[38;5;124;43m\"\u001b[39;49m\u001b[43m:\u001b[49m\u001b[43m \u001b[49m\u001b[43maudio\u001b[49m\u001b[43m,\u001b[49m\n\u001b[1;32m    870\u001b[0m \u001b[43m                \u001b[49m\u001b[38;5;124;43m\"\u001b[39;49m\u001b[38;5;124;43mfrequency_penalty\u001b[39;49m\u001b[38;5;124;43m\"\u001b[39;49m\u001b[43m:\u001b[49m\u001b[43m \u001b[49m\u001b[43mfrequency_penalty\u001b[49m\u001b[43m,\u001b[49m\n\u001b[1;32m    871\u001b[0m \u001b[43m                \u001b[49m\u001b[38;5;124;43m\"\u001b[39;49m\u001b[38;5;124;43mfunction_call\u001b[39;49m\u001b[38;5;124;43m\"\u001b[39;49m\u001b[43m:\u001b[49m\u001b[43m \u001b[49m\u001b[43mfunction_call\u001b[49m\u001b[43m,\u001b[49m\n\u001b[1;32m    872\u001b[0m \u001b[43m                \u001b[49m\u001b[38;5;124;43m\"\u001b[39;49m\u001b[38;5;124;43mfunctions\u001b[39;49m\u001b[38;5;124;43m\"\u001b[39;49m\u001b[43m:\u001b[49m\u001b[43m \u001b[49m\u001b[43mfunctions\u001b[49m\u001b[43m,\u001b[49m\n\u001b[1;32m    873\u001b[0m \u001b[43m                \u001b[49m\u001b[38;5;124;43m\"\u001b[39;49m\u001b[38;5;124;43mlogit_bias\u001b[39;49m\u001b[38;5;124;43m\"\u001b[39;49m\u001b[43m:\u001b[49m\u001b[43m \u001b[49m\u001b[43mlogit_bias\u001b[49m\u001b[43m,\u001b[49m\n\u001b[1;32m    874\u001b[0m \u001b[43m                \u001b[49m\u001b[38;5;124;43m\"\u001b[39;49m\u001b[38;5;124;43mlogprobs\u001b[39;49m\u001b[38;5;124;43m\"\u001b[39;49m\u001b[43m:\u001b[49m\u001b[43m \u001b[49m\u001b[43mlogprobs\u001b[49m\u001b[43m,\u001b[49m\n\u001b[1;32m    875\u001b[0m \u001b[43m                \u001b[49m\u001b[38;5;124;43m\"\u001b[39;49m\u001b[38;5;124;43mmax_completion_tokens\u001b[39;49m\u001b[38;5;124;43m\"\u001b[39;49m\u001b[43m:\u001b[49m\u001b[43m \u001b[49m\u001b[43mmax_completion_tokens\u001b[49m\u001b[43m,\u001b[49m\n\u001b[1;32m    876\u001b[0m \u001b[43m                \u001b[49m\u001b[38;5;124;43m\"\u001b[39;49m\u001b[38;5;124;43mmax_tokens\u001b[39;49m\u001b[38;5;124;43m\"\u001b[39;49m\u001b[43m:\u001b[49m\u001b[43m \u001b[49m\u001b[43mmax_tokens\u001b[49m\u001b[43m,\u001b[49m\n\u001b[1;32m    877\u001b[0m \u001b[43m                \u001b[49m\u001b[38;5;124;43m\"\u001b[39;49m\u001b[38;5;124;43mmetadata\u001b[39;49m\u001b[38;5;124;43m\"\u001b[39;49m\u001b[43m:\u001b[49m\u001b[43m \u001b[49m\u001b[43mmetadata\u001b[49m\u001b[43m,\u001b[49m\n\u001b[1;32m    878\u001b[0m \u001b[43m                \u001b[49m\u001b[38;5;124;43m\"\u001b[39;49m\u001b[38;5;124;43mmodalities\u001b[39;49m\u001b[38;5;124;43m\"\u001b[39;49m\u001b[43m:\u001b[49m\u001b[43m \u001b[49m\u001b[43mmodalities\u001b[49m\u001b[43m,\u001b[49m\n\u001b[1;32m    879\u001b[0m \u001b[43m                \u001b[49m\u001b[38;5;124;43m\"\u001b[39;49m\u001b[38;5;124;43mn\u001b[39;49m\u001b[38;5;124;43m\"\u001b[39;49m\u001b[43m:\u001b[49m\u001b[43m \u001b[49m\u001b[43mn\u001b[49m\u001b[43m,\u001b[49m\n\u001b[1;32m    880\u001b[0m \u001b[43m                \u001b[49m\u001b[38;5;124;43m\"\u001b[39;49m\u001b[38;5;124;43mparallel_tool_calls\u001b[39;49m\u001b[38;5;124;43m\"\u001b[39;49m\u001b[43m:\u001b[49m\u001b[43m \u001b[49m\u001b[43mparallel_tool_calls\u001b[49m\u001b[43m,\u001b[49m\n\u001b[1;32m    881\u001b[0m \u001b[43m                \u001b[49m\u001b[38;5;124;43m\"\u001b[39;49m\u001b[38;5;124;43mprediction\u001b[39;49m\u001b[38;5;124;43m\"\u001b[39;49m\u001b[43m:\u001b[49m\u001b[43m \u001b[49m\u001b[43mprediction\u001b[49m\u001b[43m,\u001b[49m\n\u001b[1;32m    882\u001b[0m \u001b[43m                \u001b[49m\u001b[38;5;124;43m\"\u001b[39;49m\u001b[38;5;124;43mpresence_penalty\u001b[39;49m\u001b[38;5;124;43m\"\u001b[39;49m\u001b[43m:\u001b[49m\u001b[43m \u001b[49m\u001b[43mpresence_penalty\u001b[49m\u001b[43m,\u001b[49m\n\u001b[1;32m    883\u001b[0m \u001b[43m                \u001b[49m\u001b[38;5;124;43m\"\u001b[39;49m\u001b[38;5;124;43mreasoning_effort\u001b[39;49m\u001b[38;5;124;43m\"\u001b[39;49m\u001b[43m:\u001b[49m\u001b[43m \u001b[49m\u001b[43mreasoning_effort\u001b[49m\u001b[43m,\u001b[49m\n\u001b[1;32m    884\u001b[0m \u001b[43m                \u001b[49m\u001b[38;5;124;43m\"\u001b[39;49m\u001b[38;5;124;43mresponse_format\u001b[39;49m\u001b[38;5;124;43m\"\u001b[39;49m\u001b[43m:\u001b[49m\u001b[43m \u001b[49m\u001b[43mresponse_format\u001b[49m\u001b[43m,\u001b[49m\n\u001b[1;32m    885\u001b[0m \u001b[43m                \u001b[49m\u001b[38;5;124;43m\"\u001b[39;49m\u001b[38;5;124;43mseed\u001b[39;49m\u001b[38;5;124;43m\"\u001b[39;49m\u001b[43m:\u001b[49m\u001b[43m \u001b[49m\u001b[43mseed\u001b[49m\u001b[43m,\u001b[49m\n\u001b[1;32m    886\u001b[0m \u001b[43m                \u001b[49m\u001b[38;5;124;43m\"\u001b[39;49m\u001b[38;5;124;43mservice_tier\u001b[39;49m\u001b[38;5;124;43m\"\u001b[39;49m\u001b[43m:\u001b[49m\u001b[43m \u001b[49m\u001b[43mservice_tier\u001b[49m\u001b[43m,\u001b[49m\n\u001b[1;32m    887\u001b[0m \u001b[43m                \u001b[49m\u001b[38;5;124;43m\"\u001b[39;49m\u001b[38;5;124;43mstop\u001b[39;49m\u001b[38;5;124;43m\"\u001b[39;49m\u001b[43m:\u001b[49m\u001b[43m \u001b[49m\u001b[43mstop\u001b[49m\u001b[43m,\u001b[49m\n\u001b[1;32m    888\u001b[0m \u001b[43m                \u001b[49m\u001b[38;5;124;43m\"\u001b[39;49m\u001b[38;5;124;43mstore\u001b[39;49m\u001b[38;5;124;43m\"\u001b[39;49m\u001b[43m:\u001b[49m\u001b[43m \u001b[49m\u001b[43mstore\u001b[49m\u001b[43m,\u001b[49m\n\u001b[1;32m    889\u001b[0m \u001b[43m                \u001b[49m\u001b[38;5;124;43m\"\u001b[39;49m\u001b[38;5;124;43mstream\u001b[39;49m\u001b[38;5;124;43m\"\u001b[39;49m\u001b[43m:\u001b[49m\u001b[43m \u001b[49m\u001b[43mstream\u001b[49m\u001b[43m,\u001b[49m\n\u001b[1;32m    890\u001b[0m \u001b[43m                \u001b[49m\u001b[38;5;124;43m\"\u001b[39;49m\u001b[38;5;124;43mstream_options\u001b[39;49m\u001b[38;5;124;43m\"\u001b[39;49m\u001b[43m:\u001b[49m\u001b[43m \u001b[49m\u001b[43mstream_options\u001b[49m\u001b[43m,\u001b[49m\n\u001b[1;32m    891\u001b[0m \u001b[43m                \u001b[49m\u001b[38;5;124;43m\"\u001b[39;49m\u001b[38;5;124;43mtemperature\u001b[39;49m\u001b[38;5;124;43m\"\u001b[39;49m\u001b[43m:\u001b[49m\u001b[43m \u001b[49m\u001b[43mtemperature\u001b[49m\u001b[43m,\u001b[49m\n\u001b[1;32m    892\u001b[0m \u001b[43m                \u001b[49m\u001b[38;5;124;43m\"\u001b[39;49m\u001b[38;5;124;43mtool_choice\u001b[39;49m\u001b[38;5;124;43m\"\u001b[39;49m\u001b[43m:\u001b[49m\u001b[43m \u001b[49m\u001b[43mtool_choice\u001b[49m\u001b[43m,\u001b[49m\n\u001b[1;32m    893\u001b[0m \u001b[43m                \u001b[49m\u001b[38;5;124;43m\"\u001b[39;49m\u001b[38;5;124;43mtools\u001b[39;49m\u001b[38;5;124;43m\"\u001b[39;49m\u001b[43m:\u001b[49m\u001b[43m \u001b[49m\u001b[43mtools\u001b[49m\u001b[43m,\u001b[49m\n\u001b[1;32m    894\u001b[0m \u001b[43m                \u001b[49m\u001b[38;5;124;43m\"\u001b[39;49m\u001b[38;5;124;43mtop_logprobs\u001b[39;49m\u001b[38;5;124;43m\"\u001b[39;49m\u001b[43m:\u001b[49m\u001b[43m \u001b[49m\u001b[43mtop_logprobs\u001b[49m\u001b[43m,\u001b[49m\n\u001b[1;32m    895\u001b[0m \u001b[43m                \u001b[49m\u001b[38;5;124;43m\"\u001b[39;49m\u001b[38;5;124;43mtop_p\u001b[39;49m\u001b[38;5;124;43m\"\u001b[39;49m\u001b[43m:\u001b[49m\u001b[43m \u001b[49m\u001b[43mtop_p\u001b[49m\u001b[43m,\u001b[49m\n\u001b[1;32m    896\u001b[0m \u001b[43m                \u001b[49m\u001b[38;5;124;43m\"\u001b[39;49m\u001b[38;5;124;43muser\u001b[39;49m\u001b[38;5;124;43m\"\u001b[39;49m\u001b[43m:\u001b[49m\u001b[43m \u001b[49m\u001b[43muser\u001b[49m\u001b[43m,\u001b[49m\n\u001b[1;32m    897\u001b[0m \u001b[43m            \u001b[49m\u001b[43m}\u001b[49m\u001b[43m,\u001b[49m\n\u001b[1;32m    898\u001b[0m \u001b[43m            \u001b[49m\u001b[43mcompletion_create_params\u001b[49m\u001b[38;5;241;43m.\u001b[39;49m\u001b[43mCompletionCreateParams\u001b[49m\u001b[43m,\u001b[49m\n\u001b[1;32m    899\u001b[0m \u001b[43m        \u001b[49m\u001b[43m)\u001b[49m\u001b[43m,\u001b[49m\n\u001b[1;32m    900\u001b[0m \u001b[43m        \u001b[49m\u001b[43moptions\u001b[49m\u001b[38;5;241;43m=\u001b[39;49m\u001b[43mmake_request_options\u001b[49m\u001b[43m(\u001b[49m\n\u001b[1;32m    901\u001b[0m \u001b[43m            \u001b[49m\u001b[43mextra_headers\u001b[49m\u001b[38;5;241;43m=\u001b[39;49m\u001b[43mextra_headers\u001b[49m\u001b[43m,\u001b[49m\u001b[43m \u001b[49m\u001b[43mextra_query\u001b[49m\u001b[38;5;241;43m=\u001b[39;49m\u001b[43mextra_query\u001b[49m\u001b[43m,\u001b[49m\u001b[43m \u001b[49m\u001b[43mextra_body\u001b[49m\u001b[38;5;241;43m=\u001b[39;49m\u001b[43mextra_body\u001b[49m\u001b[43m,\u001b[49m\u001b[43m \u001b[49m\u001b[43mtimeout\u001b[49m\u001b[38;5;241;43m=\u001b[39;49m\u001b[43mtimeout\u001b[49m\n\u001b[1;32m    902\u001b[0m \u001b[43m        \u001b[49m\u001b[43m)\u001b[49m\u001b[43m,\u001b[49m\n\u001b[1;32m    903\u001b[0m \u001b[43m        \u001b[49m\u001b[43mcast_to\u001b[49m\u001b[38;5;241;43m=\u001b[39;49m\u001b[43mChatCompletion\u001b[49m\u001b[43m,\u001b[49m\n\u001b[1;32m    904\u001b[0m \u001b[43m        \u001b[49m\u001b[43mstream\u001b[49m\u001b[38;5;241;43m=\u001b[39;49m\u001b[43mstream\u001b[49m\u001b[43m \u001b[49m\u001b[38;5;129;43;01mor\u001b[39;49;00m\u001b[43m \u001b[49m\u001b[38;5;28;43;01mFalse\u001b[39;49;00m\u001b[43m,\u001b[49m\n\u001b[1;32m    905\u001b[0m \u001b[43m        \u001b[49m\u001b[43mstream_cls\u001b[49m\u001b[38;5;241;43m=\u001b[39;49m\u001b[43mStream\u001b[49m\u001b[43m[\u001b[49m\u001b[43mChatCompletionChunk\u001b[49m\u001b[43m]\u001b[49m\u001b[43m,\u001b[49m\n\u001b[1;32m    906\u001b[0m \u001b[43m    \u001b[49m\u001b[43m)\u001b[49m\n",
      "File \u001b[0;32m~/miniconda3/envs/genai/lib/python3.10/site-packages/openai/_base_client.py:1283\u001b[0m, in \u001b[0;36mSyncAPIClient.post\u001b[0;34m(self, path, cast_to, body, options, files, stream, stream_cls)\u001b[0m\n\u001b[1;32m   1269\u001b[0m \u001b[38;5;28;01mdef\u001b[39;00m\u001b[38;5;250m \u001b[39m\u001b[38;5;21mpost\u001b[39m(\n\u001b[1;32m   1270\u001b[0m     \u001b[38;5;28mself\u001b[39m,\n\u001b[1;32m   1271\u001b[0m     path: \u001b[38;5;28mstr\u001b[39m,\n\u001b[0;32m   (...)\u001b[0m\n\u001b[1;32m   1278\u001b[0m     stream_cls: \u001b[38;5;28mtype\u001b[39m[_StreamT] \u001b[38;5;241m|\u001b[39m \u001b[38;5;28;01mNone\u001b[39;00m \u001b[38;5;241m=\u001b[39m \u001b[38;5;28;01mNone\u001b[39;00m,\n\u001b[1;32m   1279\u001b[0m ) \u001b[38;5;241m-\u001b[39m\u001b[38;5;241m>\u001b[39m ResponseT \u001b[38;5;241m|\u001b[39m _StreamT:\n\u001b[1;32m   1280\u001b[0m     opts \u001b[38;5;241m=\u001b[39m FinalRequestOptions\u001b[38;5;241m.\u001b[39mconstruct(\n\u001b[1;32m   1281\u001b[0m         method\u001b[38;5;241m=\u001b[39m\u001b[38;5;124m\"\u001b[39m\u001b[38;5;124mpost\u001b[39m\u001b[38;5;124m\"\u001b[39m, url\u001b[38;5;241m=\u001b[39mpath, json_data\u001b[38;5;241m=\u001b[39mbody, files\u001b[38;5;241m=\u001b[39mto_httpx_files(files), \u001b[38;5;241m*\u001b[39m\u001b[38;5;241m*\u001b[39moptions\n\u001b[1;32m   1282\u001b[0m     )\n\u001b[0;32m-> 1283\u001b[0m     \u001b[38;5;28;01mreturn\u001b[39;00m cast(ResponseT, \u001b[38;5;28;43mself\u001b[39;49m\u001b[38;5;241;43m.\u001b[39;49m\u001b[43mrequest\u001b[49m\u001b[43m(\u001b[49m\u001b[43mcast_to\u001b[49m\u001b[43m,\u001b[49m\u001b[43m \u001b[49m\u001b[43mopts\u001b[49m\u001b[43m,\u001b[49m\u001b[43m \u001b[49m\u001b[43mstream\u001b[49m\u001b[38;5;241;43m=\u001b[39;49m\u001b[43mstream\u001b[49m\u001b[43m,\u001b[49m\u001b[43m \u001b[49m\u001b[43mstream_cls\u001b[49m\u001b[38;5;241;43m=\u001b[39;49m\u001b[43mstream_cls\u001b[49m\u001b[43m)\u001b[49m)\n",
      "File \u001b[0;32m~/miniconda3/envs/genai/lib/python3.10/site-packages/openai/_base_client.py:960\u001b[0m, in \u001b[0;36mSyncAPIClient.request\u001b[0;34m(self, cast_to, options, remaining_retries, stream, stream_cls)\u001b[0m\n\u001b[1;32m    957\u001b[0m \u001b[38;5;28;01melse\u001b[39;00m:\n\u001b[1;32m    958\u001b[0m     retries_taken \u001b[38;5;241m=\u001b[39m \u001b[38;5;241m0\u001b[39m\n\u001b[0;32m--> 960\u001b[0m \u001b[38;5;28;01mreturn\u001b[39;00m \u001b[38;5;28;43mself\u001b[39;49m\u001b[38;5;241;43m.\u001b[39;49m\u001b[43m_request\u001b[49m\u001b[43m(\u001b[49m\n\u001b[1;32m    961\u001b[0m \u001b[43m    \u001b[49m\u001b[43mcast_to\u001b[49m\u001b[38;5;241;43m=\u001b[39;49m\u001b[43mcast_to\u001b[49m\u001b[43m,\u001b[49m\n\u001b[1;32m    962\u001b[0m \u001b[43m    \u001b[49m\u001b[43moptions\u001b[49m\u001b[38;5;241;43m=\u001b[39;49m\u001b[43moptions\u001b[49m\u001b[43m,\u001b[49m\n\u001b[1;32m    963\u001b[0m \u001b[43m    \u001b[49m\u001b[43mstream\u001b[49m\u001b[38;5;241;43m=\u001b[39;49m\u001b[43mstream\u001b[49m\u001b[43m,\u001b[49m\n\u001b[1;32m    964\u001b[0m \u001b[43m    \u001b[49m\u001b[43mstream_cls\u001b[49m\u001b[38;5;241;43m=\u001b[39;49m\u001b[43mstream_cls\u001b[49m\u001b[43m,\u001b[49m\n\u001b[1;32m    965\u001b[0m \u001b[43m    \u001b[49m\u001b[43mretries_taken\u001b[49m\u001b[38;5;241;43m=\u001b[39;49m\u001b[43mretries_taken\u001b[49m\u001b[43m,\u001b[49m\n\u001b[1;32m    966\u001b[0m \u001b[43m\u001b[49m\u001b[43m)\u001b[49m\n",
      "File \u001b[0;32m~/miniconda3/envs/genai/lib/python3.10/site-packages/openai/_base_client.py:996\u001b[0m, in \u001b[0;36mSyncAPIClient._request\u001b[0;34m(self, cast_to, options, retries_taken, stream, stream_cls)\u001b[0m\n\u001b[1;32m    993\u001b[0m log\u001b[38;5;241m.\u001b[39mdebug(\u001b[38;5;124m\"\u001b[39m\u001b[38;5;124mSending HTTP Request: \u001b[39m\u001b[38;5;132;01m%s\u001b[39;00m\u001b[38;5;124m \u001b[39m\u001b[38;5;132;01m%s\u001b[39;00m\u001b[38;5;124m\"\u001b[39m, request\u001b[38;5;241m.\u001b[39mmethod, request\u001b[38;5;241m.\u001b[39murl)\n\u001b[1;32m    995\u001b[0m \u001b[38;5;28;01mtry\u001b[39;00m:\n\u001b[0;32m--> 996\u001b[0m     response \u001b[38;5;241m=\u001b[39m \u001b[38;5;28;43mself\u001b[39;49m\u001b[38;5;241;43m.\u001b[39;49m\u001b[43m_client\u001b[49m\u001b[38;5;241;43m.\u001b[39;49m\u001b[43msend\u001b[49m\u001b[43m(\u001b[49m\n\u001b[1;32m    997\u001b[0m \u001b[43m        \u001b[49m\u001b[43mrequest\u001b[49m\u001b[43m,\u001b[49m\n\u001b[1;32m    998\u001b[0m \u001b[43m        \u001b[49m\u001b[43mstream\u001b[49m\u001b[38;5;241;43m=\u001b[39;49m\u001b[43mstream\u001b[49m\u001b[43m \u001b[49m\u001b[38;5;129;43;01mor\u001b[39;49;00m\u001b[43m \u001b[49m\u001b[38;5;28;43mself\u001b[39;49m\u001b[38;5;241;43m.\u001b[39;49m\u001b[43m_should_stream_response_body\u001b[49m\u001b[43m(\u001b[49m\u001b[43mrequest\u001b[49m\u001b[38;5;241;43m=\u001b[39;49m\u001b[43mrequest\u001b[49m\u001b[43m)\u001b[49m\u001b[43m,\u001b[49m\n\u001b[1;32m    999\u001b[0m \u001b[43m        \u001b[49m\u001b[38;5;241;43m*\u001b[39;49m\u001b[38;5;241;43m*\u001b[39;49m\u001b[43mkwargs\u001b[49m\u001b[43m,\u001b[49m\n\u001b[1;32m   1000\u001b[0m \u001b[43m    \u001b[49m\u001b[43m)\u001b[49m\n\u001b[1;32m   1001\u001b[0m \u001b[38;5;28;01mexcept\u001b[39;00m httpx\u001b[38;5;241m.\u001b[39mTimeoutException \u001b[38;5;28;01mas\u001b[39;00m err:\n\u001b[1;32m   1002\u001b[0m     log\u001b[38;5;241m.\u001b[39mdebug(\u001b[38;5;124m\"\u001b[39m\u001b[38;5;124mEncountered httpx.TimeoutException\u001b[39m\u001b[38;5;124m\"\u001b[39m, exc_info\u001b[38;5;241m=\u001b[39m\u001b[38;5;28;01mTrue\u001b[39;00m)\n",
      "File \u001b[0;32m~/miniconda3/envs/genai/lib/python3.10/site-packages/httpx/_client.py:914\u001b[0m, in \u001b[0;36mClient.send\u001b[0;34m(self, request, stream, auth, follow_redirects)\u001b[0m\n\u001b[1;32m    910\u001b[0m \u001b[38;5;28mself\u001b[39m\u001b[38;5;241m.\u001b[39m_set_timeout(request)\n\u001b[1;32m    912\u001b[0m auth \u001b[38;5;241m=\u001b[39m \u001b[38;5;28mself\u001b[39m\u001b[38;5;241m.\u001b[39m_build_request_auth(request, auth)\n\u001b[0;32m--> 914\u001b[0m response \u001b[38;5;241m=\u001b[39m \u001b[38;5;28;43mself\u001b[39;49m\u001b[38;5;241;43m.\u001b[39;49m\u001b[43m_send_handling_auth\u001b[49m\u001b[43m(\u001b[49m\n\u001b[1;32m    915\u001b[0m \u001b[43m    \u001b[49m\u001b[43mrequest\u001b[49m\u001b[43m,\u001b[49m\n\u001b[1;32m    916\u001b[0m \u001b[43m    \u001b[49m\u001b[43mauth\u001b[49m\u001b[38;5;241;43m=\u001b[39;49m\u001b[43mauth\u001b[49m\u001b[43m,\u001b[49m\n\u001b[1;32m    917\u001b[0m \u001b[43m    \u001b[49m\u001b[43mfollow_redirects\u001b[49m\u001b[38;5;241;43m=\u001b[39;49m\u001b[43mfollow_redirects\u001b[49m\u001b[43m,\u001b[49m\n\u001b[1;32m    918\u001b[0m \u001b[43m    \u001b[49m\u001b[43mhistory\u001b[49m\u001b[38;5;241;43m=\u001b[39;49m\u001b[43m[\u001b[49m\u001b[43m]\u001b[49m\u001b[43m,\u001b[49m\n\u001b[1;32m    919\u001b[0m \u001b[43m\u001b[49m\u001b[43m)\u001b[49m\n\u001b[1;32m    920\u001b[0m \u001b[38;5;28;01mtry\u001b[39;00m:\n\u001b[1;32m    921\u001b[0m     \u001b[38;5;28;01mif\u001b[39;00m \u001b[38;5;129;01mnot\u001b[39;00m stream:\n",
      "File \u001b[0;32m~/miniconda3/envs/genai/lib/python3.10/site-packages/httpx/_client.py:942\u001b[0m, in \u001b[0;36mClient._send_handling_auth\u001b[0;34m(self, request, auth, follow_redirects, history)\u001b[0m\n\u001b[1;32m    939\u001b[0m request \u001b[38;5;241m=\u001b[39m \u001b[38;5;28mnext\u001b[39m(auth_flow)\n\u001b[1;32m    941\u001b[0m \u001b[38;5;28;01mwhile\u001b[39;00m \u001b[38;5;28;01mTrue\u001b[39;00m:\n\u001b[0;32m--> 942\u001b[0m     response \u001b[38;5;241m=\u001b[39m \u001b[38;5;28;43mself\u001b[39;49m\u001b[38;5;241;43m.\u001b[39;49m\u001b[43m_send_handling_redirects\u001b[49m\u001b[43m(\u001b[49m\n\u001b[1;32m    943\u001b[0m \u001b[43m        \u001b[49m\u001b[43mrequest\u001b[49m\u001b[43m,\u001b[49m\n\u001b[1;32m    944\u001b[0m \u001b[43m        \u001b[49m\u001b[43mfollow_redirects\u001b[49m\u001b[38;5;241;43m=\u001b[39;49m\u001b[43mfollow_redirects\u001b[49m\u001b[43m,\u001b[49m\n\u001b[1;32m    945\u001b[0m \u001b[43m        \u001b[49m\u001b[43mhistory\u001b[49m\u001b[38;5;241;43m=\u001b[39;49m\u001b[43mhistory\u001b[49m\u001b[43m,\u001b[49m\n\u001b[1;32m    946\u001b[0m \u001b[43m    \u001b[49m\u001b[43m)\u001b[49m\n\u001b[1;32m    947\u001b[0m     \u001b[38;5;28;01mtry\u001b[39;00m:\n\u001b[1;32m    948\u001b[0m         \u001b[38;5;28;01mtry\u001b[39;00m:\n",
      "File \u001b[0;32m~/miniconda3/envs/genai/lib/python3.10/site-packages/httpx/_client.py:979\u001b[0m, in \u001b[0;36mClient._send_handling_redirects\u001b[0;34m(self, request, follow_redirects, history)\u001b[0m\n\u001b[1;32m    976\u001b[0m \u001b[38;5;28;01mfor\u001b[39;00m hook \u001b[38;5;129;01min\u001b[39;00m \u001b[38;5;28mself\u001b[39m\u001b[38;5;241m.\u001b[39m_event_hooks[\u001b[38;5;124m\"\u001b[39m\u001b[38;5;124mrequest\u001b[39m\u001b[38;5;124m\"\u001b[39m]:\n\u001b[1;32m    977\u001b[0m     hook(request)\n\u001b[0;32m--> 979\u001b[0m response \u001b[38;5;241m=\u001b[39m \u001b[38;5;28;43mself\u001b[39;49m\u001b[38;5;241;43m.\u001b[39;49m\u001b[43m_send_single_request\u001b[49m\u001b[43m(\u001b[49m\u001b[43mrequest\u001b[49m\u001b[43m)\u001b[49m\n\u001b[1;32m    980\u001b[0m \u001b[38;5;28;01mtry\u001b[39;00m:\n\u001b[1;32m    981\u001b[0m     \u001b[38;5;28;01mfor\u001b[39;00m hook \u001b[38;5;129;01min\u001b[39;00m \u001b[38;5;28mself\u001b[39m\u001b[38;5;241m.\u001b[39m_event_hooks[\u001b[38;5;124m\"\u001b[39m\u001b[38;5;124mresponse\u001b[39m\u001b[38;5;124m\"\u001b[39m]:\n",
      "File \u001b[0;32m~/miniconda3/envs/genai/lib/python3.10/site-packages/httpx/_client.py:1014\u001b[0m, in \u001b[0;36mClient._send_single_request\u001b[0;34m(self, request)\u001b[0m\n\u001b[1;32m   1009\u001b[0m     \u001b[38;5;28;01mraise\u001b[39;00m \u001b[38;5;167;01mRuntimeError\u001b[39;00m(\n\u001b[1;32m   1010\u001b[0m         \u001b[38;5;124m\"\u001b[39m\u001b[38;5;124mAttempted to send an async request with a sync Client instance.\u001b[39m\u001b[38;5;124m\"\u001b[39m\n\u001b[1;32m   1011\u001b[0m     )\n\u001b[1;32m   1013\u001b[0m \u001b[38;5;28;01mwith\u001b[39;00m request_context(request\u001b[38;5;241m=\u001b[39mrequest):\n\u001b[0;32m-> 1014\u001b[0m     response \u001b[38;5;241m=\u001b[39m \u001b[43mtransport\u001b[49m\u001b[38;5;241;43m.\u001b[39;49m\u001b[43mhandle_request\u001b[49m\u001b[43m(\u001b[49m\u001b[43mrequest\u001b[49m\u001b[43m)\u001b[49m\n\u001b[1;32m   1016\u001b[0m \u001b[38;5;28;01massert\u001b[39;00m \u001b[38;5;28misinstance\u001b[39m(response\u001b[38;5;241m.\u001b[39mstream, SyncByteStream)\n\u001b[1;32m   1018\u001b[0m response\u001b[38;5;241m.\u001b[39mrequest \u001b[38;5;241m=\u001b[39m request\n",
      "File \u001b[0;32m~/miniconda3/envs/genai/lib/python3.10/site-packages/httpx/_transports/default.py:250\u001b[0m, in \u001b[0;36mHTTPTransport.handle_request\u001b[0;34m(self, request)\u001b[0m\n\u001b[1;32m    237\u001b[0m req \u001b[38;5;241m=\u001b[39m httpcore\u001b[38;5;241m.\u001b[39mRequest(\n\u001b[1;32m    238\u001b[0m     method\u001b[38;5;241m=\u001b[39mrequest\u001b[38;5;241m.\u001b[39mmethod,\n\u001b[1;32m    239\u001b[0m     url\u001b[38;5;241m=\u001b[39mhttpcore\u001b[38;5;241m.\u001b[39mURL(\n\u001b[0;32m   (...)\u001b[0m\n\u001b[1;32m    247\u001b[0m     extensions\u001b[38;5;241m=\u001b[39mrequest\u001b[38;5;241m.\u001b[39mextensions,\n\u001b[1;32m    248\u001b[0m )\n\u001b[1;32m    249\u001b[0m \u001b[38;5;28;01mwith\u001b[39;00m map_httpcore_exceptions():\n\u001b[0;32m--> 250\u001b[0m     resp \u001b[38;5;241m=\u001b[39m \u001b[38;5;28;43mself\u001b[39;49m\u001b[38;5;241;43m.\u001b[39;49m\u001b[43m_pool\u001b[49m\u001b[38;5;241;43m.\u001b[39;49m\u001b[43mhandle_request\u001b[49m\u001b[43m(\u001b[49m\u001b[43mreq\u001b[49m\u001b[43m)\u001b[49m\n\u001b[1;32m    252\u001b[0m \u001b[38;5;28;01massert\u001b[39;00m \u001b[38;5;28misinstance\u001b[39m(resp\u001b[38;5;241m.\u001b[39mstream, typing\u001b[38;5;241m.\u001b[39mIterable)\n\u001b[1;32m    254\u001b[0m \u001b[38;5;28;01mreturn\u001b[39;00m Response(\n\u001b[1;32m    255\u001b[0m     status_code\u001b[38;5;241m=\u001b[39mresp\u001b[38;5;241m.\u001b[39mstatus,\n\u001b[1;32m    256\u001b[0m     headers\u001b[38;5;241m=\u001b[39mresp\u001b[38;5;241m.\u001b[39mheaders,\n\u001b[1;32m    257\u001b[0m     stream\u001b[38;5;241m=\u001b[39mResponseStream(resp\u001b[38;5;241m.\u001b[39mstream),\n\u001b[1;32m    258\u001b[0m     extensions\u001b[38;5;241m=\u001b[39mresp\u001b[38;5;241m.\u001b[39mextensions,\n\u001b[1;32m    259\u001b[0m )\n",
      "File \u001b[0;32m~/miniconda3/envs/genai/lib/python3.10/site-packages/httpcore/_sync/connection_pool.py:256\u001b[0m, in \u001b[0;36mConnectionPool.handle_request\u001b[0;34m(self, request)\u001b[0m\n\u001b[1;32m    253\u001b[0m         closing \u001b[38;5;241m=\u001b[39m \u001b[38;5;28mself\u001b[39m\u001b[38;5;241m.\u001b[39m_assign_requests_to_connections()\n\u001b[1;32m    255\u001b[0m     \u001b[38;5;28mself\u001b[39m\u001b[38;5;241m.\u001b[39m_close_connections(closing)\n\u001b[0;32m--> 256\u001b[0m     \u001b[38;5;28;01mraise\u001b[39;00m exc \u001b[38;5;28;01mfrom\u001b[39;00m\u001b[38;5;250m \u001b[39m\u001b[38;5;28;01mNone\u001b[39;00m\n\u001b[1;32m    258\u001b[0m \u001b[38;5;66;03m# Return the response. Note that in this case we still have to manage\u001b[39;00m\n\u001b[1;32m    259\u001b[0m \u001b[38;5;66;03m# the point at which the response is closed.\u001b[39;00m\n\u001b[1;32m    260\u001b[0m \u001b[38;5;28;01massert\u001b[39;00m \u001b[38;5;28misinstance\u001b[39m(response\u001b[38;5;241m.\u001b[39mstream, typing\u001b[38;5;241m.\u001b[39mIterable)\n",
      "File \u001b[0;32m~/miniconda3/envs/genai/lib/python3.10/site-packages/httpcore/_sync/connection_pool.py:236\u001b[0m, in \u001b[0;36mConnectionPool.handle_request\u001b[0;34m(self, request)\u001b[0m\n\u001b[1;32m    232\u001b[0m connection \u001b[38;5;241m=\u001b[39m pool_request\u001b[38;5;241m.\u001b[39mwait_for_connection(timeout\u001b[38;5;241m=\u001b[39mtimeout)\n\u001b[1;32m    234\u001b[0m \u001b[38;5;28;01mtry\u001b[39;00m:\n\u001b[1;32m    235\u001b[0m     \u001b[38;5;66;03m# Send the request on the assigned connection.\u001b[39;00m\n\u001b[0;32m--> 236\u001b[0m     response \u001b[38;5;241m=\u001b[39m \u001b[43mconnection\u001b[49m\u001b[38;5;241;43m.\u001b[39;49m\u001b[43mhandle_request\u001b[49m\u001b[43m(\u001b[49m\n\u001b[1;32m    237\u001b[0m \u001b[43m        \u001b[49m\u001b[43mpool_request\u001b[49m\u001b[38;5;241;43m.\u001b[39;49m\u001b[43mrequest\u001b[49m\n\u001b[1;32m    238\u001b[0m \u001b[43m    \u001b[49m\u001b[43m)\u001b[49m\n\u001b[1;32m    239\u001b[0m \u001b[38;5;28;01mexcept\u001b[39;00m ConnectionNotAvailable:\n\u001b[1;32m    240\u001b[0m     \u001b[38;5;66;03m# In some cases a connection may initially be available to\u001b[39;00m\n\u001b[1;32m    241\u001b[0m     \u001b[38;5;66;03m# handle a request, but then become unavailable.\u001b[39;00m\n\u001b[1;32m    242\u001b[0m     \u001b[38;5;66;03m#\u001b[39;00m\n\u001b[1;32m    243\u001b[0m     \u001b[38;5;66;03m# In this case we clear the connection and try again.\u001b[39;00m\n\u001b[1;32m    244\u001b[0m     pool_request\u001b[38;5;241m.\u001b[39mclear_connection()\n",
      "File \u001b[0;32m~/miniconda3/envs/genai/lib/python3.10/site-packages/httpcore/_sync/connection.py:103\u001b[0m, in \u001b[0;36mHTTPConnection.handle_request\u001b[0;34m(self, request)\u001b[0m\n\u001b[1;32m    100\u001b[0m     \u001b[38;5;28mself\u001b[39m\u001b[38;5;241m.\u001b[39m_connect_failed \u001b[38;5;241m=\u001b[39m \u001b[38;5;28;01mTrue\u001b[39;00m\n\u001b[1;32m    101\u001b[0m     \u001b[38;5;28;01mraise\u001b[39;00m exc\n\u001b[0;32m--> 103\u001b[0m \u001b[38;5;28;01mreturn\u001b[39;00m \u001b[38;5;28;43mself\u001b[39;49m\u001b[38;5;241;43m.\u001b[39;49m\u001b[43m_connection\u001b[49m\u001b[38;5;241;43m.\u001b[39;49m\u001b[43mhandle_request\u001b[49m\u001b[43m(\u001b[49m\u001b[43mrequest\u001b[49m\u001b[43m)\u001b[49m\n",
      "File \u001b[0;32m~/miniconda3/envs/genai/lib/python3.10/site-packages/httpcore/_sync/http11.py:136\u001b[0m, in \u001b[0;36mHTTP11Connection.handle_request\u001b[0;34m(self, request)\u001b[0m\n\u001b[1;32m    134\u001b[0m     \u001b[38;5;28;01mwith\u001b[39;00m Trace(\u001b[38;5;124m\"\u001b[39m\u001b[38;5;124mresponse_closed\u001b[39m\u001b[38;5;124m\"\u001b[39m, logger, request) \u001b[38;5;28;01mas\u001b[39;00m trace:\n\u001b[1;32m    135\u001b[0m         \u001b[38;5;28mself\u001b[39m\u001b[38;5;241m.\u001b[39m_response_closed()\n\u001b[0;32m--> 136\u001b[0m \u001b[38;5;28;01mraise\u001b[39;00m exc\n",
      "File \u001b[0;32m~/miniconda3/envs/genai/lib/python3.10/site-packages/httpcore/_sync/http11.py:106\u001b[0m, in \u001b[0;36mHTTP11Connection.handle_request\u001b[0;34m(self, request)\u001b[0m\n\u001b[1;32m     95\u001b[0m     \u001b[38;5;28;01mpass\u001b[39;00m\n\u001b[1;32m     97\u001b[0m \u001b[38;5;28;01mwith\u001b[39;00m Trace(\n\u001b[1;32m     98\u001b[0m     \u001b[38;5;124m\"\u001b[39m\u001b[38;5;124mreceive_response_headers\u001b[39m\u001b[38;5;124m\"\u001b[39m, logger, request, kwargs\n\u001b[1;32m     99\u001b[0m ) \u001b[38;5;28;01mas\u001b[39;00m trace:\n\u001b[1;32m    100\u001b[0m     (\n\u001b[1;32m    101\u001b[0m         http_version,\n\u001b[1;32m    102\u001b[0m         status,\n\u001b[1;32m    103\u001b[0m         reason_phrase,\n\u001b[1;32m    104\u001b[0m         headers,\n\u001b[1;32m    105\u001b[0m         trailing_data,\n\u001b[0;32m--> 106\u001b[0m     ) \u001b[38;5;241m=\u001b[39m \u001b[38;5;28;43mself\u001b[39;49m\u001b[38;5;241;43m.\u001b[39;49m\u001b[43m_receive_response_headers\u001b[49m\u001b[43m(\u001b[49m\u001b[38;5;241;43m*\u001b[39;49m\u001b[38;5;241;43m*\u001b[39;49m\u001b[43mkwargs\u001b[49m\u001b[43m)\u001b[49m\n\u001b[1;32m    107\u001b[0m     trace\u001b[38;5;241m.\u001b[39mreturn_value \u001b[38;5;241m=\u001b[39m (\n\u001b[1;32m    108\u001b[0m         http_version,\n\u001b[1;32m    109\u001b[0m         status,\n\u001b[1;32m    110\u001b[0m         reason_phrase,\n\u001b[1;32m    111\u001b[0m         headers,\n\u001b[1;32m    112\u001b[0m     )\n\u001b[1;32m    114\u001b[0m network_stream \u001b[38;5;241m=\u001b[39m \u001b[38;5;28mself\u001b[39m\u001b[38;5;241m.\u001b[39m_network_stream\n",
      "File \u001b[0;32m~/miniconda3/envs/genai/lib/python3.10/site-packages/httpcore/_sync/http11.py:177\u001b[0m, in \u001b[0;36mHTTP11Connection._receive_response_headers\u001b[0;34m(self, request)\u001b[0m\n\u001b[1;32m    174\u001b[0m timeout \u001b[38;5;241m=\u001b[39m timeouts\u001b[38;5;241m.\u001b[39mget(\u001b[38;5;124m\"\u001b[39m\u001b[38;5;124mread\u001b[39m\u001b[38;5;124m\"\u001b[39m, \u001b[38;5;28;01mNone\u001b[39;00m)\n\u001b[1;32m    176\u001b[0m \u001b[38;5;28;01mwhile\u001b[39;00m \u001b[38;5;28;01mTrue\u001b[39;00m:\n\u001b[0;32m--> 177\u001b[0m     event \u001b[38;5;241m=\u001b[39m \u001b[38;5;28;43mself\u001b[39;49m\u001b[38;5;241;43m.\u001b[39;49m\u001b[43m_receive_event\u001b[49m\u001b[43m(\u001b[49m\u001b[43mtimeout\u001b[49m\u001b[38;5;241;43m=\u001b[39;49m\u001b[43mtimeout\u001b[49m\u001b[43m)\u001b[49m\n\u001b[1;32m    178\u001b[0m     \u001b[38;5;28;01mif\u001b[39;00m \u001b[38;5;28misinstance\u001b[39m(event, h11\u001b[38;5;241m.\u001b[39mResponse):\n\u001b[1;32m    179\u001b[0m         \u001b[38;5;28;01mbreak\u001b[39;00m\n",
      "File \u001b[0;32m~/miniconda3/envs/genai/lib/python3.10/site-packages/httpcore/_sync/http11.py:217\u001b[0m, in \u001b[0;36mHTTP11Connection._receive_event\u001b[0;34m(self, timeout)\u001b[0m\n\u001b[1;32m    214\u001b[0m     event \u001b[38;5;241m=\u001b[39m \u001b[38;5;28mself\u001b[39m\u001b[38;5;241m.\u001b[39m_h11_state\u001b[38;5;241m.\u001b[39mnext_event()\n\u001b[1;32m    216\u001b[0m \u001b[38;5;28;01mif\u001b[39;00m event \u001b[38;5;129;01mis\u001b[39;00m h11\u001b[38;5;241m.\u001b[39mNEED_DATA:\n\u001b[0;32m--> 217\u001b[0m     data \u001b[38;5;241m=\u001b[39m \u001b[38;5;28;43mself\u001b[39;49m\u001b[38;5;241;43m.\u001b[39;49m\u001b[43m_network_stream\u001b[49m\u001b[38;5;241;43m.\u001b[39;49m\u001b[43mread\u001b[49m\u001b[43m(\u001b[49m\n\u001b[1;32m    218\u001b[0m \u001b[43m        \u001b[49m\u001b[38;5;28;43mself\u001b[39;49m\u001b[38;5;241;43m.\u001b[39;49m\u001b[43mREAD_NUM_BYTES\u001b[49m\u001b[43m,\u001b[49m\u001b[43m \u001b[49m\u001b[43mtimeout\u001b[49m\u001b[38;5;241;43m=\u001b[39;49m\u001b[43mtimeout\u001b[49m\n\u001b[1;32m    219\u001b[0m \u001b[43m    \u001b[49m\u001b[43m)\u001b[49m\n\u001b[1;32m    221\u001b[0m     \u001b[38;5;66;03m# If we feed this case through h11 we'll raise an exception like:\u001b[39;00m\n\u001b[1;32m    222\u001b[0m     \u001b[38;5;66;03m#\u001b[39;00m\n\u001b[1;32m    223\u001b[0m     \u001b[38;5;66;03m#     httpcore.RemoteProtocolError: can't handle event type\u001b[39;00m\n\u001b[0;32m   (...)\u001b[0m\n\u001b[1;32m    227\u001b[0m     \u001b[38;5;66;03m# perspective. Instead we handle this case distinctly and treat\u001b[39;00m\n\u001b[1;32m    228\u001b[0m     \u001b[38;5;66;03m# it as a ConnectError.\u001b[39;00m\n\u001b[1;32m    229\u001b[0m     \u001b[38;5;28;01mif\u001b[39;00m data \u001b[38;5;241m==\u001b[39m \u001b[38;5;124mb\u001b[39m\u001b[38;5;124m\"\u001b[39m\u001b[38;5;124m\"\u001b[39m \u001b[38;5;129;01mand\u001b[39;00m \u001b[38;5;28mself\u001b[39m\u001b[38;5;241m.\u001b[39m_h11_state\u001b[38;5;241m.\u001b[39mtheir_state \u001b[38;5;241m==\u001b[39m h11\u001b[38;5;241m.\u001b[39mSEND_RESPONSE:\n",
      "File \u001b[0;32m~/miniconda3/envs/genai/lib/python3.10/site-packages/httpcore/_backends/sync.py:128\u001b[0m, in \u001b[0;36mSyncStream.read\u001b[0;34m(self, max_bytes, timeout)\u001b[0m\n\u001b[1;32m    126\u001b[0m \u001b[38;5;28;01mwith\u001b[39;00m map_exceptions(exc_map):\n\u001b[1;32m    127\u001b[0m     \u001b[38;5;28mself\u001b[39m\u001b[38;5;241m.\u001b[39m_sock\u001b[38;5;241m.\u001b[39msettimeout(timeout)\n\u001b[0;32m--> 128\u001b[0m     \u001b[38;5;28;01mreturn\u001b[39;00m \u001b[38;5;28;43mself\u001b[39;49m\u001b[38;5;241;43m.\u001b[39;49m\u001b[43m_sock\u001b[49m\u001b[38;5;241;43m.\u001b[39;49m\u001b[43mrecv\u001b[49m\u001b[43m(\u001b[49m\u001b[43mmax_bytes\u001b[49m\u001b[43m)\u001b[49m\n",
      "File \u001b[0;32m~/miniconda3/envs/genai/lib/python3.10/ssl.py:1292\u001b[0m, in \u001b[0;36mSSLSocket.recv\u001b[0;34m(self, buflen, flags)\u001b[0m\n\u001b[1;32m   1288\u001b[0m     \u001b[38;5;28;01mif\u001b[39;00m flags \u001b[38;5;241m!=\u001b[39m \u001b[38;5;241m0\u001b[39m:\n\u001b[1;32m   1289\u001b[0m         \u001b[38;5;28;01mraise\u001b[39;00m \u001b[38;5;167;01mValueError\u001b[39;00m(\n\u001b[1;32m   1290\u001b[0m             \u001b[38;5;124m\"\u001b[39m\u001b[38;5;124mnon-zero flags not allowed in calls to recv() on \u001b[39m\u001b[38;5;132;01m%s\u001b[39;00m\u001b[38;5;124m\"\u001b[39m \u001b[38;5;241m%\u001b[39m\n\u001b[1;32m   1291\u001b[0m             \u001b[38;5;28mself\u001b[39m\u001b[38;5;241m.\u001b[39m\u001b[38;5;18m__class__\u001b[39m)\n\u001b[0;32m-> 1292\u001b[0m     \u001b[38;5;28;01mreturn\u001b[39;00m \u001b[38;5;28;43mself\u001b[39;49m\u001b[38;5;241;43m.\u001b[39;49m\u001b[43mread\u001b[49m\u001b[43m(\u001b[49m\u001b[43mbuflen\u001b[49m\u001b[43m)\u001b[49m\n\u001b[1;32m   1293\u001b[0m \u001b[38;5;28;01melse\u001b[39;00m:\n\u001b[1;32m   1294\u001b[0m     \u001b[38;5;28;01mreturn\u001b[39;00m \u001b[38;5;28msuper\u001b[39m()\u001b[38;5;241m.\u001b[39mrecv(buflen, flags)\n",
      "File \u001b[0;32m~/miniconda3/envs/genai/lib/python3.10/ssl.py:1165\u001b[0m, in \u001b[0;36mSSLSocket.read\u001b[0;34m(self, len, buffer)\u001b[0m\n\u001b[1;32m   1163\u001b[0m         \u001b[38;5;28;01mreturn\u001b[39;00m \u001b[38;5;28mself\u001b[39m\u001b[38;5;241m.\u001b[39m_sslobj\u001b[38;5;241m.\u001b[39mread(\u001b[38;5;28mlen\u001b[39m, buffer)\n\u001b[1;32m   1164\u001b[0m     \u001b[38;5;28;01melse\u001b[39;00m:\n\u001b[0;32m-> 1165\u001b[0m         \u001b[38;5;28;01mreturn\u001b[39;00m \u001b[38;5;28;43mself\u001b[39;49m\u001b[38;5;241;43m.\u001b[39;49m\u001b[43m_sslobj\u001b[49m\u001b[38;5;241;43m.\u001b[39;49m\u001b[43mread\u001b[49m\u001b[43m(\u001b[49m\u001b[38;5;28;43mlen\u001b[39;49m\u001b[43m)\u001b[49m\n\u001b[1;32m   1166\u001b[0m \u001b[38;5;28;01mexcept\u001b[39;00m SSLError \u001b[38;5;28;01mas\u001b[39;00m x:\n\u001b[1;32m   1167\u001b[0m     \u001b[38;5;28;01mif\u001b[39;00m x\u001b[38;5;241m.\u001b[39margs[\u001b[38;5;241m0\u001b[39m] \u001b[38;5;241m==\u001b[39m SSL_ERROR_EOF \u001b[38;5;129;01mand\u001b[39;00m \u001b[38;5;28mself\u001b[39m\u001b[38;5;241m.\u001b[39msuppress_ragged_eofs:\n",
      "\u001b[0;31mKeyboardInterrupt\u001b[0m: "
     ]
    }
   ],
   "source": [
    "files = os.listdir(\"datasets_json/json_price_suplier\")\n",
    "\n",
    "for file in files:\n",
    "    file_name = f\"datasets_json/json_price_suplier/{file}\"\n",
    "    output_file = f\"datasets_json/json_price_full/{file}\"\n",
    "\n",
    "    # Читаем исходный JSON-файл\n",
    "    with open(file_name, \"r\", encoding=\"utf-8\") as f:\n",
    "        products = json.load(f)\n",
    "\n",
    "    # Преобразуем товары\n",
    "    transformed_products = []\n",
    "    for product in tqdm(products, desc=\"Обработка товаров\"):\n",
    "        new_product = transform_product(product)\n",
    "        if new_product:\n",
    "            transformed_products.append(new_product)\n",
    "\n",
    "    # Сохраняем результат\n",
    "    with open(output_file, \"w\", encoding=\"utf-8\") as f:\n",
    "        json.dump(transformed_products, f, ensure_ascii=False, indent=4)\n",
    "\n",
    "    print(\"✅ Готово! Данные сохранены в transformed_products.json\")"
   ]
  },
  {
   "cell_type": "markdown",
   "metadata": {},
   "source": [
    "## JSON Agent client data"
   ]
  },
  {
   "cell_type": "code",
   "execution_count": 2,
   "metadata": {},
   "outputs": [
    {
     "data": {
      "text/plain": [
       "True"
      ]
     },
     "execution_count": 2,
     "metadata": {},
     "output_type": "execute_result"
    }
   ],
   "source": [
    "from dotenv import load_dotenv\n",
    "import os\n",
    "import json\n",
    "import openai\n",
    "import pandas as pd\n",
    "from langchain.chat_models import ChatOpenAI\n",
    "from langchain.schema import HumanMessage\n",
    "from langchain_community.document_loaders import UnstructuredFileLoader\n",
    "\n",
    "load_dotenv()\n"
   ]
  },
  {
   "cell_type": "markdown",
   "metadata": {},
   "source": [
    "### prompt templates"
   ]
  },
  {
   "cell_type": "markdown",
   "metadata": {},
   "source": [
    "#### обработка заявки"
   ]
  },
  {
   "cell_type": "markdown",
   "metadata": {},
   "source": [
    "prompt = f\"\"\"\n",
    "        Ты получишь текстовые данные с описанием товаров. Они могут быть как табличными так и текст с описанием товаров.  \n",
    "        Верни два списка со следующими структурами. \n",
    "        1. Общая характеристика заявки со струткурой:\n",
    "        [\n",
    "        {{\n",
    "            \"номер заявки\": int,         // используй UUID v4 для генерации уникального номера заявки\n",
    "            \"дата\": datetime,  // дата прихода заявки\n",
    "            \"товары\": [int]        // уникальные id для каждого товара в этой заявке \n",
    "        }}\n",
    "        ]\n",
    "        2.\n",
    "        [\n",
    "        {{\n",
    "            \"ID\": int,         // id-товара из первого json файла\n",
    "            \"описание\": \"string\" // описание товара, если нет оставь пустым \n",
    "            \"наименование\": \"string\",  // наименование товара\n",
    "            \"размеры\": [\"string/int\"],      // Список доступных размеров (если нет, укажи []), размеры могут иметь следующий вид: l70-176;48-50;S/M/L\n",
    "            \"кол-во\": [\"int\"]         // Количество товаров для каждого размера или общее количество (если размеров нет, укажи [общее число]), количество часто это число перед шт. : 5 шт.\n",
    "        }}\n",
    "        ]\n",
    "        Правила обработки данных:\n",
    "        Извлекай только нужные данные: игнорируй любые другие колонки и текст.\n",
    "        \"размеры\" – если размеры указаны, представь их в виде списка [\"S\", \"M\", \"L\"] или [\"44\", \"56\"], если их нет — укажи [\"one-size\"].\n",
    "        \"кол-во\" – Если есть размеры, указывай количество товаров для каждого размера в том же порядке, что и \"размеры\". \n",
    "        Если размеров нет, но указано общее количество, записывай его как список с одним числом [\"количество\"]. \n",
    "        \n",
    "        Важно:\n",
    "        Если есть таблицы: анализируй заголовки таблиц и извлекай данные корректно.\n",
    "        Соблюдай указанную структуру без лишний слов. Ответ должен содержать два массива через запятую.\n",
    "\n",
    "        Вот данные:\n",
    "        {text}\n",
    "    \"\"\""
   ]
  },
  {
   "cell_type": "markdown",
   "metadata": {},
   "source": [
    "#### создание бд"
   ]
  },
  {
   "cell_type": "markdown",
   "metadata": {},
   "source": [
    "    prompt = f\"\"\"\n",
    "        Ты получишь текстовые данные с описанием товаров и их цен. Это таблица.  \n",
    "        Верни json структуру:\n",
    "        [\n",
    "        {{\n",
    "            \"id\": int,  # Генерация ID, уникального для каждого товара в таблице\n",
    "            \"name\": string, # наименование товара, в тексте это представлено как коротное описание\n",
    "            \"description\": string, # полное описание товара\n",
    "            \"price\": float,  # Преобразуем в число # цена товара\n",
    "            \"currency\": \"руб.\" # одинаковая для всех товаров, не зависит от текста\n",
    "        }}\n",
    "        ]\n",
    "       \n",
    "        Правила обработки:\n",
    "        - Верни данные в формате json\n",
    "        - Придумай уникальный ID для каждого товара\n",
    "        - Преобразуй цену в число\n",
    "        - Преобразуй текст в нижний регистр\n",
    "        - Удали лишние пробелы\n",
    "        - Лемматизируй текст\n",
    "        \n",
    "        Важно:\n",
    "        Анализируй заголовки таблиц и извлекай данные корректно.\n",
    "        Соблюдай указанную структуру без лишний слов. Ответ должен содержать ТОЛЬКО json структуру.\n",
    "\n",
    "        Вот данные:\n",
    "        {text}\n",
    "    \"\"\""
   ]
  },
  {
   "cell_type": "markdown",
   "metadata": {},
   "source": [
    "### creating bd"
   ]
  },
  {
   "cell_type": "code",
   "execution_count": 3,
   "metadata": {},
   "outputs": [],
   "source": [
    "def extract_text_from_file(file_path):\n",
    "    text_data = []\n",
    "    try:\n",
    "        loader = UnstructuredFileLoader(file_path)\n",
    "        docs = loader.load()\n",
    "        text_data.append(\"\\n\\n\".join([doc.page_content for doc in docs]))\n",
    "    except Exception as e:\n",
    "        print(f\"⚠️ Ошибка при обработке {file_path}: {e}\")\n",
    "\n",
    "    return \"\\n\\n\".join(text_data)\n",
    "\n",
    "def convert_to_json(text):\n",
    "    prompt = f\"\"\"\n",
    "        Ты получишь текстовые данные с описанием товаров и их цен. Это таблица.  \n",
    "        Верни json структуру:\n",
    "        [\n",
    "        {{\n",
    "            \"name\": \"Название товара\", // наименование товара\n",
    "            \"description\": \"Описание товара\", // описание товара, если нет оставь пустым \n",
    "            \"sizes\": [\"размеры\"], // Список доступных размеров (если нет, укажи []), размеры могут иметь следующий вид: l70-176;48-50;S/M/L\n",
    "            \"stock\": [количество], // Количество товаров для каждого размера или общее количество (если размеров нет, укажи [общее число]), количество часто это число перед шт. : 5 шт.\n",
    "            \"price\": цена\n",
    "        }}\n",
    "        ]\n",
    "       \n",
    "        Правила обработки:\n",
    "        - Верни данные в формате json\n",
    "        - Преобразуй цену в число\n",
    "        - Преобразуй текст в нижний регистр\n",
    "        - Удали лишние пробелы\n",
    "        \n",
    "        Важно:\n",
    "        Анализируй заголовки таблиц и извлекай данные корректно.\n",
    "        Соблюдай указанную структуру без лишний слов. Ответ должен содержать ТОЛЬКО json структуру.\n",
    "\n",
    "        Вот данные:\n",
    "        {text}\n",
    "    \"\"\"\n",
    "    \n",
    "    llm = ChatOpenAI(model_name=\"gpt-4o-mini\", temperature=0)\n",
    "    response = llm([HumanMessage(content=prompt)])\n",
    "    return response.content.strip(\"```json\").strip(\"```\")\n",
    "\n",
    "def process_files(dir):\n",
    "    \n",
    "    for file_name in os.listdir(dir):\n",
    "        file_path = os.path.join(dir, file_name)\n",
    "        text_data = extract_text_from_file(file_path)\n",
    "        json_data = convert_to_json(text_data)\n",
    "    \n",
    "        #return json_data\n",
    "        output_file = os.path.splitext(f'json_price/{file_name}')[0]+'.json'\n",
    "\n",
    "        with open(output_file, \"w\", encoding=\"utf-8\") as f:\n",
    "            json.dump(json.loads(json_data), f, indent=4, ensure_ascii=False)\n",
    "        print(f\"✅ Данные сохранены в {output_file}!\")"
   ]
  },
  {
   "cell_type": "code",
   "execution_count": 10,
   "metadata": {},
   "outputs": [],
   "source": [
    "text_data = extract_text_from_file(\"exmp_data/ЗАЯВКА НА СПЕЦОДЕЖДУ (1).pdf\")\n",
    "json_data = convert_to_json(text_data)\n"
   ]
  },
  {
   "cell_type": "code",
   "execution_count": null,
   "metadata": {},
   "outputs": [],
   "source": [
    "process_files(\"datasets_raw/прайсы_поставщиков\")"
   ]
  },
  {
   "cell_type": "markdown",
   "metadata": {},
   "source": [
    "## vecotr db"
   ]
  },
  {
   "cell_type": "code",
   "execution_count": 1,
   "metadata": {},
   "outputs": [
    {
     "name": "stderr",
     "output_type": "stream",
     "text": [
      "/tmp/ipykernel_266289/3198731672.py:13: LangChainDeprecationWarning: The class `OpenAIEmbeddings` was deprecated in LangChain 0.0.9 and will be removed in 1.0. An updated version of the class exists in the :class:`~langchain-openai package and should be used instead. To use it run `pip install -U :class:`~langchain-openai` and import as `from :class:`~langchain_openai import OpenAIEmbeddings``.\n",
      "  embedding_function = OpenAIEmbeddings(model=\"text-embedding-3-small\")\n"
     ]
    },
    {
     "name": "stdout",
     "output_type": "stream",
     "text": [
      "Данные успешно загружены в ChromaDB!\n",
      "Данные успешно загружены в ChromaDB!\n",
      "Данные успешно загружены в ChromaDB!\n",
      "Данные успешно загружены в ChromaDB!\n",
      "Данные успешно загружены в ChromaDB!\n",
      "Данные успешно загружены в ChromaDB!\n"
     ]
    }
   ],
   "source": [
    "import json\n",
    "import chromadb\n",
    "from langchain.vectorstores import Chroma\n",
    "from langchain.embeddings.openai import OpenAIEmbeddings\n",
    "from uuid import uuid4\n",
    "import os\n",
    "\n",
    "# 2. Настраиваем ChromaDB\n",
    "chroma_client = chromadb.PersistentClient(path=\"chroma_db_price\")  # Хранит данные на диске\n",
    "collection = chroma_client.get_or_create_collection(name=\"products\")\n",
    "\n",
    "# 3. Используем OpenAI для векторизации (замени на свою модель, если надо)\n",
    "embedding_function = OpenAIEmbeddings(model=\"text-embedding-3-small\")\n",
    "\n",
    "for file_name in os.listdir(\"datasets_json/json_price\"):\n",
    "    file_path = \"datasets_json/json_price/\" + file_name\n",
    "    # 1. Загружаем JSON-файл\n",
    "    with open(file_path, \"r\", encoding=\"utf-8\") as f:\n",
    "        data = json.load(f)\n",
    "\n",
    "    # 4. Преобразуем данные и загружаем в Chroma\n",
    "    for item in data:\n",
    "        vector = embedding_function.embed_query(item[\"text\"])  # Векторизация текста\n",
    "        collection.add(\n",
    "            ids=str(uuid4()),\n",
    "            embeddings=[vector],\n",
    "            metadatas=[item[\"metadata\"]],\n",
    "            documents=[item[\"text\"]]\n",
    "        )\n",
    "\n",
    "    print(\"Данные успешно загружены в ChromaDB!\")\n"
   ]
  },
  {
   "cell_type": "code",
   "execution_count": 4,
   "metadata": {},
   "outputs": [],
   "source": [
    "#from langchain_ollama import OllamaEmbeddings\n",
    "#from langchain_community.embeddings import HuggingFaceEmbeddings\n",
    "from langchain_openai import OpenAIEmbeddings\n",
    "\n",
    "from uuid import uuid4\n",
    "import json\n",
    "from langchain.schema import Document\n",
    "import os"
   ]
  },
  {
   "cell_type": "code",
   "execution_count": 2,
   "metadata": {},
   "outputs": [],
   "source": [
    "import re\n",
    "import pymorphy2\n",
    "\n",
    "morph = pymorphy2.MorphAnalyzer()\n",
    "\n",
    "def preprocess_text(text):\n",
    "    text = text.lower()  # Lowercase\n",
    "    text = re.sub(r'\\s+', ' ', text).strip()  # Remove extra spaces\n",
    "    words = text.split()\n",
    "    lemmatized_words = [morph.parse(word)[0].normal_form for word in words]\n",
    "    return ' '.join(lemmatized_words)"
   ]
  },
  {
   "cell_type": "code",
   "execution_count": 5,
   "metadata": {},
   "outputs": [],
   "source": [
    "docs = []\n",
    "\n",
    "for file_name in os.listdir(\"json_price\"):\n",
    "    file_path = \"json_price/\" + file_name\n",
    "    with open(file_path, \"r\", encoding=\"utf-8\") as f:\n",
    "        products = json.load(f)\n",
    "\n",
    "\n",
    "    for product in products:\n",
    "        name = preprocess_text(product[\"name\"])\n",
    "        description = preprocess_text(product[\"description\"])\n",
    "        metadata = {key: str(product[key]) for key in product if key not in [\"name\", \"description\"]}\n",
    "        metadata[\"currency\"] = \"RUB\"\n",
    "\n",
    "        # Create a LangChain Document object\n",
    "        doc = Document(page_content=f\"{name}. {description}\", metadata=metadata)\n",
    "        docs.append(doc)"
   ]
  },
  {
   "cell_type": "code",
   "execution_count": 6,
   "metadata": {},
   "outputs": [],
   "source": [
    "from langchain_chroma import Chroma\n",
    "\n",
    "\n",
    "#model_name = \"DeepPavlov/rubert-base-cased\"\n",
    "#embedding_model = HuggingFaceEmbeddings(model_name = \"intfloat/multilingual-e5-base\")\n",
    "embedding_model = OpenAIEmbeddings(\n",
    "    model=\"text-embedding-3-large\")\n",
    "\n",
    "vector_store = Chroma(\n",
    "    collection_name=\"products\",\n",
    "    embedding_function=embedding_model,\n",
    "    persist_directory=\"./chroma_langchain_db_price\",  # Where to save data locally, remove if not necessary\n",
    ")"
   ]
  },
  {
   "cell_type": "code",
   "execution_count": 7,
   "metadata": {},
   "outputs": [],
   "source": [
    "uuids = [str(uuid4()) for _ in range(len(docs))]"
   ]
  },
  {
   "cell_type": "code",
   "execution_count": null,
   "metadata": {},
   "outputs": [],
   "source": [
    "vector_store.add_documents(documents=docs, ids = uuids)"
   ]
  },
  {
   "cell_type": "markdown",
   "metadata": {},
   "source": [
    "## retriever"
   ]
  },
  {
   "cell_type": "code",
   "execution_count": 32,
   "metadata": {},
   "outputs": [],
   "source": [
    "from langchain_chroma import Chroma\n",
    "from langchain_openai import OpenAIEmbeddings\n",
    "\n",
    "embedding_model = OpenAIEmbeddings(model=\"text-embedding-3-small\")\n",
    "vector_store = Chroma(embedding_function=embedding_model, collection_name = \"products\", persist_directory=\"./chroma_db_price\")"
   ]
  },
  {
   "cell_type": "code",
   "execution_count": 33,
   "metadata": {},
   "outputs": [],
   "source": [
    "filters = {'$and': [{'category': {'$eq': \"Комплементарное\"}}, {'season': {'$eq': \"Лето\"}}, {'gender': {'$eq': 'Унисекс'}}]}\n",
    "retriever = vector_store.as_retriever(search_kwargs={'filter':filters})"
   ]
  },
  {
   "cell_type": "code",
   "execution_count": 36,
   "metadata": {},
   "outputs": [
    {
     "data": {
      "text/plain": [
       "[Document(id='02972398-9cad-4423-a906-ae40af997148', metadata={'category': 'Комплементарное', 'currency': 'RUB', 'gender': 'Унисекс', 'material': '', 'price': 290, 'season': 'Лето', 'sizes': 'one-size', 'stock': '1'}, page_content='бейсболка васильковый'),\n",
       " Document(id='290d6438-4aab-4d77-9c80-899140e9c874', metadata={'category': 'Комплементарное', 'currency': 'RUB', 'gender': 'Унисекс', 'material': '[]', 'price': 500, 'season': 'Лето', 'sizes': '[\"one-size\"]', 'stock': '[1]'}, page_content='рубашка-поло с коротким рукавом красная р.l(50)')]"
      ]
     },
     "execution_count": 36,
     "metadata": {},
     "output_type": "execute_result"
    }
   ],
   "source": [
    "retriever.invoke(\"Футболка\")"
   ]
  },
  {
   "cell_type": "markdown",
   "metadata": {},
   "source": [
    "## rag"
   ]
  },
  {
   "cell_type": "code",
   "execution_count": 10,
   "metadata": {},
   "outputs": [],
   "source": [
    "from langchain_openai import ChatOpenAI\n",
    "\n",
    "llm = ChatOpenAI(model_name = \"gpt-4o-mini\")"
   ]
  },
  {
   "cell_type": "code",
   "execution_count": 21,
   "metadata": {},
   "outputs": [],
   "source": [
    "from langchain_core.prompts import PromptTemplate\n",
    "from langchain_core.output_parsers import StrOutputParser\n",
    "\n",
    "template = \"\"\"\n",
    "Ты – эксперт по подбору и производству спецодежды. \n",
    "Ты получаешь на вход следующие JSON-структуры, которые надо дополнить недостоющими параметрами(статусы, аналоги):\n",
    "{question}\n",
    "1. **Общая характеристика заявки**:\n",
    "    ```json\n",
    "    [\n",
    "        {{\n",
    "            \"номер заявки\": \"UUID\",    // Генерируй уникальный UUID v4\n",
    "            \"дата\": \"datetime\",       // Дата поступления заявки\n",
    "            \"товары\": [int]           // Список уникальных ID товаров в этой заявке\n",
    "            \"статус\": string            // Определяется по правилам ниже\n",
    "        }}\n",
    "    ]\n",
    "    ```\n",
    "\n",
    "2. **Детализация каждого товара в заявке**:\n",
    "    ```json\n",
    "    [\n",
    "        {{\n",
    "            \"ID\": int,                    // ID товара из первого JSON\n",
    "            \"описание\": \"string\",         // Описание товара (если нет, оставь пустым)\n",
    "            \"наименование\": \"string\",     // Наименование товара\n",
    "            \"размеры\": [\"string/int\"],    // Доступные размеры (если нет, укажи [])\n",
    "            \"кол-во\": [\"int\"],            // Количество по размерам или общее (если размеров нет, укажи [общее число])\n",
    "            \"статус\": \"string\",           // Определяется по правилам ниже\n",
    "            \"аналоги\": [\"string\"]         // Перечисли найденные аналоги (если нет аналогов, укажи [])\n",
    "        }}\n",
    "    ]\n",
    "    ```\n",
    "\n",
    "### Логика определения **\"статуса\"** для товаров:\n",
    "- `\"ШИТЬ\"` → Если товар является спецодеждой.\n",
    "- `\"КОМПЛЕМЕНТАРНОЕ\"` → Если товар не является одеждой (например, ботинки, кепки, очки).\n",
    "- `\"НЕРЕЛЕВАНТНО\"` → Если товар не относится к спецодежде и СИЗ.\n",
    "\n",
    "### Заполнение поля **\"аналоги\"**:\n",
    "- Подбирай аналоги товара из `{retrieved_products}`.\n",
    "- Если есть подходящие аналоги, укажи их наименования в массиве.\n",
    "- Если аналогов нет, укажи `[]`.\n",
    "\n",
    "### Логика определения **\"статуса\"** заявки:\n",
    "- `\"ШИТЬ\"` → Если хотя бы один товар в JSON 2 имеет статус `\"ШИТЬ\"`.\n",
    "- `\"АНАЛОГИ\"` → Если у всех товаров со статусом `\"ШИТЬ\"` есть аналоги.\n",
    "- `\"НЕРЕЛЕВАНТНО\"` → Если хотя бы один товар имеет статус `\"НЕРЕЛЕВАНТНО\"`.\n",
    "\n",
    "### Формат ответа:\n",
    "Ответ должен содержать **два массива**, разделенных словом `next`, не пиши ```json```:\n",
    "\n",
    "\n",
    "[ ... ]  // JSON 1\n",
    "next\n",
    "[ ... ]  // JSON 2\n",
    "\"\"\""
   ]
  },
  {
   "cell_type": "code",
   "execution_count": 24,
   "metadata": {},
   "outputs": [],
   "source": [
    "from langchain_core.prompts import PromptTemplate\n",
    "from langchain_core.output_parsers import StrOutputParser\n",
    "\n",
    "prompt = PromptTemplate(input_variables=[\"retrieved_products\", \"question\"], template=template)\n",
    "\n",
    "llm_chain = prompt | llm | StrOutputParser()"
   ]
  },
  {
   "cell_type": "code",
   "execution_count": 25,
   "metadata": {},
   "outputs": [],
   "source": [
    "from langchain_core.runnables import RunnablePassthrough, RunnableLambda\n",
    "\n",
    "rag_chain = {\"retrieved_products\":retriever , \"question\": RunnablePassthrough()} | llm_chain"
   ]
  },
  {
   "cell_type": "code",
   "execution_count": 26,
   "metadata": {},
   "outputs": [],
   "source": [
    "request, products = rag_chain.invoke(json_data).split(\"next\")"
   ]
  },
  {
   "cell_type": "code",
   "execution_count": 30,
   "metadata": {},
   "outputs": [],
   "source": [
    "df_zayavki = pd.DataFrame(json.loads(request))\n",
    "df_tovary = pd.DataFrame(json.loads(products))"
   ]
  },
  {
   "cell_type": "code",
   "execution_count": 31,
   "metadata": {},
   "outputs": [
    {
     "data": {
      "text/html": [
       "<div>\n",
       "<style scoped>\n",
       "    .dataframe tbody tr th:only-of-type {\n",
       "        vertical-align: middle;\n",
       "    }\n",
       "\n",
       "    .dataframe tbody tr th {\n",
       "        vertical-align: top;\n",
       "    }\n",
       "\n",
       "    .dataframe thead th {\n",
       "        text-align: right;\n",
       "    }\n",
       "</style>\n",
       "<table border=\"1\" class=\"dataframe\">\n",
       "  <thead>\n",
       "    <tr style=\"text-align: right;\">\n",
       "      <th></th>\n",
       "      <th>номер заявки</th>\n",
       "      <th>дата</th>\n",
       "      <th>товары</th>\n",
       "      <th>статус</th>\n",
       "    </tr>\n",
       "  </thead>\n",
       "  <tbody>\n",
       "    <tr>\n",
       "      <th>0</th>\n",
       "      <td>b2c7a74e-9449-4f2c-9b2f-d39a3e14b06f</td>\n",
       "      <td>2023-10-01T00:00:00</td>\n",
       "      <td>[1, 2, 3]</td>\n",
       "      <td>ШИТЬ</td>\n",
       "    </tr>\n",
       "  </tbody>\n",
       "</table>\n",
       "</div>"
      ],
      "text/plain": [
       "                           номер заявки                 дата     товары статус\n",
       "0  b2c7a74e-9449-4f2c-9b2f-d39a3e14b06f  2023-10-01T00:00:00  [1, 2, 3]   ШИТЬ"
      ]
     },
     "execution_count": 31,
     "metadata": {},
     "output_type": "execute_result"
    }
   ],
   "source": [
    "df_zayavki"
   ]
  },
  {
   "cell_type": "code",
   "execution_count": 32,
   "metadata": {},
   "outputs": [
    {
     "data": {
      "text/html": [
       "<div>\n",
       "<style scoped>\n",
       "    .dataframe tbody tr th:only-of-type {\n",
       "        vertical-align: middle;\n",
       "    }\n",
       "\n",
       "    .dataframe tbody tr th {\n",
       "        vertical-align: top;\n",
       "    }\n",
       "\n",
       "    .dataframe thead th {\n",
       "        text-align: right;\n",
       "    }\n",
       "</style>\n",
       "<table border=\"1\" class=\"dataframe\">\n",
       "  <thead>\n",
       "    <tr style=\"text-align: right;\">\n",
       "      <th></th>\n",
       "      <th>ID</th>\n",
       "      <th>описание</th>\n",
       "      <th>наименование</th>\n",
       "      <th>размеры</th>\n",
       "      <th>кол-во</th>\n",
       "      <th>статус</th>\n",
       "      <th>аналоги</th>\n",
       "    </tr>\n",
       "  </thead>\n",
       "  <tbody>\n",
       "    <tr>\n",
       "      <th>0</th>\n",
       "      <td>1</td>\n",
       "      <td></td>\n",
       "      <td>Кепки</td>\n",
       "      <td>[one-size]</td>\n",
       "      <td>[100]</td>\n",
       "      <td>КОМПЛЕМЕНТАРНОЕ</td>\n",
       "      <td>[]</td>\n",
       "    </tr>\n",
       "    <tr>\n",
       "      <th>1</th>\n",
       "      <td>2</td>\n",
       "      <td></td>\n",
       "      <td>Футболки с логотипом на груди</td>\n",
       "      <td>[48-50, 52-54, 60-62]</td>\n",
       "      <td>[2, 1, 5]</td>\n",
       "      <td>ШИТЬ</td>\n",
       "      <td>[]</td>\n",
       "    </tr>\n",
       "    <tr>\n",
       "      <th>2</th>\n",
       "      <td>3</td>\n",
       "      <td></td>\n",
       "      <td>Футболки Поло с двумя логотипами</td>\n",
       "      <td>[48-50, 52-54, 56-58]</td>\n",
       "      <td>[2, 3, 2]</td>\n",
       "      <td>ШИТЬ</td>\n",
       "      <td>[]</td>\n",
       "    </tr>\n",
       "  </tbody>\n",
       "</table>\n",
       "</div>"
      ],
      "text/plain": [
       "   ID описание                      наименование                размеры  \\\n",
       "0   1                                      Кепки             [one-size]   \n",
       "1   2              Футболки с логотипом на груди  [48-50, 52-54, 60-62]   \n",
       "2   3           Футболки Поло с двумя логотипами  [48-50, 52-54, 56-58]   \n",
       "\n",
       "      кол-во           статус аналоги  \n",
       "0      [100]  КОМПЛЕМЕНТАРНОЕ      []  \n",
       "1  [2, 1, 5]             ШИТЬ      []  \n",
       "2  [2, 3, 2]             ШИТЬ      []  "
      ]
     },
     "execution_count": 32,
     "metadata": {},
     "output_type": "execute_result"
    }
   ],
   "source": [
    "df_tovary"
   ]
  },
  {
   "cell_type": "markdown",
   "metadata": {},
   "source": [
    "## выявление основных характеристик товаров с помощью llm "
   ]
  },
  {
   "cell_type": "code",
   "execution_count": 2,
   "metadata": {},
   "outputs": [],
   "source": [
    "from openai import OpenAI\n",
    "import json\n",
    "import random\n",
    "import numpy as np\n",
    "import os"
   ]
  },
  {
   "cell_type": "code",
   "execution_count": 39,
   "metadata": {},
   "outputs": [],
   "source": [
    "def load_product_descriptions(json_files):\n",
    "    descriptions = []\n",
    "    for file in json_files:\n",
    "        file = f\"datasets_json/json_analysis/{file}\"\n",
    "        with open(file, 'r', encoding='utf-8') as f:\n",
    "            data = json.load(f)\n",
    "            descriptions.extend(item[\"name\"] + item['description'] for item in data)\n",
    "    random.shuffle(descriptions)\n",
    "    return descriptions\n",
    "\n",
    "def analyze_descriptions_with_llm(descriptions):\n",
    "    prompt = f\"\"\"\n",
    "    У тебя есть список описаний товаров. \n",
    "    Выдели общие параметры, которые характеризуют эти товары, и перечисли возможные значения для каждого параметра.\n",
    "    По этим параметрам будет производиться поиск товаров. \n",
    "    Выдели максимальное возможное осмысленное количество параметров. \n",
    "    Ответ представь в формате JSON, где ключ - это название параметра, а значение - список возможных значений.\n",
    "    \n",
    "    Описания товаров:\n",
    "    {descriptions}  # Ограничение первых 5 для краткости\n",
    "    \"\"\"\n",
    "    client = OpenAI()\n",
    "\n",
    "    completion = client.chat.completions.create(\n",
    "    model=\"gpt-4o\",\n",
    "    messages=[\n",
    "        {\"role\": \"system\", \"content\": \"Ты - аналитик товарных данных.\"},\n",
    "        {\"role\": \"user\", \"content\": prompt}\n",
    "  ]\n",
    ")\n",
    "    \n",
    "    return completion.choices[0].message.content\n"
   ]
  },
  {
   "cell_type": "code",
   "execution_count": 40,
   "metadata": {},
   "outputs": [],
   "source": [
    "json_files = os.listdir(\"datasets_json/json_analysis\")\n",
    "descriptions = load_product_descriptions(json_files)\n",
    "num = len(descriptions)"
   ]
  },
  {
   "cell_type": "code",
   "execution_count": 41,
   "metadata": {},
   "outputs": [],
   "source": [
    "num_des = np.arange(0, num, 100)"
   ]
  },
  {
   "cell_type": "code",
   "execution_count": 42,
   "metadata": {},
   "outputs": [
    {
     "data": {
      "text/plain": [
       "array([  0, 100, 200, 300, 400, 500, 600])"
      ]
     },
     "execution_count": 42,
     "metadata": {},
     "output_type": "execute_result"
    }
   ],
   "source": [
    "num_des"
   ]
  },
  {
   "cell_type": "code",
   "execution_count": 43,
   "metadata": {},
   "outputs": [],
   "source": [
    "for i, p in enumerate(num_des):\n",
    "    result = analyze_descriptions_with_llm(descriptions[p:p+100])\n",
    "    with open(f\"datasets_json/analysis_params/params_{i}.json\", \"w\", encoding=\"utf-8\") as f:\n",
    "        f.write(result)"
   ]
  },
  {
   "cell_type": "code",
   "execution_count": 9,
   "metadata": {},
   "outputs": [
    {
     "name": "stdout",
     "output_type": "stream",
     "text": [
      "['Категория', 'Тип изделия', 'Материал', 'Цвет', 'Размер', 'Сезон', 'Назначение', 'Вес', 'Рост', 'Страна производитель']\n",
      "['Тип товара', 'Назначение/Функция', 'Бренд/Название', 'Цвет', 'Размер', 'Материал', 'Особенности', 'Объем/Вес', 'Срок действия/годности', 'Количество в упаковке']\n",
      "['Тип изделия', 'Материал', 'Цвет', 'Размер', 'Назначение', 'Особенности', 'Класс защиты', 'Объем']\n",
      "['Категория', 'Тип товара', 'Материал', 'Цвет', 'Размер/Рост', 'Защитные свойства', 'Тип застежки', 'Количество в упаковке']\n",
      "['category', 'product_type', 'material', 'color', 'volume', 'size', 'quantity', 'for', 'brand']\n",
      "['category', 'product_type', 'material', 'color', 'capacity', 'size', 'protection_class', 'closure_type', 'expiry_date', 'features', 'application']\n",
      "['Тип изделия', 'Назначение', 'Материал', 'Цвет', 'Размер', 'Количество', 'Вес', 'Объем', 'Стандарт', 'Специальные свойства']\n"
     ]
    }
   ],
   "source": [
    "for file_name in os.listdir(\"datasets_json/analysis_params\"):\n",
    "    file = \"datasets_json/analysis_params/\" + file_name\n",
    "    with open(file, 'r', encoding='utf-8') as f:\n",
    "            data = json.load(f)\n",
    "            params = data.keys()\n",
    "            print(list(params))"
   ]
  },
  {
   "cell_type": "markdown",
   "metadata": {},
   "source": [
    "### Общие параметры (совпадающие по смыслу):  \n",
    "- Категория / category  \n",
    "- Тип изделия / Тип товара / product_type  \n",
    "- Материал / material  \n",
    "- Цвет / color  \n",
    "- Размер / size  \n",
    "- Назначение / for / application  \n",
    "- Объем / volume / capacity  \n",
    "- Вес / Объем/Вес  \n",
    "- Количество / quantity / Количество в упаковке  \n",
    "- Особенности / features  \n",
    "\n",
    "### Различающиеся параметры:  \n",
    "- Сезон  \n",
    "- Страна производитель  \n",
    "- Бренд / Название  \n",
    "- Срок действия / годности / expiry_date  \n",
    "- Рост / Размер/Рост  \n",
    "- Класс защиты / protection_class  \n",
    "- Защитные свойства  \n",
    "- Тип застежки / closure_type  \n",
    "- Стандарт  \n",
    "- Специальные свойства"
   ]
  },
  {
   "cell_type": "code",
   "execution_count": 15,
   "metadata": {},
   "outputs": [
    {
     "name": "stdout",
     "output_type": "stream",
     "text": [
      "['Водонепроницаемый',\n",
      " 'Защита от механических воздействий',\n",
      " 'Защита от теплового излучения',\n",
      " 'Защита от химических веществ',\n",
      " 'Светоотражающий',\n",
      " 'Антипрокольный',\n",
      " 'Гипоаллергенный']\n"
     ]
    }
   ],
   "source": [
    "from pprint import pprint\n",
    "#search = [\"Особенности\", \"features\"]\n",
    "#search = [\"Категория\", \"category\"]\n",
    "#search = [\"Материал\", \"material\"]\n",
    "#search = [\"Сезон\"]\n",
    "#search = [\"Тип изделия\", \"Тип товара\", \"product_type\"]\n",
    "#search = [\"Назначение\", \"for\", \"application\"]\n",
    "#search = [\"Страна производитель\"]\n",
    "#search = [\"Бренд\", \"Название\"]\n",
    "#search = [\"Класс защиты\", \"protection_class\"]\n",
    "search = [\"Защитные свойства\"]\n",
    "#search = [\"Тип застежки\", \"closure_type\"]\n",
    "#search = [\"Стандарт\"]\n",
    "#search = [\"Специальные свойства\"]\n",
    "\n",
    "for file_name in os.listdir(\"datasets_json/analysis_params\"):\n",
    "    file = \"datasets_json/analysis_params/\" + file_name\n",
    "    with open(file, 'r', encoding='utf-8') as f:\n",
    "            data = json.load(f)\n",
    "            for i in range(len(search)):\n",
    "                if search[i] in data:\n",
    "                    pprint(data[search[i]])"
   ]
  },
  {
   "cell_type": "markdown",
   "metadata": {},
   "source": [
    "**Вывод**: большинство специфических характеристик были выявлены в одном случае из 7ми. Это свидетельствует о том, что модели сложно проанализировать товар по скудному описанию и \"додумать\" характеристики."
   ]
  },
  {
   "cell_type": "code",
   "execution_count": null,
   "metadata": {},
   "outputs": [],
   "source": []
  },
  {
   "cell_type": "markdown",
   "metadata": {},
   "source": [
    "## Ensemble Retriever: vectore and BM25"
   ]
  },
  {
   "cell_type": "code",
   "execution_count": 48,
   "metadata": {},
   "outputs": [],
   "source": [
    "from langchain_core.documents import Document\n",
    "\n",
    "\n",
    "docs = []\n",
    "\n",
    "for file_name in os.listdir(\"datasets_json/json_price_full\"):\n",
    "    file_path = \"datasets_json/json_price_full/\" + file_name\n",
    "    with open(file_path, \"r\", encoding=\"utf-8\") as f:\n",
    "        products = json.load(f)\n",
    "\n",
    "    for product in products:\n",
    "        metadata = product[\"metadata\"]\n",
    "\n",
    "        # Create a LangChain Document object\n",
    "        doc = Document(page_content=product[\"text\"], metadata=metadata)\n",
    "        docs.append(doc)"
   ]
  },
  {
   "cell_type": "code",
   "execution_count": null,
   "metadata": {},
   "outputs": [],
   "source": [
    "from langchain.retrievers import BM25Retriever, EnsembleRetriever\n",
    "\n",
    "from langchain.embeddings.openai import OpenAIEmbeddings\n",
    "embedding = OpenAIEmbeddings(model = \"text-embedding-3-small\")\n",
    "\n",
    "bm25_retriever = BM25Retriever.from_documents(documents=docs)\n",
    "#bm25_retriever.k = 2"
   ]
  },
  {
   "cell_type": "code",
   "execution_count": 65,
   "metadata": {},
   "outputs": [
    {
     "data": {
      "text/plain": [
       "[Document(metadata={'category': 'Костюм', 'season': 'Демисезон', 'gender': 'Унисекс', 'material': 'Канвас, 100% хлопок', 'sizes': '44-46/5, 52-54/2, 56-58/2, 56-58/3', 'stock': '2, 3, 5, 1', 'price': 4700, 'currency': 'RUB'}, page_content='костюм строймастер (куртка/пк) канваскомплектность: курка, полукомбинезон цвет: синий / чёрный ткань: канвас 100% хлопок, 480 гр/м2.'),\n",
       " Document(metadata={'category': 'Костюм', 'season': 'Демисезон', 'gender': 'Унисекс', 'material': '35% хлопок, 65% полиэфир', 'sizes': '44-46/2, 44-46/4, 44-46/5, 48-50/2, 48-50/4, 48-50/5, 52-54/2, 52-54/3, 52-54/4, 52-54/5, 56-58/2, 56-58/3, 56-58/4, 56-58/5, 60-62/2, 60-62/3, 60-62/4, 60-62/5, 64-66/2, 64-66/3, 64-66/4', 'stock': '8, 13, 10, 20, 14, 4, 15, 14, 18, 6, 17, 6, 7, 7, 15, 18, 3, 7, 5, 10, 9', 'price': 4200, 'currency': 'RUB'}, page_content='костюм флаер (куртка/п/к)комплектность: курка, полукомбинезон цвет: чёрный / красный ткань ткань \"фаворит-2\" (35% хлопок, 65% полиэфир) 240гр/м2.'),\n",
       " Document(metadata={'category': 'Костюм', 'season': 'Демисезон', 'gender': 'Унисекс', 'material': '[\"35% хлопок\", \"65% полиэстер\"]', 'sizes': '[\"44-46/4\", \"44-46/5\", \"48-50/2\", \"48-50/4\", \"48-50/5\", \"52-54/2\", \"56-58/2\", \"56-58/3\", \"56-58/4\", \"56-58/5\", \"60-62/2\", \"60-62/3\", \"60-62/4\", \"60-62/5\", \"64-66/2\", \"64-66/3\", \"64-66/4\"]', 'stock': '[18, 10, 10, 3, 4, 15, 20, 21, 2, 9, 10, 19, 6, 10, 5, 7, 6]', 'price': 4200, 'currency': 'RUB'}, page_content='костюм флаер (куртка/п/к)комплектность: курка, полукомбинезон цвет: тёмно синий / василёк ткань ткань \"фаворит-2\" (35% хлопок, 65% полиэстер) 240гр/м2.'),\n",
       " Document(metadata={'category': 'Костюм', 'season': 'Демисезон', 'gender': 'Унисекс', 'material': '35% хлопок, 65% полиэстер', 'sizes': '44-46/170-176, 44-46/182-188, 48-50/158-164, 48-50/170-176, 48-50/182-188, 52-54/158-164, 52-54/170-176, 52-54/182-188, 56-58/170-176, 56-58/182-188, 60-62/170-176, 60-62/182-188', 'stock': '15, 10, 10, 59, 60, 10, 48, 50, 40, 39, 20, 13', 'price': 3900, 'currency': 'RUB'}, page_content='костюм слесарь п/к (тк.твилл т.синий/василек)комплектность: курка, полукомбинезон цвет: тёмно синий / василёк ткань: «фоворит» (35% хлопок, 65% полиэстер) 240гр/м2.')]"
      ]
     },
     "execution_count": 65,
     "metadata": {},
     "output_type": "execute_result"
    }
   ],
   "source": [
    "bm25_retriever.get_relevant_documents('курка, полукомбинезон ')"
   ]
  },
  {
   "cell_type": "code",
   "execution_count": null,
   "metadata": {},
   "outputs": [],
   "source": [
    "from langchain_chroma import Chroma\n",
    "\n",
    "uuids = [str(uuid4()) for _ in range(len(docs))]\n",
    "vector_store = Chroma(embedding_function = embedding, collection_name = \"products\", persist_directory=\"./chroma_db_price_full\")\n",
    "\n",
    "vector_store.add_documents(documents=docs, ids=uuids)\n"
   ]
  },
  {
   "cell_type": "code",
   "execution_count": 59,
   "metadata": {},
   "outputs": [],
   "source": [
    "chroma_retriever = vector_store.as_retriever()"
   ]
  },
  {
   "cell_type": "code",
   "execution_count": 63,
   "metadata": {},
   "outputs": [],
   "source": [
    "ensemble_retriever = EnsembleRetriever(retrievers=[bm25_retriever, chroma_retriever],\n",
    "                                       weights=[0.8, 0.2])"
   ]
  },
  {
   "cell_type": "code",
   "execution_count": 64,
   "metadata": {},
   "outputs": [
    {
     "data": {
      "text/plain": [
       "[Document(metadata={'category': 'Костюм', 'season': 'Демисезон', 'gender': 'Унисекс', 'material': '35% хлопок, 65% полиэфир', 'sizes': '44-46/3, 48-50/3, 52-54/4', 'stock': '22, 1, 7', 'price': 2300, 'currency': 'RUB'}, page_content='костюм флаер (куртка/брюки)комплектность: курка, брюки цвет: чёрный / красный ткань ткань \"фаворит-2\" (35% хлопок, 65% полиэфир) 240гр/м2.'),\n",
       " Document(metadata={'category': 'Костюм', 'season': 'Демисезон', 'gender': 'Унисекс', 'material': '35% хлопок, 65% полиэфир', 'sizes': '44-46/2, 44-46/4, 44-46/5, 48-50/2, 48-50/4, 48-50/5, 52-54/2, 52-54/3, 52-54/4, 52-54/5, 56-58/2, 56-58/3, 56-58/4, 56-58/5, 60-62/2, 60-62/3, 60-62/4, 60-62/5, 64-66/2, 64-66/3, 64-66/4', 'stock': '8, 13, 10, 20, 14, 4, 15, 14, 18, 6, 17, 6, 7, 7, 15, 18, 3, 7, 5, 10, 9', 'price': 4200, 'currency': 'RUB'}, page_content='костюм флаер (куртка/п/к)комплектность: курка, полукомбинезон цвет: чёрный / красный ткань ткань \"фаворит-2\" (35% хлопок, 65% полиэфир) 240гр/м2.'),\n",
       " Document(metadata={'category': 'Костюм', 'season': 'Демисезон', 'gender': 'Унисекс', 'material': '[\"35% хлопок\", \"65% полиэстер\"]', 'sizes': '[\"44-46/4\", \"44-46/5\", \"48-50/2\", \"48-50/4\", \"48-50/5\", \"52-54/2\", \"56-58/2\", \"56-58/3\", \"56-58/4\", \"56-58/5\", \"60-62/2\", \"60-62/3\", \"60-62/4\", \"60-62/5\", \"64-66/2\", \"64-66/3\", \"64-66/4\"]', 'stock': '[18, 10, 10, 3, 4, 15, 20, 21, 2, 9, 10, 19, 6, 10, 5, 7, 6]', 'price': 4200, 'currency': 'RUB'}, page_content='костюм флаер (куртка/п/к)комплектность: курка, полукомбинезон цвет: тёмно синий / василёк ткань ткань \"фаворит-2\" (35% хлопок, 65% полиэстер) 240гр/м2.'),\n",
       " Document(metadata={'category': 'Костюм', 'season': 'Демисезон', 'gender': 'Унисекс', 'material': 'смесовая (65% полиэфир, 35% хлопок)', 'sizes': '44-46/158-164, 44-46/170-176, 44-46/182-188, 48-50/158-164, 48-50/170-176, 48-50/182-188, 48-50/194-200, 52-54/170-176, 52-54/182-188, 52-54/194-200, 56-58/170-176, 56-58/182-188, 56-58/194-200, 60-62/170-176, 60-62/182-188, 60-62/194-200, 64-66/170-176, 64-66/182-188, 68-70/170-176, 68-70/182-188, 72-74/170-176, 72-74/182-188', 'stock': '5, 28, 30, 15, 101, 68, 10, 100, 70, 10, 29, 40, 10, 10, 15, 5, 5, 10, 5, 10, 5, 10', 'price': 3700, 'currency': 'RUB'}, page_content='костюм виват-2 п/к, зеленыйкомплектность: куртка, полукомбинезон ткань: смесовая (65% полиэфир, 35% хлопок), 245 г/м² . цвет: хаки / оранжевый противоэнцефалитный, антимоскитный, антиклещевой костюм'),\n",
       " Document(id='915351ef-7751-45ad-a493-1e49905e533f', metadata={'category': 'Костюм', 'currency': 'RUB', 'gender': 'Унисекс', 'material': '35% хлопок, 65% полиэфир', 'price': 4400, 'season': 'Демисезон', 'sizes': '48-50/170-176, 48-50/182-188, 48-50/194-200, 52-54/170-176, 52-54/182-188, 52-54/194-200, 56-58/170-176, 56-58/182-188, 56-58/194-200, 60-62/182-188, 64-66/182-188', 'stock': '6, 10, 3, 20, 20, 3, 7, 7, 3, 3, 3'}, page_content='костюм галакт (тк.фаворит 240) п/к, т.синий/оранж.комплектность: куртка, полукомбинезон ткань: «фаворит 2» (35% хлопок, 65% полиэфир) 240гр/м2. цвет: темно-синий, оранжевый')]"
      ]
     },
     "execution_count": 64,
     "metadata": {},
     "output_type": "execute_result"
    }
   ],
   "source": [
    "ensemble_retriever.get_relevant_documents(\"флаер костюм\")"
   ]
  },
  {
   "cell_type": "markdown",
   "metadata": {},
   "source": [
    "## BM25 and ElasticSearch"
   ]
  },
  {
   "cell_type": "markdown",
   "metadata": {},
   "source": [
    "### creating db"
   ]
  },
  {
   "cell_type": "code",
   "execution_count": 39,
   "metadata": {},
   "outputs": [],
   "source": [
    "from langchain_elasticsearch import ElasticsearchStore\n",
    "from langchain_openai import OpenAIEmbeddings\n",
    "\n",
    "\n",
    "embeddings = OpenAIEmbeddings(model=\"text-embedding-3-large\")\n",
    "vector_store = ElasticsearchStore(\n",
    "    \"elastic-price-bd\", embedding=embeddings, es_url=\"http://localhost:9200\"\n",
    ")"
   ]
  },
  {
   "cell_type": "code",
   "execution_count": 40,
   "metadata": {},
   "outputs": [],
   "source": [
    "from uuid import uuid4\n",
    "from langchain_core.documents import Document\n",
    "\n",
    "\n",
    "docs = []\n",
    "\n",
    "for file_name in os.listdir(\"datasets_json/json_price_full\"):\n",
    "    file_path = \"datasets_json/json_price_full/\" + file_name\n",
    "    with open(file_path, \"r\", encoding=\"utf-8\") as f:\n",
    "        products = json.load(f)\n",
    "\n",
    "    for product in products:\n",
    "        metadata = product[\"metadata\"]\n",
    "\n",
    "        # Create a LangChain Document object\n",
    "        doc = Document(page_content=product[\"text\"], metadata=metadata)\n",
    "        docs.append(doc)"
   ]
  },
  {
   "cell_type": "code",
   "execution_count": 41,
   "metadata": {},
   "outputs": [
    {
     "data": {
      "text/plain": [
       "['10a658e0-c6f3-40cd-9f64-a7ee1e1e203d',\n",
       " 'e714d123-d606-4ca3-8592-e4acad994828',\n",
       " '20d79934-aa1b-4c31-b349-5880be980f66',\n",
       " '3ab08c21-8a4a-4f6b-8658-eed8a582e15a',\n",
       " 'a0106040-7753-4410-b909-d8ae08f180c4',\n",
       " '5befdf10-03b0-4994-9ab8-edc727d95ed7',\n",
       " 'e5b60562-0622-4b6e-a5cb-cbf2f438b4ec',\n",
       " 'f0ce3a6a-e750-4241-bac0-7237cc5640b1',\n",
       " '681dd3c5-6de9-483c-b361-0d3705284f6f',\n",
       " 'bdffd922-ac6e-4338-83f3-c4a4ad08cba1',\n",
       " '504700b6-728e-4c28-a041-8b46a98119fa',\n",
       " 'bef9694d-498d-498e-83a1-5a8a02ea0c59',\n",
       " '51ec0acc-ba88-4d91-b7e1-4166f1526588',\n",
       " 'b7094ddd-bca2-43a1-b99c-7772b43f50ed',\n",
       " 'c3b37cdd-d524-42db-8928-68434dd8a3c5',\n",
       " 'ac2711a6-988f-47db-8082-9a6f9c71c21d',\n",
       " '78009f87-3677-430a-bbab-2619abf7593c',\n",
       " 'd785e2d0-702f-4471-86f0-cc1655ecc4c2',\n",
       " 'dc2ea74d-15fc-4c99-9e05-5ec1a29fca1e',\n",
       " 'f9271855-4e98-4525-897d-e55331c2b256',\n",
       " '6a9f8fea-b330-400d-8768-27e37110137f',\n",
       " '0e42e89e-0a97-4850-8d63-ef409c87c8f4',\n",
       " 'e8ca7ddd-d230-4eb8-990d-22316bf7f88f',\n",
       " 'fb5a45a9-e67d-4cfd-a0e9-6c26346916a1',\n",
       " '3e0209ac-7caa-4fa0-912a-5457d5bdacef',\n",
       " '3ae15a06-f97b-4fa6-a50a-344b64342b47',\n",
       " '4e231a7b-2dc2-4977-85d2-c3716688039f',\n",
       " '73c186ce-71a4-46a9-a042-8683b3c6b4cb',\n",
       " '5350f913-3829-4dc0-bd96-80aa24e5c9c8',\n",
       " '19f1fe72-80ff-487f-bba7-e8152425a03c',\n",
       " 'a9a374d6-b1bb-43c7-89b2-69a7c0fe023e',\n",
       " 'ce7bb34c-c091-46aa-ac68-149e058029b3',\n",
       " '9034028f-bfc8-4227-8468-f66a0f01be4e',\n",
       " '692aef12-5311-4675-b40b-cda68f726d14',\n",
       " '87142587-4f3f-478a-b433-d2a57f4f78c8',\n",
       " '4cba2bba-431b-4587-9b73-2faec95777eb',\n",
       " '2b0d1ebc-3203-4e33-b4c9-5b6266d8d00c',\n",
       " '9672bd43-02bf-4424-969f-9e47e2666ab2',\n",
       " '9de84cc1-d81d-4bf1-8705-0b82bdcf00ca',\n",
       " '4c6dc8b7-ef4f-42c1-81b6-e084ef94f292',\n",
       " '702c0daf-1ecf-4e7c-a4a5-99ad612ad3e8',\n",
       " 'e09b7a51-e1e1-45f3-9ca7-f7955fe3b5e8',\n",
       " 'ae9d029f-630c-4c10-ae97-473eb9e02772',\n",
       " '2bc62852-cc06-4200-aca9-95771d8fcabd',\n",
       " 'a158140d-3a9b-4511-bd5e-b8f5fa14bbb5',\n",
       " 'd10e02d0-45c5-46bb-8a09-e204885e43d3',\n",
       " '62b31171-b4db-421b-b1d5-d2a2f2fa44b0',\n",
       " '6abda773-8fa1-4b5b-9da1-f5df76253466',\n",
       " 'e81fd170-9a74-4281-888f-82d5029fcc2c',\n",
       " '82831a70-8525-4244-844c-530d3de60c46',\n",
       " '1e7766fb-8834-4e8b-99f6-c435d54776ad',\n",
       " '6ece74e6-b72f-45d7-bcbb-8fa2f1686c4f',\n",
       " 'c2745f55-8088-4204-8e3f-3ecc66186925',\n",
       " 'e0be19ec-e0fd-4ebf-8ed0-4744fe4f29ed',\n",
       " 'cbbb6ca4-b057-4d97-84eb-ff7d59cbcaf0',\n",
       " '7b9a4919-1b59-4f4e-8951-e0a3837df66c',\n",
       " 'd4373453-7fd6-40be-a8ae-8ccab165f346',\n",
       " 'f412592e-d251-455a-8f68-d6664def5e3e',\n",
       " 'c7c1379b-1014-42e0-9379-44d19e1baaa5',\n",
       " 'eab8c6fe-ddee-4499-8d21-5cf889a2878f',\n",
       " 'bbaac494-5e9e-49bd-b145-71dc09bfcbea',\n",
       " 'f0c557ea-bc84-4f6b-a0c0-f9c03ab93fdc',\n",
       " 'a94494f0-6467-4db3-9568-b0aff1bd2184',\n",
       " '89f8e134-e34a-4df8-81ca-8d027267ba7d',\n",
       " '1cc2523c-5038-4bf0-919c-1298016b48dd',\n",
       " '956338dd-9133-404d-8fd2-96a8746a9508',\n",
       " '8041ab7d-d1e0-4203-a2ec-c0ce81b56f81',\n",
       " 'ffc7c24d-5604-416e-9a18-6463bd9d567c',\n",
       " 'bbfc64e6-acd7-478d-9252-211e7e4e86f2',\n",
       " 'b91c98b4-1549-4413-a57d-99aecef7b62c',\n",
       " '9013d777-732d-4e01-ab15-e442c43aec94',\n",
       " 'c78cc8ad-2939-4e7d-9b5b-ee8ae9d7d260',\n",
       " '2d773484-720e-4b0b-a56c-6c2bef3af04f',\n",
       " '2ce85ea0-aa04-47ee-97d5-c2ae70e08da1',\n",
       " 'b7724a33-4c92-4a20-8987-69a56ffd4f00',\n",
       " '2a8c9d8e-f542-4adc-a88b-552c85866927',\n",
       " 'c3fec0b9-7fcd-431f-b83a-8f85b1503c09',\n",
       " '253efb05-0b03-4d36-8a5e-b88181ee829c',\n",
       " '83c828e9-7876-42da-aa76-eb984d99e7d2',\n",
       " 'a6f6b7bf-69f6-4c33-a088-fc075c30f612',\n",
       " '7756530b-7d30-4028-b409-dc9a6d615c7a',\n",
       " '3d9a3c9b-c31a-4ed5-b216-b8cce8de4d68',\n",
       " '946efa71-df54-4c20-8d63-0b1eddc80b8c',\n",
       " '755e54c0-a3fe-47ca-b116-e950d0575c50',\n",
       " 'd9784534-6d77-43cd-bf72-14e61f878e1e',\n",
       " '22500ab5-65f2-40c5-8f78-1577eca0f686',\n",
       " '79ca14b6-854a-4bab-afff-143eea076fa5',\n",
       " '32109afb-0765-451e-b653-3693d1e317bb',\n",
       " '75a20ce5-0ec8-4c21-9156-1c62b59f8094',\n",
       " '55447ed9-a021-48be-a44c-a058dc11397e',\n",
       " 'e3957d46-9baf-4464-aa18-3c5b6f8ff04a',\n",
       " '8eb04f5a-5ecb-4c97-8d23-fc406cdbde37',\n",
       " '9b67f32f-dc3b-4f52-a4d2-f9e5ab15b95e',\n",
       " '0f12552e-ca70-4989-88a5-63c375e49df5',\n",
       " '08b58075-2f56-48d1-b813-51b4df94b22d',\n",
       " 'b2643cde-1e97-4f35-9f66-952d07063e2f',\n",
       " '2b150ab8-c378-4d62-a9e9-10fd07edf9af',\n",
       " 'bfdf2417-9fe9-412a-bad8-7b89ecd6f7ff',\n",
       " 'e913c6b5-e8ac-4fea-a68c-7e58c3cf613a',\n",
       " '2b4cc776-d271-4b43-983d-28d9f506cfe7',\n",
       " 'f27772df-72f2-459b-b183-67a7179d9037',\n",
       " '4ef985ba-a7ff-488a-8756-308bf1f33ee1',\n",
       " '80b118e1-d44e-481f-b6a5-b8abfaef588e',\n",
       " '5eba3554-78ee-4827-8a96-ce3e3cdde33c',\n",
       " '80db847a-992d-4f0a-9631-2ce33c8cd42a',\n",
       " 'fbac696f-41e1-4d51-9a55-75bc32cb308d',\n",
       " '2377a583-bae7-46f2-9955-446b7381b9d2',\n",
       " 'a96adc45-a84d-4f41-a7df-c019246aacbe',\n",
       " '195e4556-423c-4ee0-8195-3ac2be32061c',\n",
       " 'ba29ce78-8221-42f2-bf17-761cc41a84f7',\n",
       " 'ef7963f8-7cfc-4e4c-ab39-c93bfe08caae',\n",
       " '7e86821e-63a8-4a71-baa0-3eaa7baf23b7',\n",
       " '2ecf0890-df04-4a87-8930-dcd166c494fc',\n",
       " '1f6fee4f-b574-4e0a-be13-79120ed46063',\n",
       " '6dede615-fd83-4ae1-8f47-055defb50036',\n",
       " '5a44f318-213c-4273-867e-a8f5a9adb48c',\n",
       " '56f90a18-0712-42d2-941a-7b8332b0ca42',\n",
       " '27b222ca-e2dc-4d30-9c8a-31699e2d0189',\n",
       " '8254bdb0-cc13-4625-9570-dcf37de94565',\n",
       " '74858252-d353-44dd-a8af-d80ad38cd612',\n",
       " 'b3edd4d4-1b22-4435-9357-9270cb7ccda8',\n",
       " '834cb733-58c4-4e89-8a4e-fdd9d2eccea1',\n",
       " '5883b5a0-2ba1-4bcd-ad71-36cba6d89872',\n",
       " 'b7c3a7b2-3374-45f7-9cc0-bdd0f1854271',\n",
       " '0c31c4fc-f1ed-4c32-82af-e80bcd730318',\n",
       " '6653018d-64aa-4481-9909-2118f318c352',\n",
       " 'fe094a3c-fc90-4c0e-b3ad-4d627553c499',\n",
       " 'eade96bb-38a8-4119-b825-8a0d678518df',\n",
       " 'ed614c0e-d9cc-45af-93ee-f888a7faa0c4',\n",
       " '65d956e1-1da8-4307-9223-cfa0afafe7d8',\n",
       " 'adc70c61-15a4-4bea-b75b-5e37098f8f5f',\n",
       " '2b3dd2ba-ca81-4a9c-96c6-3c9a9e4f32ff',\n",
       " 'f8f19ff9-e300-47cb-a3b9-5f978e4502e6',\n",
       " '0352b166-5008-4d8f-a2ad-6cc2957c9b2f',\n",
       " '252f3833-65c2-4aa1-b241-1db6acc329e4',\n",
       " '141c47db-0c5a-4a00-a955-c1d9b28a4056',\n",
       " 'f2d8c89c-3aa2-4729-b164-4bda5220f81f',\n",
       " '48f50042-797e-4c8f-9e96-020ac410e15a',\n",
       " 'ed33bc4e-e9ce-4e6b-8ba3-b0dcd98aa715',\n",
       " '9250ff5e-f41b-43c5-8925-203c11019cca',\n",
       " 'b87ac5a9-71bd-4173-9653-0c4847e85b03',\n",
       " '10bd14d0-604a-486d-af0c-2dd3ce4d3d97',\n",
       " '37b3325e-9289-49bd-af0d-634cff9156b2',\n",
       " '1ba3f847-2a96-4e29-88d7-df5eb4b67f59',\n",
       " 'f4a42178-345d-4427-999b-24bc243d6c92',\n",
       " '4c313793-c48e-45d9-a50f-a10f7337cc8e',\n",
       " '13fa0f9d-e1fd-4517-9d22-42d2e4efd176',\n",
       " '8e410121-3e3e-4bb4-a2f6-dc29f10a18f5',\n",
       " 'f731b3e9-c08f-438d-86da-2392b02712d4',\n",
       " '1d39313b-9656-4883-ac13-2d96f34a4f41',\n",
       " 'b40ac49c-f633-4e67-bbd9-a9c5f7ceb806',\n",
       " '1f26f772-c583-4854-ba93-188e308faa4e',\n",
       " 'db38776d-8424-4304-b5ae-a5571112bed0',\n",
       " 'b8cbdc63-1b64-4b79-bc85-9e9d6b22f5c7',\n",
       " '1950c901-58f6-4af8-afdd-fd1f6d1be386',\n",
       " '2358a87f-a4ac-452a-925d-2f847c8d132f',\n",
       " '2b91968b-f67c-4493-ab98-4807afdfc698',\n",
       " '158bee91-3b91-4688-be8d-a3d943be184f',\n",
       " 'd50e9010-ded6-4ced-8866-052e985c2c65',\n",
       " 'f4a0a39f-846b-4e88-a086-a5bbd94eb2d2',\n",
       " '66ed3176-7709-488f-a378-781837daf1af',\n",
       " '637650d6-9b2d-4633-a6f8-e665ad687165',\n",
       " 'ec733f30-542d-4d5c-9898-a9e9721f755a',\n",
       " '6cd27ecc-c0df-447f-8c6d-493586e5e2b5',\n",
       " 'b615f001-fbc6-4bb0-b911-76e2ce79e915',\n",
       " 'a75f561e-ad33-4b16-a45c-e566ac3fc4af',\n",
       " 'ddfb8e20-f340-4999-9633-c20a6e19e0ee',\n",
       " '5d07590e-7882-4d79-b759-414edb766760',\n",
       " 'bf59ae3a-3a92-4b96-8b0e-0d577ad4ae06',\n",
       " '18f4bcf4-5f00-4fb8-acd4-914e523c9596',\n",
       " '716eafec-2ebe-46aa-9ccd-dca34c22998e',\n",
       " 'ff9fad90-8331-4fd6-8156-29ffb850ee3a',\n",
       " '19220da2-3fa5-474b-aa40-884676405ad5',\n",
       " 'abe83106-dc30-4dfe-b861-bc70a92710b3',\n",
       " '4c345a2b-a264-4c1d-bccb-78de1b66d1dd',\n",
       " 'dc152817-0402-4620-96a0-4f9e4b5b1cc2',\n",
       " '8c456779-4120-440e-8d94-584ac728c8cf',\n",
       " '46b3eb19-1c73-45e5-8ac9-c1f449023d89',\n",
       " 'f2a2ec05-5648-4357-b1bd-b500a130e48c',\n",
       " 'efccf3e8-ecf6-4adf-81f7-4ca7d021a755',\n",
       " '52730aed-d9f5-4cea-bf9f-9815e5386a3d',\n",
       " 'c0bee968-8914-406f-829b-5008987e80f7',\n",
       " '61addc71-9eda-476e-a274-cf3ff10c3eff',\n",
       " '3a2bec13-7b3c-4de2-8784-cfd050689205',\n",
       " 'ed6a018d-28b9-4103-9472-5c2e381222e1',\n",
       " '2a2ade1d-c4ab-4e07-aa25-f57ceac7908b',\n",
       " 'c7e88453-1d6f-4846-80ae-6410382c1507',\n",
       " 'c50cd1d3-7e3f-43e6-b336-413a0bdd192b',\n",
       " '480f0d10-5593-44ef-bc4c-e5b0a131550a',\n",
       " 'f45a52de-ebdd-49cd-8d1b-9273bb757bdd',\n",
       " 'da3569f3-e96e-4cc9-8b7f-9c3deff26438',\n",
       " 'e14da2ea-efce-46ea-a308-221d2b944c93',\n",
       " 'cb0341f2-f5b3-4a08-97b3-c2cf2b6a963d',\n",
       " 'e2c7995b-7066-46a6-9354-18619d1820b1',\n",
       " '89ffb5ec-a73d-47e1-8d53-252b01db0d29',\n",
       " '50ade71d-fcf2-4017-848b-88978ac280c6',\n",
       " '3e252d19-dd33-43b5-844f-3c43988053b3',\n",
       " 'e066c230-89b2-464a-8ba9-3e1a9716ad02',\n",
       " '23f1d8df-5e0b-4b61-8145-792b730ad1b5',\n",
       " '2cf71a85-316b-48da-841f-bb2393a874d0',\n",
       " '48245881-0c48-462c-b5aa-c21a0c5228da',\n",
       " 'b5529552-9b7a-46ad-8c60-24cd15ca3171',\n",
       " '26b29c3a-c6b6-4f2b-8eed-fca78629c9b4',\n",
       " '04e1985d-e9da-4922-a2e5-3d17bca7c4eb',\n",
       " '11848bbd-93ff-4e0b-a3f1-f302dd296fcc',\n",
       " 'e3832a7c-a4f7-42e6-9483-54b072535d3e',\n",
       " '63dcf59a-1e85-45db-855e-9838ec62a49b',\n",
       " 'f3cfd71a-af25-4f61-8888-9ad6d85e99b2',\n",
       " 'a257c5e4-38eb-4094-87e1-1c459f865566',\n",
       " '1d09806e-b0d4-4de2-a91c-7b8cba9525e8',\n",
       " 'f623446e-a795-49b5-91a6-2378638d72a2',\n",
       " '7f80e3e8-f753-4063-a0cf-cd04b434a63a',\n",
       " '0882bbe8-3380-4e84-9d7e-1c9a42a8f049',\n",
       " '82093d08-7ace-44fb-bc66-4d3ac59a8e5d',\n",
       " '64a1e710-5a89-4b5a-8ab4-2f6358176382',\n",
       " 'abefb7d2-cbab-4974-8eaf-f3cab590313e',\n",
       " 'dcb04708-3a88-40f4-8933-cfde9853d49f',\n",
       " '05c9d8a0-8a9d-43eb-8e19-9e752c84d803',\n",
       " '251cd4f9-bb54-4619-b265-af16001578b8',\n",
       " '06c406c1-dd97-463d-87fa-fbc338d9b781',\n",
       " '12eec2ce-1e54-4902-a701-a5350c220a7f',\n",
       " '05c61933-3f27-46ea-84c6-28a5873f0127',\n",
       " '92f771fe-b2f6-4b77-9f97-cdf882d9272b',\n",
       " '5715ac43-0233-4420-99cc-a1ebcd474f61',\n",
       " '2e6cc1af-cf72-4d3e-9ff3-28b5b73d371f',\n",
       " '1de1864f-3a18-447e-8275-c1780a08ab02',\n",
       " '1172700e-13bd-448c-b821-0fd8f625f092',\n",
       " 'df554148-2de4-4bb2-abe0-dc18096389ff',\n",
       " '1f59de96-d6ae-4807-b21f-686a67daa67f',\n",
       " 'e6e94c06-7287-45b0-ab8b-4bd947956225',\n",
       " '0ade1a8c-99ea-439b-90a2-ab4487e3e646',\n",
       " 'c46994df-9f20-4df3-a530-e726b7d7f64a',\n",
       " 'c7bdb226-3842-490d-9e2d-9ed748629a98',\n",
       " '63a4fe52-608c-4eb2-b19f-3001974b9f7f',\n",
       " '31e7b0a4-1a80-4e8e-8993-4c952c8b2996',\n",
       " 'da412b6d-9f0e-4986-a537-2679953bd665',\n",
       " '17fe9cf3-2da9-4e72-a059-cc1d2d35191a',\n",
       " '27fd0798-d2f6-40ba-b9cb-fd112a7d3b53',\n",
       " 'de7a4512-1d0a-4372-b7fc-8f2f4ca20bde',\n",
       " '624b12ee-6f1b-4325-adf7-25f9772f953b',\n",
       " 'a9bcb48e-aba1-4b38-a3cd-ba7c11b60c0d',\n",
       " '1f3ec673-a60c-4f8e-9ade-b9fe0986411c',\n",
       " 'b3162228-c1ff-43bc-ada5-70c82d72ad71',\n",
       " '82904a08-d625-4e65-ad97-a2958a5d437a',\n",
       " '9560d181-23d9-40e1-aac6-6be0fe5ef4e9',\n",
       " '35e57977-663d-4208-8361-0a9315ead33a',\n",
       " 'f6d8a7bf-5d8b-4fd3-b21f-f2f06e7fe32e',\n",
       " '795dd50f-3dcd-47fb-9ab1-cb9b4f712fbc',\n",
       " '2c712f5c-c6e9-42ab-8af4-cc74d0b4cd1b',\n",
       " 'e0bec2c9-d5b4-4ada-87ea-1917b8d025b3',\n",
       " '69e39084-3152-47cf-88e7-d047a0b7e161',\n",
       " 'daf90acd-29a2-4769-bcad-92242d40dfe0',\n",
       " '2d357454-3df0-487f-bb1d-8f63f57257d3',\n",
       " 'd81eb7bf-ac11-4971-a09d-0b7584836200',\n",
       " '8b8fd60f-d436-405a-bba3-6e0228c4c7c9',\n",
       " '23f0f3a4-85a1-4037-ba82-0a7de7c0e187',\n",
       " 'f64ef54e-3e4f-474c-8970-7a5017e3b8a4',\n",
       " '140aeede-142f-4b4e-8f65-357949fca7c0',\n",
       " 'c7a6b830-8983-48fd-aed0-5f5d48a94dac',\n",
       " '1e6f9539-5c0c-4f9b-8ac6-7edff24dcbfb',\n",
       " 'dc565a89-f5c4-4f65-b169-9442c271592f',\n",
       " '0b3a36fb-43db-4dff-8af1-00558c3a85bd',\n",
       " '45c60b6b-e889-4f59-984f-be6f2a24f29b',\n",
       " '0b00820c-bab5-4f52-90b1-94c0bf4951b4',\n",
       " '70a6548d-eeac-43c4-81d9-f8f2b91c493a',\n",
       " '4dd05b79-dc18-4cef-ab3f-efa57a9b18d8',\n",
       " '6fe73ea7-974e-4ab6-97ec-66ce795e6729',\n",
       " '03df0a90-cbee-462a-af36-fcc6791995fd',\n",
       " '9407294a-e636-4844-8b95-3a7985cdfbb6',\n",
       " 'cb3bbc79-c3b7-4bf5-a389-14ce95631995',\n",
       " '6af253b5-727d-4e6e-9e19-0ee34784d681',\n",
       " '12cebc55-fd59-4a9c-8c92-61dc97f2ac4c',\n",
       " '6d507948-ab94-453a-99f2-598d6b19fe46',\n",
       " '057928a5-8a48-4e5c-858c-93d171976076',\n",
       " 'beb778c9-be41-480f-9982-31b99d2c44ef',\n",
       " 'fd16ae8f-68c0-4fe3-80dd-d84f5c3a1f4d',\n",
       " '5ca565d8-5e53-4146-aa73-59425dc1cfad',\n",
       " 'fd65f123-adc1-4cbc-b2f1-f9cb0ee29641',\n",
       " '5b1f4d2d-8470-4792-89ea-a9c738e735bc',\n",
       " '1ce3049f-2507-46d7-a53c-563faf581ee6',\n",
       " 'f8f5640e-8bc7-40ce-88fd-a7113b9fab93',\n",
       " '5feadcd2-ce7a-4b31-8f1a-2dafbefcd295',\n",
       " '7b8a2ae6-50af-4198-930b-5d9b9e2660d7',\n",
       " '9dea9477-307d-43c1-8b12-feef0b7f449a',\n",
       " 'b9759f1f-2bbe-401c-9d7e-d705a1da6a62',\n",
       " '17d71167-3caf-4e98-9c00-366adb94cc46',\n",
       " 'c0ac44ac-3b35-4824-b403-a066378f0758',\n",
       " '1946ba97-8a5f-4ae4-8062-90a127bf85b6',\n",
       " '3fd0a0c3-5e59-4f24-a8eb-9db41f85584c',\n",
       " '20c6136b-7998-4dd3-88b8-2149092ea7f7',\n",
       " 'd0f01cbc-b2d4-490c-9415-9d1ee25b0f80',\n",
       " '97fa6e87-f949-45e3-a5a3-4d6dfaeeb621',\n",
       " '037ae900-e801-4cd1-86d9-98fee1ee7490',\n",
       " '5500dc8e-f788-43a5-98e6-dbe34f218794',\n",
       " '71d01e30-9320-4763-b86d-4917ba6439e9',\n",
       " 'cea07681-ea0b-4137-8839-1fa452f53e45',\n",
       " '60619198-6a95-4146-8fac-9aece504e3da',\n",
       " 'ee8b1e13-e426-4543-85fc-18acbfe84ec8',\n",
       " '4cc53e5f-c1d1-45ba-805d-ab3c4e30ab09',\n",
       " '3b58b3d5-9966-4365-b205-6eb2481b7245',\n",
       " 'a46750b8-4692-4a45-aafd-c26fab93791d',\n",
       " '44241bf8-a40e-48ce-a5ff-142d346e99e0',\n",
       " 'd0065b8e-08db-4ee6-9249-7437e3a0d7a3',\n",
       " '7c356576-be39-4e7c-ae32-6200fb1f9d71',\n",
       " 'bd4613ee-d83b-432d-8312-d6cd76c4c047',\n",
       " 'e768d509-0567-4e08-8905-6a7edc346eeb',\n",
       " 'ee25ef6f-aef3-4bbb-b064-b48707482f1d',\n",
       " 'a48e8116-baa4-43bb-9601-ab872e28494d',\n",
       " 'e017aa3c-591e-42d5-803d-e911b94c3bf8',\n",
       " 'f234b4c4-7a45-4904-9f34-a06271aa6db8',\n",
       " '6a4d6861-2816-4c88-a233-6ee1fa607ec1',\n",
       " '1848996d-8e9a-4389-a35b-f2579c0287b8',\n",
       " 'a49f88e5-ef96-4a82-8742-16b8efe44ce2',\n",
       " '80fcd44b-523a-43b0-ab46-6d5a0c8ff0b5',\n",
       " '1b568ce9-df83-48b9-83a8-af51723d6072',\n",
       " '0197869a-038f-4d7a-ace9-ad51a29ea153',\n",
       " '2c6dc8e1-be86-4f53-8ab9-a4960b741ffc',\n",
       " '9996fc57-ea81-4773-8ac4-c468c95a65d8',\n",
       " 'a44c50ba-ebaa-4b4f-93af-9497bfd29bdf',\n",
       " 'e541a86b-6f8e-4d53-b0bb-7e6027704e9c',\n",
       " 'bbc0bdff-cbb8-4537-a7b1-7fbfa4136f90',\n",
       " 'fa93da8f-db0b-46d5-a329-58f9f3297eeb',\n",
       " '1377b8e3-81cd-4c73-9cf8-2339e36116b9',\n",
       " 'c90a89e4-e52e-4833-85a7-96c0dcd13b3e',\n",
       " '5273ad59-48d2-49c9-be9b-72d03cc06bd8',\n",
       " 'c89227cd-7317-4ea2-a241-6c39b34fa70b',\n",
       " 'ef4ed907-10fe-4239-9210-0ee667ff048a',\n",
       " '2da492e9-47c4-4254-953f-ac08aa12c5fc',\n",
       " 'c9380977-ba74-4b64-9810-9d470230b9e4',\n",
       " 'c7f4a642-dfe5-41a0-a9f8-17e2171fea20',\n",
       " 'f327f4ae-e371-4d86-bc84-4370bf531839',\n",
       " 'bfbd28ef-3313-4e10-bea7-5975a7e3ffce',\n",
       " 'b0cdc7e0-fdf1-40f9-9d79-351a48d6f9c8',\n",
       " '7aa3f06d-7e5c-462a-9afe-391a1d81e00a',\n",
       " '8e687c4c-fbc3-4b80-a3e1-41cb6c6015e4',\n",
       " '8e5163f7-4c7b-42db-bfcd-d1ff39af84df',\n",
       " 'fbd4f8a8-f981-4dbf-86c8-8340055f1ab9',\n",
       " '6eb138f2-f2c3-40b9-b6d0-2cdad69186ca',\n",
       " 'd034bc7c-958a-4e3a-8ff2-86c80e92417a',\n",
       " '72764652-30d6-4e09-bcf7-9420abc4880a',\n",
       " '3be0e627-e2c3-40e4-bdf7-d1169819b75f',\n",
       " '69b5da7b-8c77-4a56-aa57-5e361eb78b74',\n",
       " '83ea0598-5533-4296-85a3-c77cc798c88d',\n",
       " '18ad4744-3105-49bd-b0ff-10f16a7c18e9',\n",
       " '5e404522-ceb8-45d7-8db4-69addd6c7976',\n",
       " 'a88917c6-d24a-4b4e-b54a-1b694b3f5ae2',\n",
       " 'eeb2135b-f57e-49b2-9f92-35961ffe20b7',\n",
       " 'd67e2784-8f78-4279-af54-332e6fae77cc',\n",
       " 'ede00755-f32f-4ef1-806b-7cc0e6ec8f15',\n",
       " '63f0f4de-6aad-4477-bf67-b9d420024a6d',\n",
       " 'f73a5f6f-4d3d-49e9-99d1-3ee04da85b2a',\n",
       " 'fafefbde-8ea5-4d80-ae68-fcda8cf3185f',\n",
       " '03f0f2db-3636-4acf-b4b6-3f79e61b5330',\n",
       " '5e9ca532-bf92-414f-ad1a-e9aaeaed9f5d',\n",
       " 'd22c25d3-af76-42d9-9863-81cad0b6a872',\n",
       " 'cf39a038-196f-4318-84b8-b765ada8cea5',\n",
       " 'cfd3624d-67ed-4e0f-9a16-d50f7e87fe97',\n",
       " '0f9b6f27-b71f-4e8f-8bb8-9c8dff7f3995',\n",
       " 'f09c847b-14d3-4ded-97b0-a72595060895',\n",
       " '421e5fe7-1d6f-4822-b9a2-7a6ec332f31b',\n",
       " '28a603d5-50f1-4d2f-ad9e-dc570f27e212',\n",
       " '5a080437-7672-4e53-ad5c-932db9ac3f5c',\n",
       " '5e3838c6-cf8f-470f-8e05-a0f9593d93bb',\n",
       " '351b72b8-ec2d-4aae-8438-af9eedc530a8',\n",
       " '1287571a-4bab-40e3-9392-c52c1bb1e984',\n",
       " '63786c0b-357e-41fc-91ca-4297db2528bd',\n",
       " 'cdff6e3c-1755-4e26-8505-caaeca504884',\n",
       " '5f3cdf5d-2102-4f9a-b0d2-63666dd631dc',\n",
       " '96c3cd69-dc77-49fe-9ffa-c4e36b31d0be',\n",
       " '800ba0c1-468a-441f-bac5-160ccc02308d',\n",
       " 'adcb5667-e30a-4954-a0e3-cc8917452081',\n",
       " 'be0569e4-0071-4c52-bff8-c416a163beb4',\n",
       " '286f3dfa-7f7a-4436-8bd9-523157285b7b',\n",
       " '062bf0df-9703-4bf2-add1-f40f49a5a371',\n",
       " '9499f6df-cac2-4fde-9b3a-3541699063fa',\n",
       " 'e4f4989c-469a-48ca-ae0c-9ac8dccf6cfa',\n",
       " '45379e1f-c947-4ee6-a756-ea873fbef941',\n",
       " '613fb369-a515-4467-a134-cb10e3b32890',\n",
       " '1297766e-64a6-4b07-a55a-d2d2305e428e',\n",
       " '133256f3-52c8-4012-bedc-4a6eff3098a1',\n",
       " 'a4f86e42-f18a-4594-a9dc-15aee80e7360',\n",
       " 'b99b795b-f2a6-43f8-97dc-231b43629d49',\n",
       " '781dfb11-54c4-4cdd-9bf4-a32cbc8d24f4',\n",
       " '1beb7ac4-77f7-49a5-82e0-6cbdd7ffc99b',\n",
       " '3d917e6f-fd11-41a3-bebe-f4b9a8ce47d6',\n",
       " '4ca7e0a7-04c0-4c8d-912b-cc5e17a780e9',\n",
       " '3b1ccf53-1379-47b3-91c9-29279676924e',\n",
       " '3ed7ebef-b68e-45d5-9b36-472f1cf187d9',\n",
       " '47674f0d-7fab-46f7-a0f6-ac334f1725f0',\n",
       " 'a0db1da9-f9bd-42d0-84c8-cd6b7b60b950',\n",
       " '31639d7c-b49f-4652-bf4a-26a10535028b',\n",
       " 'e01515f9-5e25-4d70-8676-c6ef20d05efa',\n",
       " '187903f9-94e6-4b6b-8e82-f20c2953d208',\n",
       " 'ce9463a4-db1e-49e8-9c97-b80d3495eb80',\n",
       " '67901099-72d3-477e-80d3-2254059aef78',\n",
       " '10ac638a-792e-414f-b5a3-8b4e0acbef02',\n",
       " '748a3fc3-339f-48a0-b2e9-7587677ff7b4',\n",
       " '25336209-f17e-4908-9519-ffadae3d28b3',\n",
       " 'b2523ce2-e25b-4d78-9cc9-178335f73add',\n",
       " '65428222-540f-4e27-a0bb-6969f07e1c10',\n",
       " '2b2de340-9a76-44d9-8274-99d77318f72d',\n",
       " '51b61b5f-782b-4782-87bf-d11f872c4c1e',\n",
       " 'abf40cdb-023d-4ad8-b344-54a50cf97571',\n",
       " '9fb1290c-330d-4f1e-94e8-b22219a2ff6f',\n",
       " '975afb09-c782-42b8-a3d8-2145cdee96dc',\n",
       " '0ec0715e-32bf-427b-8b66-84dd74bb7c78',\n",
       " 'e1df4412-812c-4aa7-b3e0-b872225139e5',\n",
       " 'ddfd7e59-f053-4fb8-83e5-2724b66c2f73',\n",
       " '042095e3-5d4f-4913-903a-7da2a146eaa1',\n",
       " '05a297e2-0bc9-4d5c-8c27-a40d5698f5d1',\n",
       " '7f049af6-de14-4498-8ccd-df0b85761db9',\n",
       " '471c82b7-3626-4747-aefa-db8a58d7d53b',\n",
       " 'a5917c5f-c4bb-4949-a33e-e00694138f41',\n",
       " '02c913bf-5245-4a4c-a9d8-9d9d35a68a65',\n",
       " '24486ac5-d14b-48bd-a967-5728011496e6',\n",
       " '08422319-2caf-4bbc-acb6-c7b2d6ad4b4d',\n",
       " '42aaad63-6389-4794-85d3-79f4f4ece98f',\n",
       " '87e317c1-8e27-42b3-8985-dc4cbcc9c9c5',\n",
       " 'f424f376-6239-4733-80f2-4b3fa6381732',\n",
       " '2befa6d5-3040-4eb4-977f-4267b3d8db3c',\n",
       " '03a533d6-69c2-4775-995a-027f44319fa9',\n",
       " '7b2f8039-e1d1-49f2-8695-7cc7676beb9f',\n",
       " 'a3b8cdb7-8127-4450-9583-5aabc3fa1cb0',\n",
       " 'c49ff754-f6d3-4614-b67f-583b8eca5e77']"
      ]
     },
     "execution_count": 41,
     "metadata": {},
     "output_type": "execute_result"
    }
   ],
   "source": [
    "uuids = [str(uuid4()) for _ in range(len(docs))]\n",
    "\n",
    "vector_store.add_documents(documents=docs, ids=uuids)"
   ]
  },
  {
   "cell_type": "markdown",
   "metadata": {},
   "source": [
    "### using db"
   ]
  },
  {
   "cell_type": "code",
   "execution_count": 45,
   "metadata": {},
   "outputs": [],
   "source": [
    "from langchain.embeddings import OpenAIEmbeddings\n",
    "from elasticsearch import Elasticsearch\n",
    "from langchain_elasticsearch import ElasticsearchStore, DenseVectorStrategy\n",
    "\n",
    "\n",
    "# Initialize Elasticsearch connection\n",
    "es = Elasticsearch(\"http://localhost:9200\")  # Update with your ES instance\n",
    "\n",
    "# Define index name\n",
    "index_name = \"elastic-price-bd\"\n",
    "\n",
    "# Load embeddings model\n",
    "embedding_model = OpenAIEmbeddings(model=\"text-embedding-3-large\")\n",
    "\n",
    "# Initialize ElasticsearchStore for vector search\n",
    "vector_store = ElasticsearchStore.from_documents(\n",
    "    documents=docs,\n",
    "    index_name=index_name,\n",
    "    embedding=embedding_model,\n",
    "    es_connection=es,\n",
    "    strategy=DenseVectorStrategy(hybrid=True)\n",
    ")"
   ]
  },
  {
   "cell_type": "code",
   "execution_count": null,
   "metadata": {},
   "outputs": [],
   "source": [
    "retriever = vector_store.as_retriever()"
   ]
  },
  {
   "cell_type": "code",
   "execution_count": 47,
   "metadata": {},
   "outputs": [
    {
     "ename": "BadRequestError",
     "evalue": "BadRequestError(400, 'parsing_exception', 'Unknown key for a START_OBJECT in [retriever].')",
     "output_type": "error",
     "traceback": [
      "\u001b[0;31m---------------------------------------------------------------------------\u001b[0m",
      "\u001b[0;31mBadRequestError\u001b[0m                           Traceback (most recent call last)",
      "Cell \u001b[0;32mIn[47], line 1\u001b[0m\n\u001b[0;32m----> 1\u001b[0m \u001b[43mretriever\u001b[49m\u001b[38;5;241;43m.\u001b[39;49m\u001b[43minvoke\u001b[49m\u001b[43m(\u001b[49m\u001b[38;5;124;43m\"\u001b[39;49m\u001b[38;5;124;43mкепка\u001b[39;49m\u001b[38;5;124;43m\"\u001b[39;49m\u001b[43m)\u001b[49m\n",
      "File \u001b[0;32m~/miniconda3/envs/genai/lib/python3.10/site-packages/langchain_core/retrievers.py:259\u001b[0m, in \u001b[0;36mBaseRetriever.invoke\u001b[0;34m(self, input, config, **kwargs)\u001b[0m\n\u001b[1;32m    257\u001b[0m _kwargs \u001b[38;5;241m=\u001b[39m kwargs \u001b[38;5;28;01mif\u001b[39;00m \u001b[38;5;28mself\u001b[39m\u001b[38;5;241m.\u001b[39m_expects_other_args \u001b[38;5;28;01melse\u001b[39;00m {}\n\u001b[1;32m    258\u001b[0m \u001b[38;5;28;01mif\u001b[39;00m \u001b[38;5;28mself\u001b[39m\u001b[38;5;241m.\u001b[39m_new_arg_supported:\n\u001b[0;32m--> 259\u001b[0m     result \u001b[38;5;241m=\u001b[39m \u001b[38;5;28;43mself\u001b[39;49m\u001b[38;5;241;43m.\u001b[39;49m\u001b[43m_get_relevant_documents\u001b[49m\u001b[43m(\u001b[49m\n\u001b[1;32m    260\u001b[0m \u001b[43m        \u001b[49m\u001b[38;5;28;43minput\u001b[39;49m\u001b[43m,\u001b[49m\u001b[43m \u001b[49m\u001b[43mrun_manager\u001b[49m\u001b[38;5;241;43m=\u001b[39;49m\u001b[43mrun_manager\u001b[49m\u001b[43m,\u001b[49m\u001b[43m \u001b[49m\u001b[38;5;241;43m*\u001b[39;49m\u001b[38;5;241;43m*\u001b[39;49m\u001b[43m_kwargs\u001b[49m\n\u001b[1;32m    261\u001b[0m \u001b[43m    \u001b[49m\u001b[43m)\u001b[49m\n\u001b[1;32m    262\u001b[0m \u001b[38;5;28;01melse\u001b[39;00m:\n\u001b[1;32m    263\u001b[0m     result \u001b[38;5;241m=\u001b[39m \u001b[38;5;28mself\u001b[39m\u001b[38;5;241m.\u001b[39m_get_relevant_documents(\u001b[38;5;28minput\u001b[39m, \u001b[38;5;241m*\u001b[39m\u001b[38;5;241m*\u001b[39m_kwargs)\n",
      "File \u001b[0;32m~/miniconda3/envs/genai/lib/python3.10/site-packages/langchain_core/vectorstores/base.py:1073\u001b[0m, in \u001b[0;36mVectorStoreRetriever._get_relevant_documents\u001b[0;34m(self, query, run_manager, **kwargs)\u001b[0m\n\u001b[1;32m   1071\u001b[0m _kwargs \u001b[38;5;241m=\u001b[39m \u001b[38;5;28mself\u001b[39m\u001b[38;5;241m.\u001b[39msearch_kwargs \u001b[38;5;241m|\u001b[39m kwargs\n\u001b[1;32m   1072\u001b[0m \u001b[38;5;28;01mif\u001b[39;00m \u001b[38;5;28mself\u001b[39m\u001b[38;5;241m.\u001b[39msearch_type \u001b[38;5;241m==\u001b[39m \u001b[38;5;124m\"\u001b[39m\u001b[38;5;124msimilarity\u001b[39m\u001b[38;5;124m\"\u001b[39m:\n\u001b[0;32m-> 1073\u001b[0m     docs \u001b[38;5;241m=\u001b[39m \u001b[38;5;28;43mself\u001b[39;49m\u001b[38;5;241;43m.\u001b[39;49m\u001b[43mvectorstore\u001b[49m\u001b[38;5;241;43m.\u001b[39;49m\u001b[43msimilarity_search\u001b[49m\u001b[43m(\u001b[49m\u001b[43mquery\u001b[49m\u001b[43m,\u001b[49m\u001b[43m \u001b[49m\u001b[38;5;241;43m*\u001b[39;49m\u001b[38;5;241;43m*\u001b[39;49m\u001b[43m_kwargs\u001b[49m\u001b[43m)\u001b[49m\n\u001b[1;32m   1074\u001b[0m \u001b[38;5;28;01melif\u001b[39;00m \u001b[38;5;28mself\u001b[39m\u001b[38;5;241m.\u001b[39msearch_type \u001b[38;5;241m==\u001b[39m \u001b[38;5;124m\"\u001b[39m\u001b[38;5;124msimilarity_score_threshold\u001b[39m\u001b[38;5;124m\"\u001b[39m:\n\u001b[1;32m   1075\u001b[0m     docs_and_similarities \u001b[38;5;241m=\u001b[39m (\n\u001b[1;32m   1076\u001b[0m         \u001b[38;5;28mself\u001b[39m\u001b[38;5;241m.\u001b[39mvectorstore\u001b[38;5;241m.\u001b[39msimilarity_search_with_relevance_scores(\n\u001b[1;32m   1077\u001b[0m             query, \u001b[38;5;241m*\u001b[39m\u001b[38;5;241m*\u001b[39m_kwargs\n\u001b[1;32m   1078\u001b[0m         )\n\u001b[1;32m   1079\u001b[0m     )\n",
      "File \u001b[0;32m~/miniconda3/envs/genai/lib/python3.10/site-packages/langchain_elasticsearch/_sync/vectorstores.py:411\u001b[0m, in \u001b[0;36mElasticsearchStore.similarity_search\u001b[0;34m(self, query, k, fetch_k, filter, custom_query, doc_builder, **kwargs)\u001b[0m\n\u001b[1;32m    386\u001b[0m \u001b[38;5;28;01mdef\u001b[39;00m\u001b[38;5;250m \u001b[39m\u001b[38;5;21msimilarity_search\u001b[39m(\n\u001b[1;32m    387\u001b[0m     \u001b[38;5;28mself\u001b[39m,\n\u001b[1;32m    388\u001b[0m     query: \u001b[38;5;28mstr\u001b[39m,\n\u001b[0;32m   (...)\u001b[0m\n\u001b[1;32m    397\u001b[0m     \u001b[38;5;241m*\u001b[39m\u001b[38;5;241m*\u001b[39mkwargs: Any,\n\u001b[1;32m    398\u001b[0m ) \u001b[38;5;241m-\u001b[39m\u001b[38;5;241m>\u001b[39m List[Document]:\n\u001b[1;32m    399\u001b[0m \u001b[38;5;250m    \u001b[39m\u001b[38;5;124;03m\"\"\"Return Elasticsearch documents most similar to query.\u001b[39;00m\n\u001b[1;32m    400\u001b[0m \n\u001b[1;32m    401\u001b[0m \u001b[38;5;124;03m    Args:\u001b[39;00m\n\u001b[0;32m   (...)\u001b[0m\n\u001b[1;32m    409\u001b[0m \u001b[38;5;124;03m        in descending order of similarity.\u001b[39;00m\n\u001b[1;32m    410\u001b[0m \u001b[38;5;124;03m    \"\"\"\u001b[39;00m\n\u001b[0;32m--> 411\u001b[0m     hits \u001b[38;5;241m=\u001b[39m \u001b[38;5;28;43mself\u001b[39;49m\u001b[38;5;241;43m.\u001b[39;49m\u001b[43m_store\u001b[49m\u001b[38;5;241;43m.\u001b[39;49m\u001b[43msearch\u001b[49m\u001b[43m(\u001b[49m\n\u001b[1;32m    412\u001b[0m \u001b[43m        \u001b[49m\u001b[43mquery\u001b[49m\u001b[38;5;241;43m=\u001b[39;49m\u001b[43mquery\u001b[49m\u001b[43m,\u001b[49m\n\u001b[1;32m    413\u001b[0m \u001b[43m        \u001b[49m\u001b[43mk\u001b[49m\u001b[38;5;241;43m=\u001b[39;49m\u001b[43mk\u001b[49m\u001b[43m,\u001b[49m\n\u001b[1;32m    414\u001b[0m \u001b[43m        \u001b[49m\u001b[43mnum_candidates\u001b[49m\u001b[38;5;241;43m=\u001b[39;49m\u001b[43mfetch_k\u001b[49m\u001b[43m,\u001b[49m\n\u001b[1;32m    415\u001b[0m \u001b[43m        \u001b[49m\u001b[38;5;28;43mfilter\u001b[39;49m\u001b[38;5;241;43m=\u001b[39;49m\u001b[38;5;28;43mfilter\u001b[39;49m\u001b[43m,\u001b[49m\n\u001b[1;32m    416\u001b[0m \u001b[43m        \u001b[49m\u001b[43mcustom_query\u001b[49m\u001b[38;5;241;43m=\u001b[39;49m\u001b[43mcustom_query\u001b[49m\u001b[43m,\u001b[49m\n\u001b[1;32m    417\u001b[0m \u001b[43m    \u001b[49m\u001b[43m)\u001b[49m\n\u001b[1;32m    418\u001b[0m     docs \u001b[38;5;241m=\u001b[39m _hits_to_docs_scores(\n\u001b[1;32m    419\u001b[0m         hits\u001b[38;5;241m=\u001b[39mhits,\n\u001b[1;32m    420\u001b[0m         content_field\u001b[38;5;241m=\u001b[39m\u001b[38;5;28mself\u001b[39m\u001b[38;5;241m.\u001b[39mquery_field,\n\u001b[1;32m    421\u001b[0m         doc_builder\u001b[38;5;241m=\u001b[39mdoc_builder,\n\u001b[1;32m    422\u001b[0m     )\n\u001b[1;32m    423\u001b[0m     \u001b[38;5;28;01mreturn\u001b[39;00m [doc \u001b[38;5;28;01mfor\u001b[39;00m doc, _score \u001b[38;5;129;01min\u001b[39;00m docs]\n",
      "File \u001b[0;32m~/miniconda3/envs/genai/lib/python3.10/site-packages/elasticsearch/helpers/vectorstore/_sync/vectorstore.py:281\u001b[0m, in \u001b[0;36mVectorStore.search\u001b[0;34m(self, query, query_vector, k, num_candidates, fields, filter, custom_query)\u001b[0m\n\u001b[1;32m    278\u001b[0m     query_body \u001b[38;5;241m=\u001b[39m custom_query(query_body, query)\n\u001b[1;32m    279\u001b[0m     logger\u001b[38;5;241m.\u001b[39mdebug(\u001b[38;5;124mf\u001b[39m\u001b[38;5;124m\"\u001b[39m\u001b[38;5;124mCalling custom_query, Query body now: \u001b[39m\u001b[38;5;132;01m{\u001b[39;00mquery_body\u001b[38;5;132;01m}\u001b[39;00m\u001b[38;5;124m\"\u001b[39m)\n\u001b[0;32m--> 281\u001b[0m response \u001b[38;5;241m=\u001b[39m \u001b[38;5;28;43mself\u001b[39;49m\u001b[38;5;241;43m.\u001b[39;49m\u001b[43mclient\u001b[49m\u001b[38;5;241;43m.\u001b[39;49m\u001b[43msearch\u001b[49m\u001b[43m(\u001b[49m\n\u001b[1;32m    282\u001b[0m \u001b[43m    \u001b[49m\u001b[43mindex\u001b[49m\u001b[38;5;241;43m=\u001b[39;49m\u001b[38;5;28;43mself\u001b[39;49m\u001b[38;5;241;43m.\u001b[39;49m\u001b[43mindex\u001b[49m\u001b[43m,\u001b[49m\n\u001b[1;32m    283\u001b[0m \u001b[43m    \u001b[49m\u001b[38;5;241;43m*\u001b[39;49m\u001b[38;5;241;43m*\u001b[39;49m\u001b[43mquery_body\u001b[49m\u001b[43m,\u001b[49m\n\u001b[1;32m    284\u001b[0m \u001b[43m    \u001b[49m\u001b[43msize\u001b[49m\u001b[38;5;241;43m=\u001b[39;49m\u001b[43mk\u001b[49m\u001b[43m,\u001b[49m\n\u001b[1;32m    285\u001b[0m \u001b[43m    \u001b[49m\u001b[43msource\u001b[49m\u001b[38;5;241;43m=\u001b[39;49m\u001b[38;5;28;43;01mTrue\u001b[39;49;00m\u001b[43m,\u001b[49m\n\u001b[1;32m    286\u001b[0m \u001b[43m    \u001b[49m\u001b[43msource_includes\u001b[49m\u001b[38;5;241;43m=\u001b[39;49m\u001b[43mfields\u001b[49m\u001b[43m,\u001b[49m\n\u001b[1;32m    287\u001b[0m \u001b[43m\u001b[49m\u001b[43m)\u001b[49m\n\u001b[1;32m    288\u001b[0m hits: List[Dict[\u001b[38;5;28mstr\u001b[39m, Any]] \u001b[38;5;241m=\u001b[39m response[\u001b[38;5;124m\"\u001b[39m\u001b[38;5;124mhits\u001b[39m\u001b[38;5;124m\"\u001b[39m][\u001b[38;5;124m\"\u001b[39m\u001b[38;5;124mhits\u001b[39m\u001b[38;5;124m\"\u001b[39m]\n\u001b[1;32m    290\u001b[0m \u001b[38;5;28;01mreturn\u001b[39;00m hits\n",
      "File \u001b[0;32m~/miniconda3/envs/genai/lib/python3.10/site-packages/elasticsearch/_sync/client/utils.py:455\u001b[0m, in \u001b[0;36m_rewrite_parameters.<locals>.wrapper.<locals>.wrapped\u001b[0;34m(*args, **kwargs)\u001b[0m\n\u001b[1;32m    452\u001b[0m         \u001b[38;5;28;01mexcept\u001b[39;00m \u001b[38;5;167;01mKeyError\u001b[39;00m:\n\u001b[1;32m    453\u001b[0m             \u001b[38;5;28;01mpass\u001b[39;00m\n\u001b[0;32m--> 455\u001b[0m \u001b[38;5;28;01mreturn\u001b[39;00m \u001b[43mapi\u001b[49m\u001b[43m(\u001b[49m\u001b[38;5;241;43m*\u001b[39;49m\u001b[43margs\u001b[49m\u001b[43m,\u001b[49m\u001b[43m \u001b[49m\u001b[38;5;241;43m*\u001b[39;49m\u001b[38;5;241;43m*\u001b[39;49m\u001b[43mkwargs\u001b[49m\u001b[43m)\u001b[49m\n",
      "File \u001b[0;32m~/miniconda3/envs/genai/lib/python3.10/site-packages/elasticsearch/_sync/client/__init__.py:4357\u001b[0m, in \u001b[0;36mElasticsearch.search\u001b[0;34m(self, index, aggregations, aggs, allow_no_indices, allow_partial_search_results, analyze_wildcard, analyzer, batched_reduce_size, ccs_minimize_roundtrips, collapse, default_operator, df, docvalue_fields, error_trace, expand_wildcards, explain, ext, fields, filter_path, force_synthetic_source, from_, highlight, human, ignore_throttled, ignore_unavailable, include_named_queries_score, indices_boost, knn, lenient, max_concurrent_shard_requests, min_compatible_shard_node, min_score, pit, post_filter, pre_filter_shard_size, preference, pretty, profile, q, query, rank, request_cache, rescore, rest_total_hits_as_int, retriever, routing, runtime_mappings, script_fields, scroll, search_after, search_type, seq_no_primary_term, size, slice, sort, source, source_excludes, source_includes, stats, stored_fields, suggest, suggest_field, suggest_mode, suggest_size, suggest_text, terminate_after, timeout, track_scores, track_total_hits, typed_keys, version, body)\u001b[0m\n\u001b[1;32m   4355\u001b[0m \u001b[38;5;28;01mif\u001b[39;00m __body \u001b[38;5;129;01mis\u001b[39;00m \u001b[38;5;129;01mnot\u001b[39;00m \u001b[38;5;28;01mNone\u001b[39;00m:\n\u001b[1;32m   4356\u001b[0m     __headers[\u001b[38;5;124m\"\u001b[39m\u001b[38;5;124mcontent-type\u001b[39m\u001b[38;5;124m\"\u001b[39m] \u001b[38;5;241m=\u001b[39m \u001b[38;5;124m\"\u001b[39m\u001b[38;5;124mapplication/json\u001b[39m\u001b[38;5;124m\"\u001b[39m\n\u001b[0;32m-> 4357\u001b[0m \u001b[38;5;28;01mreturn\u001b[39;00m \u001b[38;5;28;43mself\u001b[39;49m\u001b[38;5;241;43m.\u001b[39;49m\u001b[43mperform_request\u001b[49m\u001b[43m(\u001b[49m\u001b[43m  \u001b[49m\u001b[38;5;66;43;03m# type: ignore[return-value]\u001b[39;49;00m\n\u001b[1;32m   4358\u001b[0m \u001b[43m    \u001b[49m\u001b[38;5;124;43m\"\u001b[39;49m\u001b[38;5;124;43mPOST\u001b[39;49m\u001b[38;5;124;43m\"\u001b[39;49m\u001b[43m,\u001b[49m\n\u001b[1;32m   4359\u001b[0m \u001b[43m    \u001b[49m\u001b[43m__path\u001b[49m\u001b[43m,\u001b[49m\n\u001b[1;32m   4360\u001b[0m \u001b[43m    \u001b[49m\u001b[43mparams\u001b[49m\u001b[38;5;241;43m=\u001b[39;49m\u001b[43m__query\u001b[49m\u001b[43m,\u001b[49m\n\u001b[1;32m   4361\u001b[0m \u001b[43m    \u001b[49m\u001b[43mheaders\u001b[49m\u001b[38;5;241;43m=\u001b[39;49m\u001b[43m__headers\u001b[49m\u001b[43m,\u001b[49m\n\u001b[1;32m   4362\u001b[0m \u001b[43m    \u001b[49m\u001b[43mbody\u001b[49m\u001b[38;5;241;43m=\u001b[39;49m\u001b[43m__body\u001b[49m\u001b[43m,\u001b[49m\n\u001b[1;32m   4363\u001b[0m \u001b[43m    \u001b[49m\u001b[43mendpoint_id\u001b[49m\u001b[38;5;241;43m=\u001b[39;49m\u001b[38;5;124;43m\"\u001b[39;49m\u001b[38;5;124;43msearch\u001b[39;49m\u001b[38;5;124;43m\"\u001b[39;49m\u001b[43m,\u001b[49m\n\u001b[1;32m   4364\u001b[0m \u001b[43m    \u001b[49m\u001b[43mpath_parts\u001b[49m\u001b[38;5;241;43m=\u001b[39;49m\u001b[43m__path_parts\u001b[49m\u001b[43m,\u001b[49m\n\u001b[1;32m   4365\u001b[0m \u001b[43m\u001b[49m\u001b[43m)\u001b[49m\n",
      "File \u001b[0;32m~/miniconda3/envs/genai/lib/python3.10/site-packages/elasticsearch/_sync/client/_base.py:271\u001b[0m, in \u001b[0;36mBaseClient.perform_request\u001b[0;34m(self, method, path, params, headers, body, endpoint_id, path_parts)\u001b[0m\n\u001b[1;32m    255\u001b[0m \u001b[38;5;28;01mdef\u001b[39;00m\u001b[38;5;250m \u001b[39m\u001b[38;5;21mperform_request\u001b[39m(\n\u001b[1;32m    256\u001b[0m     \u001b[38;5;28mself\u001b[39m,\n\u001b[1;32m    257\u001b[0m     method: \u001b[38;5;28mstr\u001b[39m,\n\u001b[0;32m   (...)\u001b[0m\n\u001b[1;32m    264\u001b[0m     path_parts: Optional[Mapping[\u001b[38;5;28mstr\u001b[39m, Any]] \u001b[38;5;241m=\u001b[39m \u001b[38;5;28;01mNone\u001b[39;00m,\n\u001b[1;32m    265\u001b[0m ) \u001b[38;5;241m-\u001b[39m\u001b[38;5;241m>\u001b[39m ApiResponse[Any]:\n\u001b[1;32m    266\u001b[0m     \u001b[38;5;28;01mwith\u001b[39;00m \u001b[38;5;28mself\u001b[39m\u001b[38;5;241m.\u001b[39m_otel\u001b[38;5;241m.\u001b[39mspan(\n\u001b[1;32m    267\u001b[0m         method,\n\u001b[1;32m    268\u001b[0m         endpoint_id\u001b[38;5;241m=\u001b[39mendpoint_id,\n\u001b[1;32m    269\u001b[0m         path_parts\u001b[38;5;241m=\u001b[39mpath_parts \u001b[38;5;129;01mor\u001b[39;00m {},\n\u001b[1;32m    270\u001b[0m     ) \u001b[38;5;28;01mas\u001b[39;00m otel_span:\n\u001b[0;32m--> 271\u001b[0m         response \u001b[38;5;241m=\u001b[39m \u001b[38;5;28;43mself\u001b[39;49m\u001b[38;5;241;43m.\u001b[39;49m\u001b[43m_perform_request\u001b[49m\u001b[43m(\u001b[49m\n\u001b[1;32m    272\u001b[0m \u001b[43m            \u001b[49m\u001b[43mmethod\u001b[49m\u001b[43m,\u001b[49m\n\u001b[1;32m    273\u001b[0m \u001b[43m            \u001b[49m\u001b[43mpath\u001b[49m\u001b[43m,\u001b[49m\n\u001b[1;32m    274\u001b[0m \u001b[43m            \u001b[49m\u001b[43mparams\u001b[49m\u001b[38;5;241;43m=\u001b[39;49m\u001b[43mparams\u001b[49m\u001b[43m,\u001b[49m\n\u001b[1;32m    275\u001b[0m \u001b[43m            \u001b[49m\u001b[43mheaders\u001b[49m\u001b[38;5;241;43m=\u001b[39;49m\u001b[43mheaders\u001b[49m\u001b[43m,\u001b[49m\n\u001b[1;32m    276\u001b[0m \u001b[43m            \u001b[49m\u001b[43mbody\u001b[49m\u001b[38;5;241;43m=\u001b[39;49m\u001b[43mbody\u001b[49m\u001b[43m,\u001b[49m\n\u001b[1;32m    277\u001b[0m \u001b[43m            \u001b[49m\u001b[43motel_span\u001b[49m\u001b[38;5;241;43m=\u001b[39;49m\u001b[43motel_span\u001b[49m\u001b[43m,\u001b[49m\n\u001b[1;32m    278\u001b[0m \u001b[43m        \u001b[49m\u001b[43m)\u001b[49m\n\u001b[1;32m    279\u001b[0m         otel_span\u001b[38;5;241m.\u001b[39mset_elastic_cloud_metadata(response\u001b[38;5;241m.\u001b[39mmeta\u001b[38;5;241m.\u001b[39mheaders)\n\u001b[1;32m    280\u001b[0m         \u001b[38;5;28;01mreturn\u001b[39;00m response\n",
      "File \u001b[0;32m~/miniconda3/envs/genai/lib/python3.10/site-packages/elasticsearch/_sync/client/_base.py:352\u001b[0m, in \u001b[0;36mBaseClient._perform_request\u001b[0;34m(self, method, path, params, headers, body, otel_span)\u001b[0m\n\u001b[1;32m    349\u001b[0m         \u001b[38;5;28;01mexcept\u001b[39;00m (\u001b[38;5;167;01mValueError\u001b[39;00m, \u001b[38;5;167;01mKeyError\u001b[39;00m, \u001b[38;5;167;01mTypeError\u001b[39;00m):\n\u001b[1;32m    350\u001b[0m             \u001b[38;5;28;01mpass\u001b[39;00m\n\u001b[0;32m--> 352\u001b[0m     \u001b[38;5;28;01mraise\u001b[39;00m HTTP_EXCEPTIONS\u001b[38;5;241m.\u001b[39mget(meta\u001b[38;5;241m.\u001b[39mstatus, ApiError)(\n\u001b[1;32m    353\u001b[0m         message\u001b[38;5;241m=\u001b[39mmessage, meta\u001b[38;5;241m=\u001b[39mmeta, body\u001b[38;5;241m=\u001b[39mresp_body\n\u001b[1;32m    354\u001b[0m     )\n\u001b[1;32m    356\u001b[0m \u001b[38;5;66;03m# 'X-Elastic-Product: Elasticsearch' should be on every 2XX response.\u001b[39;00m\n\u001b[1;32m    357\u001b[0m \u001b[38;5;28;01mif\u001b[39;00m \u001b[38;5;129;01mnot\u001b[39;00m \u001b[38;5;28mself\u001b[39m\u001b[38;5;241m.\u001b[39m_verified_elasticsearch:\n\u001b[1;32m    358\u001b[0m     \u001b[38;5;66;03m# If the header is set we mark the server as verified.\u001b[39;00m\n",
      "\u001b[0;31mBadRequestError\u001b[0m: BadRequestError(400, 'parsing_exception', 'Unknown key for a START_OBJECT in [retriever].')"
     ]
    }
   ],
   "source": [
    "retriever.invoke(\"кепка\")"
   ]
  }
 ],
 "metadata": {
  "kernelspec": {
   "display_name": "genai",
   "language": "python",
   "name": "python3"
  },
  "language_info": {
   "codemirror_mode": {
    "name": "ipython",
    "version": 3
   },
   "file_extension": ".py",
   "mimetype": "text/x-python",
   "name": "python",
   "nbconvert_exporter": "python",
   "pygments_lexer": "ipython3",
   "version": "3.10.16"
  }
 },
 "nbformat": 4,
 "nbformat_minor": 2
}
