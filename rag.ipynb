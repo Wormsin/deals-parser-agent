{
 "cells": [
  {
   "cell_type": "markdown",
   "metadata": {},
   "source": [
    "## Extract tables"
   ]
  },
  {
   "cell_type": "code",
   "execution_count": 2,
   "metadata": {},
   "outputs": [],
   "source": [
    "import re\n",
    "import pymorphy2\n",
    "\n",
    "morph = pymorphy2.MorphAnalyzer()\n",
    "\n",
    "def preprocess_text(text):\n",
    "    text = text.lower()  # Lowercase\n",
    "    text = re.sub(r'\\s+', ' ', text).strip()  # Remove extra spaces\n",
    "    words = text.split()\n",
    "    lemmatized_words = [morph.parse(word)[0].normal_form for word in words]\n",
    "    return ' '.join(lemmatized_words)"
   ]
  },
  {
   "cell_type": "code",
   "execution_count": 3,
   "metadata": {},
   "outputs": [],
   "source": [
    "from docx import Document\n",
    "import json\n",
    "\n",
    "\n",
    "def extract_data(file_path):\n",
    "    doc = Document(file_path)\n",
    "    data = []\n",
    "    date = doc.paragraphs[1].text.strip()\n",
    "    date = re.sub(r'[а-яА-Я\\s]', '', date)\n",
    "    for table in doc.tables:\n",
    "        for row in table.rows[1:]:  # Пропускаем заголовок\n",
    "            cells = row.cells\n",
    "            if cells[2].text.strip() == \"\" or cells[3].text.strip() == \"\":\n",
    "                continue\n",
    "            if \"костюм\" in preprocess_text(cells[0].text.strip()):\n",
    "                type_clothes = \"костюм\"\n",
    "            else:\n",
    "                type_clothes = \"other\"\n",
    "            \n",
    "            item = {\n",
    "                \"id\": len(data) + 1,  # Генерация ID\n",
    "                \"name\": cells[0].text.strip(),\n",
    "                \"type\":type_clothes,\n",
    "                \"date\":date,\n",
    "                \"description\": preprocess_text(f\"{cells[0].text.strip()} {cells[1].text.strip()} {cells[2].text.strip()}\"),\n",
    "                \"price\": cells[3].text.strip(),  # Преобразуем в число\n",
    "                \"currency\": \"руб.\",\n",
    "                \"source\": file_path\n",
    "            }\n",
    "            data.append(item)\n",
    "    \n",
    "    return data"
   ]
  },
  {
   "cell_type": "code",
   "execution_count": 5,
   "metadata": {},
   "outputs": [],
   "source": [
    "# Сохранение в JSON\n",
    "import os \n",
    "from pathlib import Path\n",
    "\n",
    "\n",
    "docs = os.listdir('КП')\n",
    "for doc in docs:\n",
    "    filepath = f\"КП/{doc}\"\n",
    "    data = extract_data(filepath)\n",
    "    if data!=[]:\n",
    "        with open(f\"json_db/{Path(filepath).stem}.json\", \"w\", encoding=\"utf-8\") as f:\n",
    "            json.dump(data, f, indent=2, ensure_ascii=False)\n"
   ]
  },
  {
   "cell_type": "markdown",
   "metadata": {},
   "source": [
    "## vector db"
   ]
  },
  {
   "cell_type": "code",
   "execution_count": 6,
   "metadata": {},
   "outputs": [],
   "source": [
    "from langchain.vectorstores import Chroma\n",
    "from langchain_ollama import OllamaEmbeddings\n",
    "from langchain_community.embeddings import HuggingFaceEmbeddings\n",
    "from uuid import uuid4\n",
    "from langchain.document_loaders import JSONLoader\n",
    "\n",
    "\n",
    "\n",
    "def metadata_func(record: dict, metadata: dict) -> dict:\n",
    "    metadata[\"name\"] = record.get(\"name\")\n",
    "    metadata[\"price\"] = record.get(\"price\")\n",
    "    metadata[\"currency\"] = record.get(\"currency\")\n",
    "    metadata[\"type\"] = record.get(\"type\")\n",
    "    metadata[\"date\"] = record.get(\"date\")\n",
    "\n",
    "    return metadata\n",
    "\n",
    "\n",
    "uuids = [str(uuid4()) for _ in range(len(os.listdir(\"json_db\")))]\n",
    "docs = []\n",
    "for file in os.listdir(\"json_db\"):\n",
    "\n",
    "    file_name = \"json_db/\" + file\n",
    "\n",
    "    loader = JSONLoader(\n",
    "        file_path=file_name,\n",
    "        jq_schema=\".[]\",\n",
    "        content_key=\"description\",\n",
    "        metadata_func=metadata_func\n",
    "        #text_content=False\n",
    "    )\n",
    "    document = loader.load()\n",
    "    docs += document\n"
   ]
  },
  {
   "cell_type": "code",
   "execution_count": 7,
   "metadata": {},
   "outputs": [
    {
     "name": "stderr",
     "output_type": "stream",
     "text": [
      "/tmp/ipykernel_20771/3572408945.py:4: LangChainDeprecationWarning: The class `HuggingFaceEmbeddings` was deprecated in LangChain 0.2.2 and will be removed in 1.0. An updated version of the class exists in the :class:`~langchain-huggingface package and should be used instead. To use it run `pip install -U :class:`~langchain-huggingface` and import as `from :class:`~langchain_huggingface import HuggingFaceEmbeddings``.\n",
      "  embedding_model = HuggingFaceEmbeddings(model_name = \"intfloat/multilingual-e5-base\")\n",
      "/home/wormsin/miniconda3/envs/genai/lib/python3.10/site-packages/tqdm/auto.py:21: TqdmWarning: IProgress not found. Please update jupyter and ipywidgets. See https://ipywidgets.readthedocs.io/en/stable/user_install.html\n",
      "  from .autonotebook import tqdm as notebook_tqdm\n"
     ]
    }
   ],
   "source": [
    "from langchain_chroma import Chroma\n",
    "\n",
    "model_name = \"DeepPavlov/rubert-base-cased\"\n",
    "embedding_model = HuggingFaceEmbeddings(model_name = \"intfloat/multilingual-e5-base\")\n",
    "\n",
    "vector_store = Chroma(\n",
    "    collection_name=\"json_collection\",\n",
    "    embedding_function=embedding_model,\n",
    "    persist_directory=\"./chroma_langchain_db\",  # Where to save data locally, remove if not necessary\n",
    ")"
   ]
  },
  {
   "cell_type": "code",
   "execution_count": 8,
   "metadata": {},
   "outputs": [],
   "source": [
    "uuids = [str(uuid4()) for _ in range(len(docs))]"
   ]
  },
  {
   "cell_type": "code",
   "execution_count": null,
   "metadata": {},
   "outputs": [],
   "source": [
    "vector_store.add_documents(documents=docs, ids = uuids)"
   ]
  },
  {
   "cell_type": "markdown",
   "metadata": {},
   "source": [
    "## Retriever"
   ]
  },
  {
   "cell_type": "code",
   "execution_count": 16,
   "metadata": {},
   "outputs": [],
   "source": [
    "retriever = vector_store.as_retriever(search_type = \"mmr\", search_kwargs={\"filter\": {\"type\": \"костюм\"}})"
   ]
  },
  {
   "cell_type": "code",
   "execution_count": 11,
   "metadata": {},
   "outputs": [],
   "source": [
    "def format_docs(docs):\n",
    "    return \"\\n\\n\".join([f\"Date: {doc.metadata['date']}\\nPrice: {doc.metadata['price'] + doc.metadata['currency']}\\nContent: {doc.page_content}\" for doc in docs])"
   ]
  },
  {
   "cell_type": "markdown",
   "metadata": {},
   "source": [
    "## RAG chain"
   ]
  },
  {
   "cell_type": "code",
   "execution_count": 19,
   "metadata": {},
   "outputs": [
    {
     "data": {
      "text/plain": [
       "True"
      ]
     },
     "execution_count": 19,
     "metadata": {},
     "output_type": "execute_result"
    }
   ],
   "source": [
    "from dotenv import load_dotenv\n",
    "load_dotenv()"
   ]
  },
  {
   "cell_type": "code",
   "execution_count": 29,
   "metadata": {},
   "outputs": [],
   "source": [
    "from langchain_openai import ChatOpenAI\n",
    "\n",
    "llm = ChatOpenAI(model_name = \"gpt-4o-mini\")"
   ]
  },
  {
   "cell_type": "code",
   "execution_count": 37,
   "metadata": {},
   "outputs": [],
   "source": [
    "from langchain_core.prompts import PromptTemplate\n",
    "from langchain_core.output_parsers import StrOutputParser\n",
    "\n",
    "\n",
    "template = \"\"\"\n",
    "Задача:\n",
    "Оценить цену нового продукта на основе предоставленного контекста.\n",
    "\n",
    "Инструкции:\n",
    "Пользователь предоставит описание нового продукта.\n",
    "Вам нужно будет использовать цены существующих продуктов из поля \"Price\" и их описания из поля \"Content\".\n",
    "Поле \"Date\" указывает, когда продукт был предложен по указанной цене.\n",
    "Если указана дата, скорректируйте цену с учётом инфляции, увеличив цену на 10% за каждый год в зависимости от разницы между текущей датой и датой контекста.\n",
    "Если поле \"Date\" отсутствует или пустое, не вносите изменений в цену.\n",
    "Чётко объясните, какие параметры повлияли на оценочную цену(перечисли определенные характеристика изделия, если таковые есть и их влияние) \n",
    "и как (например, увеличили или уменьшили стоимость).\n",
    "Предоставьте конкретную числовую цену, если это возможно, с учётом инфляции, если это применимо.\n",
    "Если точную цену определить невозможно, чётко объясните, почему, какие дополнительные данные нужны и какие параметры отсутствуют.\n",
    "Не выдумывайте информацию. Если в контексте нет релевантных данных, просто ответьте: \"Я не знаю.\" с указанием причины. \n",
    "\n",
    "\n",
    "<context>\n",
    "{context}\n",
    "</context>\n",
    "\n",
    "question: {question}\n",
    "\n",
    "\"\"\"\n",
    "prompt = PromptTemplate(input_variables=[\"context\", \"question\"], template=template)\n",
    "\n",
    "llm_chain = prompt | llm | StrOutputParser()"
   ]
  },
  {
   "cell_type": "code",
   "execution_count": 34,
   "metadata": {},
   "outputs": [],
   "source": [
    "from langchain_core.runnables import RunnablePassthrough, RunnableLambda\n",
    "\n",
    "rag_chain = {\"context\":retriever | RunnableLambda(format_docs), \"question\": RunnablePassthrough()} | llm_chain"
   ]
  },
  {
   "cell_type": "code",
   "execution_count": 35,
   "metadata": {},
   "outputs": [],
   "source": [
    "description = \"\"\"КУРТКА:\n",
    "- прямого силуэта\n",
    "- с центральной супатной застёжкой на пять пуговиц и две сквозные вверху борта\n",
    "- полочки и спинка с кокетками из отделочной ткани\n",
    "- по кокеткам проложена СОП шириной 50 мм\n",
    "- полочки с накладными карманами: одним верхними на левой полочке и двумя нижними\n",
    "- верхний накладной карман с клапаном, застёгивающимся на ленты контакт\n",
    "- нижние накладные карманы с наклонным входом\n",
    "- рукава втачные, с трикотажной манжетой\"\"\"\n"
   ]
  },
  {
   "cell_type": "code",
   "execution_count": null,
   "metadata": {},
   "outputs": [
    {
     "name": "stdout",
     "output_type": "stream",
     "text": [
      "Для оценки цены нового продукта — куртки, описанной вами, я рассмотрел предоставленный контекст и выбрал наиболее подходящие существующие продукты.\n",
      "\n",
      "1. **Первый продукт:** Женский костюм \"бренд 1\"\n",
      "   - **Цена:** 3010 руб.\n",
      "   - **Дата:** 03.04.2023\n",
      "   - **Описание:** Женский костюм с курткой, в описании упоминаются элементы, такие как застёжка на молнию, карманы и использование смесовых тканей, но кроме этого, куртка имеет значительное количество деталей, которые отличаются от вашего описания.\n",
      "\n",
      "2. **Второй продукт:** Костюм сварщика 3 кл.\n",
      "   - **Цена:** 10620 руб.\n",
      "   - **Дата:** 26.01.2023\n",
      "   - **Описание:** Костюм с защитными элементами, выполненный из 100% хлопка, что делает его более специализированным изделием. Цена здесь значительно выше, чем у других костюмов.\n",
      "\n",
      "3. **Третий продукт:** Костюм «стандарт»\n",
      "   - **Цена:** 1200 руб.\n",
      "   - **Дата:** 31.03.2023\n",
      "   - **Описание:** Простая куртка и брюки, но тоже не соответствует требованиям, указанным в вашем новом описании.\n",
      "\n",
      "4. **Четвёртый продукт:** Зимний костюм \"фаворит-1\"\n",
      "   - **Цена:** 5400 руб.\n",
      "   - **Дата:** 23.11.2023\n",
      "   - **Описание:** Более сложная зимняя куртка, имеющая несколько защитных и функциональных деталей. Однако, это более утеплённый вариант.\n",
      "\n",
      "**Анализ:**\n",
      "\n",
      "Учитывая описание вашей куртки, можно предположить, что она может находиться на уровне между первым и четвёртым продуктами, но с учетом функций и характеристик вашей куртки, наиболее разумно было бы оценить её изначально в диапазоне 3000 - 6000 рублей. \n",
      "\n",
      "Однако, если применить корректировку с учётом инфляции, стоит обратить внимание на продукцию с более ранними датами. Продукт за 1200 рублей, предложенный в марте 2023 года, также не стоит сбрасывать с учетной позиции, но его цена явно ниже целевых ожиданий по качеству.\n",
      "\n",
      "**Окончательная оценка:**\n",
      "\n",
      "С учётом всех факторов и на основании приведённых данных, я бы оценил новую куртку в пределах **4000 - 5000 рублей**. Это обосновано её конкурентоспособными характеристиками, функциональностью и современными материалами.\n"
     ]
    }
   ],
   "source": [
    "print(rag_chain.invoke(description))"
   ]
  }
 ],
 "metadata": {
  "kernelspec": {
   "display_name": "genai",
   "language": "python",
   "name": "python3"
  },
  "language_info": {
   "codemirror_mode": {
    "name": "ipython",
    "version": 3
   },
   "file_extension": ".py",
   "mimetype": "text/x-python",
   "name": "python",
   "nbconvert_exporter": "python",
   "pygments_lexer": "ipython3",
   "version": "3.10.16"
  }
 },
 "nbformat": 4,
 "nbformat_minor": 2
}
